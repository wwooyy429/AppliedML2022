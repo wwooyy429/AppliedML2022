{
 "cells": [
  {
   "cell_type": "code",
   "execution_count": 78,
   "metadata": {},
   "outputs": [],
   "source": [
    "import h5py\n",
    "import pandas\n",
    "import numpy as np\n",
    "import pandas as pd\n",
    "import matplotlib.pyplot as plt\n",
    "from sklearn import tree\n",
    "from sklearn.datasets import make_moons\n",
    "from sklearn.tree import DecisionTreeClassifier, plot_tree\n",
    "from sklearn.metrics import accuracy_score\n",
    "from sklearn.model_selection import train_test_split, GridSearchCV, RandomizedSearchCV\n",
    "import shap\n",
    "import lightgbm as lgb \n",
    "import optuna\n",
    "from optuna.samplers import TPESampler\n",
    "from optuna.integration import LightGBMPruningCallback\n",
    "from optuna.pruners import MedianPruner"
   ]
  },
  {
   "cell_type": "code",
   "execution_count": 79,
   "metadata": {},
   "outputs": [
    {
     "name": "stdout",
     "output_type": "stream",
     "text": [
      "Shape of training data set: (162500, 166)\n",
      "Shape of test data set: (160651, 164)\n",
      "Shape of X: (162500, 160)\n",
      "Shape of y: (162500,)\n"
     ]
    },
    {
     "data": {
      "text/html": [
       "<div>\n",
       "<style scoped>\n",
       "    .dataframe tbody tr th:only-of-type {\n",
       "        vertical-align: middle;\n",
       "    }\n",
       "\n",
       "    .dataframe tbody tr th {\n",
       "        vertical-align: top;\n",
       "    }\n",
       "\n",
       "    .dataframe thead th {\n",
       "        text-align: right;\n",
       "    }\n",
       "</style>\n",
       "<table border=\"1\" class=\"dataframe\">\n",
       "  <thead>\n",
       "    <tr style=\"text-align: right;\">\n",
       "      <th></th>\n",
       "      <th>eventNumber</th>\n",
       "      <th>runNumber</th>\n",
       "      <th>actualInteractionsPerCrossing</th>\n",
       "      <th>averageInteractionsPerCrossing</th>\n",
       "      <th>correctedActualMu</th>\n",
       "      <th>correctedAverageMu</th>\n",
       "      <th>correctedScaledActualMu</th>\n",
       "      <th>correctedScaledAverageMu</th>\n",
       "      <th>NvtxReco</th>\n",
       "      <th>p_nTracks</th>\n",
       "      <th>...</th>\n",
       "      <th>p_E5x7_Lr1</th>\n",
       "      <th>p_E5x7_Lr2</th>\n",
       "      <th>p_E5x7_Lr3</th>\n",
       "      <th>p_E7x11_Lr0</th>\n",
       "      <th>p_E7x11_Lr1</th>\n",
       "      <th>p_E7x11_Lr2</th>\n",
       "      <th>p_E7x11_Lr3</th>\n",
       "      <th>p_E7x7_Lr0</th>\n",
       "      <th>p_E7x7_Lr1</th>\n",
       "      <th>index</th>\n",
       "    </tr>\n",
       "  </thead>\n",
       "  <tbody>\n",
       "    <tr>\n",
       "      <th>0</th>\n",
       "      <td>87834187.0</td>\n",
       "      <td>300000.0</td>\n",
       "      <td>26.500000</td>\n",
       "      <td>26.500000</td>\n",
       "      <td>26.500000</td>\n",
       "      <td>26.500000</td>\n",
       "      <td>26.500000</td>\n",
       "      <td>26.500000</td>\n",
       "      <td>18.0</td>\n",
       "      <td>3.0</td>\n",
       "      <td>...</td>\n",
       "      <td>43402.332031</td>\n",
       "      <td>74045.820312</td>\n",
       "      <td>337.980713</td>\n",
       "      <td>273.708801</td>\n",
       "      <td>43091.683594</td>\n",
       "      <td>74447.539062</td>\n",
       "      <td>470.177124</td>\n",
       "      <td>273.708801</td>\n",
       "      <td>43091.683594</td>\n",
       "      <td>0.0</td>\n",
       "    </tr>\n",
       "    <tr>\n",
       "      <th>1</th>\n",
       "      <td>84862668.0</td>\n",
       "      <td>300000.0</td>\n",
       "      <td>35.500000</td>\n",
       "      <td>35.500000</td>\n",
       "      <td>35.500000</td>\n",
       "      <td>35.500000</td>\n",
       "      <td>35.500000</td>\n",
       "      <td>35.500000</td>\n",
       "      <td>23.0</td>\n",
       "      <td>4.0</td>\n",
       "      <td>...</td>\n",
       "      <td>36774.925781</td>\n",
       "      <td>58228.847656</td>\n",
       "      <td>412.321869</td>\n",
       "      <td>10861.282227</td>\n",
       "      <td>37433.324219</td>\n",
       "      <td>61805.964844</td>\n",
       "      <td>460.203613</td>\n",
       "      <td>10861.282227</td>\n",
       "      <td>37433.324219</td>\n",
       "      <td>1.0</td>\n",
       "    </tr>\n",
       "    <tr>\n",
       "      <th>2</th>\n",
       "      <td>20869557.0</td>\n",
       "      <td>300000.0</td>\n",
       "      <td>29.490000</td>\n",
       "      <td>29.490000</td>\n",
       "      <td>29.490000</td>\n",
       "      <td>29.490000</td>\n",
       "      <td>29.490000</td>\n",
       "      <td>29.490000</td>\n",
       "      <td>20.0</td>\n",
       "      <td>3.0</td>\n",
       "      <td>...</td>\n",
       "      <td>23413.427734</td>\n",
       "      <td>38875.042969</td>\n",
       "      <td>3492.513672</td>\n",
       "      <td>5705.863281</td>\n",
       "      <td>23728.701172</td>\n",
       "      <td>40497.234375</td>\n",
       "      <td>3333.052734</td>\n",
       "      <td>5705.863281</td>\n",
       "      <td>23728.701172</td>\n",
       "      <td>2.0</td>\n",
       "    </tr>\n",
       "    <tr>\n",
       "      <th>3</th>\n",
       "      <td>42161877.0</td>\n",
       "      <td>300000.0</td>\n",
       "      <td>37.500000</td>\n",
       "      <td>37.500000</td>\n",
       "      <td>37.500000</td>\n",
       "      <td>37.500000</td>\n",
       "      <td>37.500000</td>\n",
       "      <td>37.500000</td>\n",
       "      <td>17.0</td>\n",
       "      <td>2.0</td>\n",
       "      <td>...</td>\n",
       "      <td>27372.955078</td>\n",
       "      <td>104002.000000</td>\n",
       "      <td>921.178040</td>\n",
       "      <td>0.000000</td>\n",
       "      <td>27101.673828</td>\n",
       "      <td>106995.789062</td>\n",
       "      <td>1127.115356</td>\n",
       "      <td>0.000000</td>\n",
       "      <td>27101.673828</td>\n",
       "      <td>3.0</td>\n",
       "    </tr>\n",
       "    <tr>\n",
       "      <th>4</th>\n",
       "      <td>82761614.0</td>\n",
       "      <td>300000.0</td>\n",
       "      <td>59.500000</td>\n",
       "      <td>59.500000</td>\n",
       "      <td>59.500000</td>\n",
       "      <td>59.500000</td>\n",
       "      <td>59.500000</td>\n",
       "      <td>59.500000</td>\n",
       "      <td>33.0</td>\n",
       "      <td>7.0</td>\n",
       "      <td>...</td>\n",
       "      <td>45745.859375</td>\n",
       "      <td>87924.406250</td>\n",
       "      <td>-75.167221</td>\n",
       "      <td>0.000000</td>\n",
       "      <td>45947.109375</td>\n",
       "      <td>93710.968750</td>\n",
       "      <td>-188.182098</td>\n",
       "      <td>0.000000</td>\n",
       "      <td>45947.109375</td>\n",
       "      <td>4.0</td>\n",
       "    </tr>\n",
       "    <tr>\n",
       "      <th>...</th>\n",
       "      <td>...</td>\n",
       "      <td>...</td>\n",
       "      <td>...</td>\n",
       "      <td>...</td>\n",
       "      <td>...</td>\n",
       "      <td>...</td>\n",
       "      <td>...</td>\n",
       "      <td>...</td>\n",
       "      <td>...</td>\n",
       "      <td>...</td>\n",
       "      <td>...</td>\n",
       "      <td>...</td>\n",
       "      <td>...</td>\n",
       "      <td>...</td>\n",
       "      <td>...</td>\n",
       "      <td>...</td>\n",
       "      <td>...</td>\n",
       "      <td>...</td>\n",
       "      <td>...</td>\n",
       "      <td>...</td>\n",
       "      <td>...</td>\n",
       "    </tr>\n",
       "    <tr>\n",
       "      <th>162495</th>\n",
       "      <td>87753440.0</td>\n",
       "      <td>300000.0</td>\n",
       "      <td>59.500000</td>\n",
       "      <td>59.500000</td>\n",
       "      <td>59.500000</td>\n",
       "      <td>59.500000</td>\n",
       "      <td>59.500000</td>\n",
       "      <td>59.500000</td>\n",
       "      <td>34.0</td>\n",
       "      <td>2.0</td>\n",
       "      <td>...</td>\n",
       "      <td>35473.875000</td>\n",
       "      <td>86889.070312</td>\n",
       "      <td>867.511475</td>\n",
       "      <td>1120.453857</td>\n",
       "      <td>36521.750000</td>\n",
       "      <td>88872.992188</td>\n",
       "      <td>748.347656</td>\n",
       "      <td>1120.453857</td>\n",
       "      <td>36521.750000</td>\n",
       "      <td>162495.0</td>\n",
       "    </tr>\n",
       "    <tr>\n",
       "      <th>162496</th>\n",
       "      <td>7746045.0</td>\n",
       "      <td>300000.0</td>\n",
       "      <td>11.490000</td>\n",
       "      <td>11.490000</td>\n",
       "      <td>11.490000</td>\n",
       "      <td>11.490000</td>\n",
       "      <td>11.490000</td>\n",
       "      <td>11.490000</td>\n",
       "      <td>10.0</td>\n",
       "      <td>4.0</td>\n",
       "      <td>...</td>\n",
       "      <td>36722.617188</td>\n",
       "      <td>79933.289062</td>\n",
       "      <td>352.093262</td>\n",
       "      <td>0.000000</td>\n",
       "      <td>36812.964844</td>\n",
       "      <td>83049.414062</td>\n",
       "      <td>665.589417</td>\n",
       "      <td>0.000000</td>\n",
       "      <td>36800.929688</td>\n",
       "      <td>162496.0</td>\n",
       "    </tr>\n",
       "    <tr>\n",
       "      <th>162497</th>\n",
       "      <td>85994391.0</td>\n",
       "      <td>300000.0</td>\n",
       "      <td>44.490002</td>\n",
       "      <td>44.490002</td>\n",
       "      <td>44.490002</td>\n",
       "      <td>44.490002</td>\n",
       "      <td>44.490002</td>\n",
       "      <td>44.490002</td>\n",
       "      <td>28.0</td>\n",
       "      <td>5.0</td>\n",
       "      <td>...</td>\n",
       "      <td>26506.359375</td>\n",
       "      <td>52808.492188</td>\n",
       "      <td>287.444580</td>\n",
       "      <td>7824.405273</td>\n",
       "      <td>26847.457031</td>\n",
       "      <td>53551.433594</td>\n",
       "      <td>-13.175649</td>\n",
       "      <td>7824.405273</td>\n",
       "      <td>26847.457031</td>\n",
       "      <td>162497.0</td>\n",
       "    </tr>\n",
       "    <tr>\n",
       "      <th>162498</th>\n",
       "      <td>9886827.0</td>\n",
       "      <td>300000.0</td>\n",
       "      <td>20.490000</td>\n",
       "      <td>20.490000</td>\n",
       "      <td>20.490000</td>\n",
       "      <td>20.490000</td>\n",
       "      <td>20.490000</td>\n",
       "      <td>20.490000</td>\n",
       "      <td>14.0</td>\n",
       "      <td>1.0</td>\n",
       "      <td>...</td>\n",
       "      <td>46398.742188</td>\n",
       "      <td>134187.593750</td>\n",
       "      <td>1426.328613</td>\n",
       "      <td>0.000000</td>\n",
       "      <td>46656.253906</td>\n",
       "      <td>137266.218750</td>\n",
       "      <td>1512.928101</td>\n",
       "      <td>0.000000</td>\n",
       "      <td>46656.253906</td>\n",
       "      <td>162498.0</td>\n",
       "    </tr>\n",
       "    <tr>\n",
       "      <th>162499</th>\n",
       "      <td>32505496.0</td>\n",
       "      <td>300000.0</td>\n",
       "      <td>33.500000</td>\n",
       "      <td>33.500000</td>\n",
       "      <td>33.500000</td>\n",
       "      <td>33.500000</td>\n",
       "      <td>33.500000</td>\n",
       "      <td>33.500000</td>\n",
       "      <td>18.0</td>\n",
       "      <td>5.0</td>\n",
       "      <td>...</td>\n",
       "      <td>34368.222656</td>\n",
       "      <td>73279.906250</td>\n",
       "      <td>8762.319336</td>\n",
       "      <td>367.449463</td>\n",
       "      <td>35567.296875</td>\n",
       "      <td>85217.921875</td>\n",
       "      <td>9526.083008</td>\n",
       "      <td>367.449463</td>\n",
       "      <td>35406.695312</td>\n",
       "      <td>162499.0</td>\n",
       "    </tr>\n",
       "  </tbody>\n",
       "</table>\n",
       "<p>162500 rows × 166 columns</p>\n",
       "</div>"
      ],
      "text/plain": [
       "        eventNumber  runNumber  actualInteractionsPerCrossing  \\\n",
       "0        87834187.0   300000.0                      26.500000   \n",
       "1        84862668.0   300000.0                      35.500000   \n",
       "2        20869557.0   300000.0                      29.490000   \n",
       "3        42161877.0   300000.0                      37.500000   \n",
       "4        82761614.0   300000.0                      59.500000   \n",
       "...             ...        ...                            ...   \n",
       "162495   87753440.0   300000.0                      59.500000   \n",
       "162496    7746045.0   300000.0                      11.490000   \n",
       "162497   85994391.0   300000.0                      44.490002   \n",
       "162498    9886827.0   300000.0                      20.490000   \n",
       "162499   32505496.0   300000.0                      33.500000   \n",
       "\n",
       "        averageInteractionsPerCrossing  correctedActualMu  correctedAverageMu  \\\n",
       "0                            26.500000          26.500000           26.500000   \n",
       "1                            35.500000          35.500000           35.500000   \n",
       "2                            29.490000          29.490000           29.490000   \n",
       "3                            37.500000          37.500000           37.500000   \n",
       "4                            59.500000          59.500000           59.500000   \n",
       "...                                ...                ...                 ...   \n",
       "162495                       59.500000          59.500000           59.500000   \n",
       "162496                       11.490000          11.490000           11.490000   \n",
       "162497                       44.490002          44.490002           44.490002   \n",
       "162498                       20.490000          20.490000           20.490000   \n",
       "162499                       33.500000          33.500000           33.500000   \n",
       "\n",
       "        correctedScaledActualMu  correctedScaledAverageMu  NvtxReco  \\\n",
       "0                     26.500000                 26.500000      18.0   \n",
       "1                     35.500000                 35.500000      23.0   \n",
       "2                     29.490000                 29.490000      20.0   \n",
       "3                     37.500000                 37.500000      17.0   \n",
       "4                     59.500000                 59.500000      33.0   \n",
       "...                         ...                       ...       ...   \n",
       "162495                59.500000                 59.500000      34.0   \n",
       "162496                11.490000                 11.490000      10.0   \n",
       "162497                44.490002                 44.490002      28.0   \n",
       "162498                20.490000                 20.490000      14.0   \n",
       "162499                33.500000                 33.500000      18.0   \n",
       "\n",
       "        p_nTracks  ...    p_E5x7_Lr1     p_E5x7_Lr2   p_E5x7_Lr3  \\\n",
       "0             3.0  ...  43402.332031   74045.820312   337.980713   \n",
       "1             4.0  ...  36774.925781   58228.847656   412.321869   \n",
       "2             3.0  ...  23413.427734   38875.042969  3492.513672   \n",
       "3             2.0  ...  27372.955078  104002.000000   921.178040   \n",
       "4             7.0  ...  45745.859375   87924.406250   -75.167221   \n",
       "...           ...  ...           ...            ...          ...   \n",
       "162495        2.0  ...  35473.875000   86889.070312   867.511475   \n",
       "162496        4.0  ...  36722.617188   79933.289062   352.093262   \n",
       "162497        5.0  ...  26506.359375   52808.492188   287.444580   \n",
       "162498        1.0  ...  46398.742188  134187.593750  1426.328613   \n",
       "162499        5.0  ...  34368.222656   73279.906250  8762.319336   \n",
       "\n",
       "         p_E7x11_Lr0   p_E7x11_Lr1    p_E7x11_Lr2  p_E7x11_Lr3    p_E7x7_Lr0  \\\n",
       "0         273.708801  43091.683594   74447.539062   470.177124    273.708801   \n",
       "1       10861.282227  37433.324219   61805.964844   460.203613  10861.282227   \n",
       "2        5705.863281  23728.701172   40497.234375  3333.052734   5705.863281   \n",
       "3           0.000000  27101.673828  106995.789062  1127.115356      0.000000   \n",
       "4           0.000000  45947.109375   93710.968750  -188.182098      0.000000   \n",
       "...              ...           ...            ...          ...           ...   \n",
       "162495   1120.453857  36521.750000   88872.992188   748.347656   1120.453857   \n",
       "162496      0.000000  36812.964844   83049.414062   665.589417      0.000000   \n",
       "162497   7824.405273  26847.457031   53551.433594   -13.175649   7824.405273   \n",
       "162498      0.000000  46656.253906  137266.218750  1512.928101      0.000000   \n",
       "162499    367.449463  35567.296875   85217.921875  9526.083008    367.449463   \n",
       "\n",
       "          p_E7x7_Lr1     index  \n",
       "0       43091.683594       0.0  \n",
       "1       37433.324219       1.0  \n",
       "2       23728.701172       2.0  \n",
       "3       27101.673828       3.0  \n",
       "4       45947.109375       4.0  \n",
       "...              ...       ...  \n",
       "162495  36521.750000  162495.0  \n",
       "162496  36800.929688  162496.0  \n",
       "162497  26847.457031  162497.0  \n",
       "162498  46656.253906  162498.0  \n",
       "162499  35406.695312  162499.0  \n",
       "\n",
       "[162500 rows x 166 columns]"
      ]
     },
     "execution_count": 79,
     "metadata": {},
     "output_type": "execute_result"
    }
   ],
   "source": [
    "# read data\n",
    "def load_data(name):\n",
    "    with h5py.File(f'{name}.h5', 'r') as f:\n",
    "        filename = name.split('/')[-1]\n",
    "        return pandas.DataFrame(f[filename][:], dtype=np.float64)\n",
    "\n",
    "train = load_data('train')\n",
    "test  = load_data('test')\n",
    "\n",
    "print (f'Shape of training data set: {train.shape}')\n",
    "print (f'Shape of test data set: {test.shape}')\n",
    "\n",
    "all_variables = ['actualInteractionsPerCrossing', 'averageInteractionsPerCrossing', 'correctedActualMu', 'correctedAverageMu', 'correctedScaledActualMu', 'correctedScaledAverageMu', 'NvtxReco', 'p_nTracks', 'p_pt_track', 'p_eta', 'p_phi', 'p_charge', 'p_qOverP', 'p_z0', 'p_d0', 'p_sigmad0', 'p_d0Sig', 'p_EptRatio', 'p_dPOverP', 'p_z0theta', 'p_etaCluster', 'p_phiCluster', 'p_eCluster', 'p_rawEtaCluster', 'p_rawPhiCluster', 'p_rawECluster', 'p_eClusterLr0', 'p_eClusterLr1', 'p_eClusterLr2', 'p_eClusterLr3', 'p_etaClusterLr1', 'p_etaClusterLr2', 'p_phiClusterLr2', 'p_eAccCluster', 'p_f0Cluster', 'p_etaCalo', 'p_phiCalo', 'p_eTileGap3Cluster', 'p_cellIndexCluster', 'p_phiModCalo', 'p_etaModCalo', 'p_dPhiTH3', 'p_R12', 'p_fTG3', 'p_weta2', 'p_Reta', 'p_Rphi', 'p_Eratio', 'p_f1', 'p_f3', 'p_Rhad', 'p_Rhad1', 'p_deltaEta1', 'p_deltaPhiRescaled2', 'p_TRTPID', 'p_TRTTrackOccupancy', 'p_numberOfInnermostPixelHits', 'p_numberOfPixelHits', 'p_numberOfSCTHits', 'p_numberOfTRTHits', 'p_numberOfTRTXenonHits', 'p_chi2', 'p_ndof', 'p_SharedMuonTrack', 'p_E7x7_Lr2', 'p_E7x7_Lr3', 'p_E_Lr0_HiG', 'p_E_Lr0_LowG', 'p_E_Lr0_MedG', 'p_E_Lr1_HiG', 'p_E_Lr1_LowG', 'p_E_Lr1_MedG', 'p_E_Lr2_HiG', 'p_E_Lr2_LowG', 'p_E_Lr2_MedG', 'p_E_Lr3_HiG', 'p_E_Lr3_LowG', 'p_E_Lr3_MedG', 'p_ambiguityType', 'p_asy1', 'p_author', 'p_barys1', 'p_core57cellsEnergyCorrection', 'p_deltaEta0', 'p_deltaEta2', 'p_deltaEta3', 'p_deltaPhi0', 'p_deltaPhi1', 'p_deltaPhi2', 'p_deltaPhi3', 'p_deltaPhiFromLastMeasurement', 'p_deltaPhiRescaled0', 'p_deltaPhiRescaled1', 'p_deltaPhiRescaled3', 'p_e1152', 'p_e132', 'p_e235', 'p_e255', 'p_e2ts1', 'p_ecore', 'p_emins1', 'p_etconeCorrBitset', 'p_ethad', 'p_ethad1', 'p_f1core', 'p_f3core', 'p_maxEcell_energy', 'p_maxEcell_gain', 'p_maxEcell_time', 'p_maxEcell_x', 'p_maxEcell_y', 'p_maxEcell_z', 'p_nCells_Lr0_HiG', 'p_nCells_Lr0_LowG', 'p_nCells_Lr0_MedG', 'p_nCells_Lr1_HiG', 'p_nCells_Lr1_LowG', 'p_nCells_Lr1_MedG', 'p_nCells_Lr2_HiG', 'p_nCells_Lr2_LowG', 'p_nCells_Lr2_MedG', 'p_nCells_Lr3_HiG', 'p_nCells_Lr3_LowG', 'p_nCells_Lr3_MedG', 'p_pos', 'p_pos7', 'p_poscs1', 'p_poscs2', 'p_ptconeCorrBitset', 'p_ptconecoreTrackPtrCorrection', 'p_r33over37allcalo', 'p_topoetconeCorrBitset', 'p_topoetconecoreConeEnergyCorrection', 'p_topoetconecoreConeSCEnergyCorrection', 'p_weta1', 'p_widths1', 'p_widths2', 'p_wtots1', 'p_e233', 'p_e237', 'p_e277', 'p_e2tsts1', 'p_ehad1', 'p_emaxs1', 'p_fracs1', 'p_DeltaE', 'p_E3x5_Lr0', 'p_E3x5_Lr1', 'p_E3x5_Lr2', 'p_E3x5_Lr3', 'p_E5x7_Lr0', 'p_E5x7_Lr1', 'p_E5x7_Lr2', 'p_E5x7_Lr3', 'p_E7x11_Lr0', 'p_E7x11_Lr1', 'p_E7x11_Lr2', 'p_E7x11_Lr3', 'p_E7x7_Lr0', 'p_E7x7_Lr1' ]\n",
    "\n",
    "X = train[all_variables]\n",
    "y = train['Truth']\n",
    "\n",
    "print (f'Shape of X: {X.shape}')\n",
    "print (f'Shape of y: {y.shape}')\n",
    "\n",
    "train"
   ]
  },
  {
   "cell_type": "code",
   "execution_count": 80,
   "metadata": {},
   "outputs": [],
   "source": [
    "# split the data\n",
    "\n",
    "# X_train, X_test, y_train, y_test = train_test_split(X, y, test_size=0.2, random_state=42)\n"
   ]
  },
  {
   "cell_type": "code",
   "execution_count": 81,
   "metadata": {},
   "outputs": [],
   "source": [
    "# decision tree\n",
    "def decision_tree(X_train, X_test, y_train, y_test):\n",
    "\n",
    "\n",
    "    clf = DecisionTreeClassifier()\n",
    "\n",
    "    model = clf.fit(X_train, y_train)\n",
    "\n",
    "    y_pred = clf.predict(X_test)\n",
    "\n",
    "    accuracy = accuracy_score(y_test, y_pred)\n",
    "\n",
    "    return y_pred, accuracy\n"
   ]
  },
  {
   "cell_type": "code",
   "execution_count": 82,
   "metadata": {},
   "outputs": [],
   "source": [
    "# lightgbm\n",
    "\n",
    "def lightgbm(X_train, X_test, y_train, y_test):\n",
    "    train_data = lgb.Dataset(X_train, label=y_train)\n",
    "    valid_data = lgb.Dataset(X_test, label=y_test)\n",
    "\n",
    "    params = {  'objective': 'regression',\n",
    "            'boosting_type': 'gbdt',\n",
    "            'max_depth': 10,\n",
    "            'metric': {'l2', 'auc'},\n",
    "            'learning_rate': 0.05,\n",
    "            'feature_fraction': 0.7,\n",
    "            'num_leaves': 31,\n",
    "            'bagging_freq': 1,\n",
    "            'bagging_fraction': 0.6,\n",
    "            'reg_alpha': 0.001,\n",
    "            'reg_lambda': 8,\n",
    "            'verbosity': -1,\n",
    "    }\n",
    "\n",
    "    lgb_clf = lgb.train(params,\n",
    "                    train_set=train_data,\n",
    "                    num_boost_round=1000,\n",
    "                    valid_sets=valid_data)\n",
    "\n",
    "    y_pred = np.around(lgb_clf.predict(X_test))\n",
    "    accuracy = accuracy_score(y_pred, y_test)\n",
    "    return y_pred, accuracy"
   ]
  },
  {
   "cell_type": "code",
   "execution_count": 83,
   "metadata": {},
   "outputs": [],
   "source": [
    "# explainer = shap.Explainer(decision_tree.model.predict, X_test)\n",
    "# # explainer = shap.Explainer(decision_tree.model)\n",
    "# # shap_values = explainer(X_train)\n",
    "# shap_values = explainer(X_test)\n",
    "# # print(shap_values)\n",
    "# shap.plots.bar(shap_values)\n",
    "\n",
    "# feature_names = shap_values.feature_names\n",
    "# shap_df = pd.DataFrame(shap_values.values, columns=feature_names)\n",
    "# vals = np.abs(shap_df.values).mean(0)\n",
    "# shap_importance = pd.DataFrame(list(zip(feature_names, vals)), columns=['col_name', 'feature_importance_vals'])\n",
    "# shap_importance.sort_values(by=['feature_importance_vals'], ascending=False, inplace=True)\n",
    "\n",
    "# shap_importance.head(20)"
   ]
  },
  {
   "cell_type": "code",
   "execution_count": 84,
   "metadata": {},
   "outputs": [],
   "source": [
    "shape_variables = ['p_Rhad', 'p_Rphi', 'p_Reta', 'p_sigmad0', 'p_deltaEta1', 'p_ptconecoreTrackPtrCorrection', 'p_deltaPhiRescaled2', 'p_d0', 'p_numberOfInnermostPixelHits', 'p_ambiguityType',\n",
    "                    'p_rawPhiCluster','p_phiCalo', 'p_ethad', 'p_EptRatio', 'p_Rhad1', 'p_E7x11_Lr3', 'p_ehad1', 'p_Eratio', 'p_deltaPhi2', 'p_nTracks']\n",
    "\n",
    "# split data with shap\n",
    "X = train[shape_variables]\n",
    "\n",
    "X_train, X_test, y_train, y_test = train_test_split(X, y, test_size=0.2, random_state=42)\n",
    "\n"
   ]
  },
  {
   "cell_type": "code",
   "execution_count": 85,
   "metadata": {},
   "outputs": [],
   "source": [
    "# print(np.shape(decision_tree(X_train, X_test, y_train, y_test)))"
   ]
  },
  {
   "cell_type": "code",
   "execution_count": 86,
   "metadata": {},
   "outputs": [
    {
     "name": "stderr",
     "output_type": "stream",
     "text": [
      "\u001b[32m[I 2022-05-18 01:28:08,236]\u001b[0m A new study created in memory with name: no-name-852911ba-a1c3-46b9-acf8-d2fd3806bc7a\u001b[0m\n",
      "Progress bar is experimental (supported from v1.2.0). The interface can change in the future.\n",
      "  0%|          | 0/100 [00:00<?, ?it/s]The distribution is specified by [0.2, 0.95] and q=0.1, but the range is not divisible by `q`. It will be replaced by [0.2, 0.9].\n",
      "'early_stopping_rounds' argument is deprecated and will be removed in a future release of LightGBM. Pass 'early_stopping()' callback via 'callbacks' argument instead.\n",
      "'verbose_eval' argument is deprecated and will be removed in a future release of LightGBM. Pass 'log_evaluation()' callback via 'callbacks' argument instead.\n",
      "  1%|          | 1/100 [00:01<01:52,  1.13s/it]The distribution is specified by [0.2, 0.95] and q=0.1, but the range is not divisible by `q`. It will be replaced by [0.2, 0.9].\n",
      "'early_stopping_rounds' argument is deprecated and will be removed in a future release of LightGBM. Pass 'early_stopping()' callback via 'callbacks' argument instead.\n",
      "'verbose_eval' argument is deprecated and will be removed in a future release of LightGBM. Pass 'log_evaluation()' callback via 'callbacks' argument instead.\n"
     ]
    },
    {
     "name": "stdout",
     "output_type": "stream",
     "text": [
      "\u001b[32m[I 2022-05-18 01:28:09,369]\u001b[0m Trial 0 finished with value: 0.9649113872358562 and parameters: {'boosting_type': 'rf', 'max_depth': 8, 'learning_rate': 0.0864491338167939, 'feature_fraction': 0.30000000000000004, 'num_leaves': 180, 'bagging_freq': 1, 'bagging_fraction': 0.8, 'reg_alpha': 60.1, 'reg_lambda': 708}. Best is trial 0 with value: 0.9649113872358562.\u001b[0m\n"
     ]
    },
    {
     "name": "stderr",
     "output_type": "stream",
     "text": [
      "  2%|▏         | 2/100 [00:02<01:38,  1.00s/it]The distribution is specified by [0.2, 0.95] and q=0.1, but the range is not divisible by `q`. It will be replaced by [0.2, 0.9].\n",
      "'early_stopping_rounds' argument is deprecated and will be removed in a future release of LightGBM. Pass 'early_stopping()' callback via 'callbacks' argument instead.\n",
      "'verbose_eval' argument is deprecated and will be removed in a future release of LightGBM. Pass 'log_evaluation()' callback via 'callbacks' argument instead.\n"
     ]
    },
    {
     "name": "stdout",
     "output_type": "stream",
     "text": [
      "\u001b[32m[I 2022-05-18 01:28:10,282]\u001b[0m Trial 1 finished with value: 0.9623173593499667 and parameters: {'boosting_type': 'rf', 'max_depth': 4, 'learning_rate': 0.0990942339314793, 'feature_fraction': 0.30000000000000004, 'num_leaves': 920, 'bagging_freq': 1, 'bagging_fraction': 0.6000000000000001, 'reg_alpha': 43.2, 'reg_lambda': 291}. Best is trial 0 with value: 0.9649113872358562.\u001b[0m\n"
     ]
    },
    {
     "name": "stderr",
     "output_type": "stream",
     "text": [
      "  3%|▎         | 3/100 [00:05<03:22,  2.09s/it]The distribution is specified by [0.2, 0.95] and q=0.1, but the range is not divisible by `q`. It will be replaced by [0.2, 0.9].\n",
      "'early_stopping_rounds' argument is deprecated and will be removed in a future release of LightGBM. Pass 'early_stopping()' callback via 'callbacks' argument instead.\n"
     ]
    },
    {
     "name": "stdout",
     "output_type": "stream",
     "text": [
      "\u001b[32m[I 2022-05-18 01:28:13,665]\u001b[0m Trial 2 finished with value: 0.9755266310736077 and parameters: {'boosting_type': 'gbdt', 'max_depth': 6, 'learning_rate': 0.2334742922663476, 'feature_fraction': 0.8, 'num_leaves': 600, 'bagging_freq': 1, 'bagging_fraction': 0.6000000000000001, 'reg_alpha': 59.300000000000004, 'reg_lambda': 46}. Best is trial 2 with value: 0.9755266310736077.\u001b[0m\n"
     ]
    },
    {
     "name": "stderr",
     "output_type": "stream",
     "text": [
      "'verbose_eval' argument is deprecated and will be removed in a future release of LightGBM. Pass 'log_evaluation()' callback via 'callbacks' argument instead.\n",
      "  4%|▍         | 4/100 [00:08<04:09,  2.60s/it]The distribution is specified by [0.2, 0.95] and q=0.1, but the range is not divisible by `q`. It will be replaced by [0.2, 0.9].\n",
      "'early_stopping_rounds' argument is deprecated and will be removed in a future release of LightGBM. Pass 'early_stopping()' callback via 'callbacks' argument instead.\n"
     ]
    },
    {
     "name": "stdout",
     "output_type": "stream",
     "text": [
      "\u001b[32m[I 2022-05-18 01:28:17,043]\u001b[0m Trial 3 finished with value: 0.9724047545280371 and parameters: {'boosting_type': 'gbdt', 'max_depth': 12, 'learning_rate': 0.4831596962065341, 'feature_fraction': 0.8, 'num_leaves': 920, 'bagging_freq': 1, 'bagging_fraction': 0.2, 'reg_alpha': 68.4, 'reg_lambda': 440}. Best is trial 2 with value: 0.9755266310736077.\u001b[0m\n"
     ]
    },
    {
     "name": "stderr",
     "output_type": "stream",
     "text": [
      "'verbose_eval' argument is deprecated and will be removed in a future release of LightGBM. Pass 'log_evaluation()' callback via 'callbacks' argument instead.\n",
      "  5%|▌         | 5/100 [00:10<03:39,  2.31s/it]The distribution is specified by [0.2, 0.95] and q=0.1, but the range is not divisible by `q`. It will be replaced by [0.2, 0.9].\n",
      "'early_stopping_rounds' argument is deprecated and will be removed in a future release of LightGBM. Pass 'early_stopping()' callback via 'callbacks' argument instead.\n",
      "'verbose_eval' argument is deprecated and will be removed in a future release of LightGBM. Pass 'log_evaluation()' callback via 'callbacks' argument instead.\n"
     ]
    },
    {
     "name": "stdout",
     "output_type": "stream",
     "text": [
      "\u001b[32m[I 2022-05-18 01:28:18,829]\u001b[0m Trial 4 finished with value: 0.9659949050450891 and parameters: {'boosting_type': 'rf', 'max_depth': 12, 'learning_rate': 0.1368021909840083, 'feature_fraction': 0.7, 'num_leaves': 940, 'bagging_freq': 1, 'bagging_fraction': 0.6000000000000001, 'reg_alpha': 54.7, 'reg_lambda': 185}. Best is trial 2 with value: 0.9755266310736077.\u001b[0m\n"
     ]
    },
    {
     "name": "stderr",
     "output_type": "stream",
     "text": [
      "  6%|▌         | 6/100 [00:13<03:43,  2.38s/it]The distribution is specified by [0.2, 0.95] and q=0.1, but the range is not divisible by `q`. It will be replaced by [0.2, 0.9].\n",
      "'verbose_eval' argument is deprecated and will be removed in a future release of LightGBM. Pass 'log_evaluation()' callback via 'callbacks' argument instead.\n"
     ]
    },
    {
     "name": "stdout",
     "output_type": "stream",
     "text": [
      "\u001b[32m[I 2022-05-18 01:28:21,347]\u001b[0m Trial 5 finished with value: 0.9745505577722546 and parameters: {'boosting_type': 'gbdt', 'max_depth': 11, 'learning_rate': 0.30297098961743174, 'feature_fraction': 0.9, 'num_leaves': 280, 'bagging_freq': 1, 'bagging_fraction': 0.30000000000000004, 'reg_alpha': 4.5, 'reg_lambda': 325}. Best is trial 2 with value: 0.9755266310736077.\u001b[0m\n"
     ]
    },
    {
     "name": "stderr",
     "output_type": "stream",
     "text": [
      "  7%|▋         | 7/100 [00:15<03:35,  2.32s/it]The distribution is specified by [0.2, 0.95] and q=0.1, but the range is not divisible by `q`. It will be replaced by [0.2, 0.9].\n",
      "'early_stopping_rounds' argument is deprecated and will be removed in a future release of LightGBM. Pass 'early_stopping()' callback via 'callbacks' argument instead.\n"
     ]
    },
    {
     "name": "stdout",
     "output_type": "stream",
     "text": [
      "\u001b[32m[I 2022-05-18 01:28:23,542]\u001b[0m Trial 6 pruned. Trial was pruned at iteration 91.\u001b[0m\n"
     ]
    },
    {
     "name": "stderr",
     "output_type": "stream",
     "text": [
      "'verbose_eval' argument is deprecated and will be removed in a future release of LightGBM. Pass 'log_evaluation()' callback via 'callbacks' argument instead.\n",
      "  8%|▊         | 8/100 [00:17<03:17,  2.15s/it]The distribution is specified by [0.2, 0.95] and q=0.1, but the range is not divisible by `q`. It will be replaced by [0.2, 0.9].\n",
      "'early_stopping_rounds' argument is deprecated and will be removed in a future release of LightGBM. Pass 'early_stopping()' callback via 'callbacks' argument instead.\n"
     ]
    },
    {
     "name": "stdout",
     "output_type": "stream",
     "text": [
      "\u001b[32m[I 2022-05-18 01:28:25,333]\u001b[0m Trial 7 pruned. Trial was pruned at iteration 118.\u001b[0m\n"
     ]
    },
    {
     "name": "stderr",
     "output_type": "stream",
     "text": [
      "'verbose_eval' argument is deprecated and will be removed in a future release of LightGBM. Pass 'log_evaluation()' callback via 'callbacks' argument instead.\n",
      "  9%|▉         | 9/100 [00:17<02:39,  1.76s/it]The distribution is specified by [0.2, 0.95] and q=0.1, but the range is not divisible by `q`. It will be replaced by [0.2, 0.9].\n",
      "'verbose_eval' argument is deprecated and will be removed in a future release of LightGBM. Pass 'log_evaluation()' callback via 'callbacks' argument instead.\n"
     ]
    },
    {
     "name": "stdout",
     "output_type": "stream",
     "text": [
      "\u001b[32m[I 2022-05-18 01:28:26,224]\u001b[0m Trial 8 pruned. Trial was pruned at iteration 72.\u001b[0m\n"
     ]
    },
    {
     "name": "stderr",
     "output_type": "stream",
     "text": [
      " 10%|█         | 10/100 [00:22<03:55,  2.62s/it]The distribution is specified by [0.2, 0.95] and q=0.1, but the range is not divisible by `q`. It will be replaced by [0.2, 0.9].\n",
      "'verbose_eval' argument is deprecated and will be removed in a future release of LightGBM. Pass 'log_evaluation()' callback via 'callbacks' argument instead.\n"
     ]
    },
    {
     "name": "stdout",
     "output_type": "stream",
     "text": [
      "\u001b[32m[I 2022-05-18 01:28:30,769]\u001b[0m Trial 9 finished with value: 0.9760786785098785 and parameters: {'boosting_type': 'dart', 'max_depth': 8, 'learning_rate': 0.3877739181777349, 'feature_fraction': 0.5, 'num_leaves': 1580, 'bagging_freq': 1, 'bagging_fraction': 0.5, 'reg_alpha': 2.5, 'reg_lambda': 107}. Best is trial 9 with value: 0.9760786785098785.\u001b[0m\n"
     ]
    },
    {
     "name": "stderr",
     "output_type": "stream",
     "text": [
      " 11%|█         | 11/100 [00:25<04:03,  2.73s/it]The distribution is specified by [0.2, 0.95] and q=0.1, but the range is not divisible by `q`. It will be replaced by [0.2, 0.9].\n",
      "'verbose_eval' argument is deprecated and will be removed in a future release of LightGBM. Pass 'log_evaluation()' callback via 'callbacks' argument instead.\n"
     ]
    },
    {
     "name": "stdout",
     "output_type": "stream",
     "text": [
      "\u001b[32m[I 2022-05-18 01:28:33,760]\u001b[0m Trial 10 pruned. Trial was pruned at iteration 91.\u001b[0m\n"
     ]
    },
    {
     "name": "stderr",
     "output_type": "stream",
     "text": [
      " 12%|█▏        | 12/100 [00:27<03:33,  2.43s/it]The distribution is specified by [0.2, 0.95] and q=0.1, but the range is not divisible by `q`. It will be replaced by [0.2, 0.9].\n"
     ]
    },
    {
     "name": "stdout",
     "output_type": "stream",
     "text": [
      "\u001b[32m[I 2022-05-18 01:28:35,488]\u001b[0m Trial 11 pruned. Trial was pruned at iteration 72.\u001b[0m\n"
     ]
    },
    {
     "name": "stderr",
     "output_type": "stream",
     "text": [
      "'verbose_eval' argument is deprecated and will be removed in a future release of LightGBM. Pass 'log_evaluation()' callback via 'callbacks' argument instead.\n",
      " 13%|█▎        | 13/100 [00:31<04:20,  3.00s/it]The distribution is specified by [0.2, 0.95] and q=0.1, but the range is not divisible by `q`. It will be replaced by [0.2, 0.9].\n"
     ]
    },
    {
     "name": "stdout",
     "output_type": "stream",
     "text": [
      "\u001b[32m[I 2022-05-18 01:28:39,798]\u001b[0m Trial 12 finished with value: 0.9762096961821174 and parameters: {'boosting_type': 'dart', 'max_depth': 9, 'learning_rate': 0.37902870830526747, 'feature_fraction': 0.9, 'num_leaves': 2740, 'bagging_freq': 1, 'bagging_fraction': 0.5, 'reg_alpha': 23.900000000000002, 'reg_lambda': 27}. Best is trial 12 with value: 0.9762096961821174.\u001b[0m\n"
     ]
    },
    {
     "name": "stderr",
     "output_type": "stream",
     "text": [
      "'verbose_eval' argument is deprecated and will be removed in a future release of LightGBM. Pass 'log_evaluation()' callback via 'callbacks' argument instead.\n",
      " 14%|█▍        | 14/100 [00:34<04:26,  3.10s/it]The distribution is specified by [0.2, 0.95] and q=0.1, but the range is not divisible by `q`. It will be replaced by [0.2, 0.9].\n"
     ]
    },
    {
     "name": "stdout",
     "output_type": "stream",
     "text": [
      "\u001b[32m[I 2022-05-18 01:28:43,138]\u001b[0m Trial 13 pruned. Trial was pruned at iteration 91.\u001b[0m\n"
     ]
    },
    {
     "name": "stderr",
     "output_type": "stream",
     "text": [
      "'verbose_eval' argument is deprecated and will be removed in a future release of LightGBM. Pass 'log_evaluation()' callback via 'callbacks' argument instead.\n",
      " 15%|█▌        | 15/100 [00:36<03:40,  2.59s/it]The distribution is specified by [0.2, 0.95] and q=0.1, but the range is not divisible by `q`. It will be replaced by [0.2, 0.9].\n",
      "'verbose_eval' argument is deprecated and will be removed in a future release of LightGBM. Pass 'log_evaluation()' callback via 'callbacks' argument instead.\n"
     ]
    },
    {
     "name": "stdout",
     "output_type": "stream",
     "text": [
      "\u001b[32m[I 2022-05-18 01:28:44,553]\u001b[0m Trial 14 pruned. Trial was pruned at iteration 50.\u001b[0m\n"
     ]
    },
    {
     "name": "stderr",
     "output_type": "stream",
     "text": [
      " 16%|█▌        | 16/100 [00:40<04:15,  3.04s/it]The distribution is specified by [0.2, 0.95] and q=0.1, but the range is not divisible by `q`. It will be replaced by [0.2, 0.9].\n",
      "'verbose_eval' argument is deprecated and will be removed in a future release of LightGBM. Pass 'log_evaluation()' callback via 'callbacks' argument instead.\n"
     ]
    },
    {
     "name": "stdout",
     "output_type": "stream",
     "text": [
      "\u001b[32m[I 2022-05-18 01:28:48,641]\u001b[0m Trial 15 finished with value: 0.9761150306537545 and parameters: {'boosting_type': 'dart', 'max_depth': 7, 'learning_rate': 0.41277717252766133, 'feature_fraction': 0.9, 'num_leaves': 2240, 'bagging_freq': 1, 'bagging_fraction': 0.5, 'reg_alpha': 1.1, 'reg_lambda': 147}. Best is trial 12 with value: 0.9762096961821174.\u001b[0m\n"
     ]
    },
    {
     "name": "stderr",
     "output_type": "stream",
     "text": [
      " 17%|█▋        | 17/100 [00:41<03:18,  2.39s/it]The distribution is specified by [0.2, 0.95] and q=0.1, but the range is not divisible by `q`. It will be replaced by [0.2, 0.9].\n",
      "'verbose_eval' argument is deprecated and will be removed in a future release of LightGBM. Pass 'log_evaluation()' callback via 'callbacks' argument instead.\n"
     ]
    },
    {
     "name": "stdout",
     "output_type": "stream",
     "text": [
      "\u001b[32m[I 2022-05-18 01:28:49,509]\u001b[0m Trial 16 pruned. Trial was pruned at iteration 50.\u001b[0m\n"
     ]
    },
    {
     "name": "stderr",
     "output_type": "stream",
     "text": [
      " 18%|█▊        | 18/100 [00:42<02:47,  2.05s/it]The distribution is specified by [0.2, 0.95] and q=0.1, but the range is not divisible by `q`. It will be replaced by [0.2, 0.9].\n"
     ]
    },
    {
     "name": "stdout",
     "output_type": "stream",
     "text": [
      "\u001b[32m[I 2022-05-18 01:28:50,761]\u001b[0m Trial 17 pruned. Trial was pruned at iteration 50.\u001b[0m\n"
     ]
    },
    {
     "name": "stderr",
     "output_type": "stream",
     "text": [
      "'verbose_eval' argument is deprecated and will be removed in a future release of LightGBM. Pass 'log_evaluation()' callback via 'callbacks' argument instead.\n",
      " 19%|█▉        | 19/100 [00:44<02:34,  1.91s/it]The distribution is specified by [0.2, 0.95] and q=0.1, but the range is not divisible by `q`. It will be replaced by [0.2, 0.9].\n",
      "'verbose_eval' argument is deprecated and will be removed in a future release of LightGBM. Pass 'log_evaluation()' callback via 'callbacks' argument instead.\n"
     ]
    },
    {
     "name": "stdout",
     "output_type": "stream",
     "text": [
      "\u001b[32m[I 2022-05-18 01:28:52,347]\u001b[0m Trial 18 pruned. Trial was pruned at iteration 50.\u001b[0m\n"
     ]
    },
    {
     "name": "stderr",
     "output_type": "stream",
     "text": [
      " 20%|██        | 20/100 [00:47<03:08,  2.35s/it]The distribution is specified by [0.2, 0.95] and q=0.1, but the range is not divisible by `q`. It will be replaced by [0.2, 0.9].\n",
      "'early_stopping_rounds' argument is deprecated and will be removed in a future release of LightGBM. Pass 'early_stopping()' callback via 'callbacks' argument instead.\n",
      "'verbose_eval' argument is deprecated and will be removed in a future release of LightGBM. Pass 'log_evaluation()' callback via 'callbacks' argument instead.\n"
     ]
    },
    {
     "name": "stdout",
     "output_type": "stream",
     "text": [
      "\u001b[32m[I 2022-05-18 01:28:55,737]\u001b[0m Trial 19 finished with value: 0.9762242433019566 and parameters: {'boosting_type': 'dart', 'max_depth': 6, 'learning_rate': 0.2853292038160683, 'feature_fraction': 0.7, 'num_leaves': 2740, 'bagging_freq': 1, 'bagging_fraction': 0.5, 'reg_alpha': 0.30000000000000004, 'reg_lambda': 539}. Best is trial 19 with value: 0.9762242433019566.\u001b[0m\n"
     ]
    },
    {
     "name": "stderr",
     "output_type": "stream",
     "text": [
      " 21%|██        | 21/100 [00:48<02:28,  1.88s/it]The distribution is specified by [0.2, 0.95] and q=0.1, but the range is not divisible by `q`. It will be replaced by [0.2, 0.9].\n",
      "'verbose_eval' argument is deprecated and will be removed in a future release of LightGBM. Pass 'log_evaluation()' callback via 'callbacks' argument instead.\n"
     ]
    },
    {
     "name": "stdout",
     "output_type": "stream",
     "text": [
      "\u001b[32m[I 2022-05-18 01:28:56,497]\u001b[0m Trial 20 pruned. Trial was pruned at iteration 50.\u001b[0m\n"
     ]
    },
    {
     "name": "stderr",
     "output_type": "stream",
     "text": [
      " 22%|██▏       | 22/100 [00:52<03:12,  2.47s/it]The distribution is specified by [0.2, 0.95] and q=0.1, but the range is not divisible by `q`. It will be replaced by [0.2, 0.9].\n",
      "'verbose_eval' argument is deprecated and will be removed in a future release of LightGBM. Pass 'log_evaluation()' callback via 'callbacks' argument instead.\n"
     ]
    },
    {
     "name": "stdout",
     "output_type": "stream",
     "text": [
      "\u001b[32m[I 2022-05-18 01:29:00,346]\u001b[0m Trial 21 finished with value: 0.976464044338065 and parameters: {'boosting_type': 'dart', 'max_depth': 7, 'learning_rate': 0.3639811286021446, 'feature_fraction': 0.8, 'num_leaves': 2040, 'bagging_freq': 1, 'bagging_fraction': 0.5, 'reg_alpha': 1.5, 'reg_lambda': 809}. Best is trial 21 with value: 0.976464044338065.\u001b[0m\n"
     ]
    },
    {
     "name": "stderr",
     "output_type": "stream",
     "text": [
      " 23%|██▎       | 23/100 [00:53<02:41,  2.10s/it]The distribution is specified by [0.2, 0.95] and q=0.1, but the range is not divisible by `q`. It will be replaced by [0.2, 0.9].\n"
     ]
    },
    {
     "name": "stdout",
     "output_type": "stream",
     "text": [
      "\u001b[32m[I 2022-05-18 01:29:01,601]\u001b[0m Trial 22 pruned. Trial was pruned at iteration 50.\u001b[0m\n"
     ]
    },
    {
     "name": "stderr",
     "output_type": "stream",
     "text": [
      "'verbose_eval' argument is deprecated and will be removed in a future release of LightGBM. Pass 'log_evaluation()' callback via 'callbacks' argument instead.\n",
      " 24%|██▍       | 24/100 [00:55<02:29,  1.97s/it]The distribution is specified by [0.2, 0.95] and q=0.1, but the range is not divisible by `q`. It will be replaced by [0.2, 0.9].\n",
      "'verbose_eval' argument is deprecated and will be removed in a future release of LightGBM. Pass 'log_evaluation()' callback via 'callbacks' argument instead.\n"
     ]
    },
    {
     "name": "stdout",
     "output_type": "stream",
     "text": [
      "\u001b[32m[I 2022-05-18 01:29:03,257]\u001b[0m Trial 23 pruned. Trial was pruned at iteration 50.\u001b[0m\n"
     ]
    },
    {
     "name": "stderr",
     "output_type": "stream",
     "text": [
      " 25%|██▌       | 25/100 [00:56<02:07,  1.70s/it]The distribution is specified by [0.2, 0.95] and q=0.1, but the range is not divisible by `q`. It will be replaced by [0.2, 0.9].\n",
      "'verbose_eval' argument is deprecated and will be removed in a future release of LightGBM. Pass 'log_evaluation()' callback via 'callbacks' argument instead.\n"
     ]
    },
    {
     "name": "stdout",
     "output_type": "stream",
     "text": [
      "\u001b[32m[I 2022-05-18 01:29:04,340]\u001b[0m Trial 24 pruned. Trial was pruned at iteration 50.\u001b[0m\n"
     ]
    },
    {
     "name": "stderr",
     "output_type": "stream",
     "text": [
      " 26%|██▌       | 26/100 [00:57<01:58,  1.60s/it]The distribution is specified by [0.2, 0.95] and q=0.1, but the range is not divisible by `q`. It will be replaced by [0.2, 0.9].\n",
      "'verbose_eval' argument is deprecated and will be removed in a future release of LightGBM. Pass 'log_evaluation()' callback via 'callbacks' argument instead.\n"
     ]
    },
    {
     "name": "stdout",
     "output_type": "stream",
     "text": [
      "\u001b[32m[I 2022-05-18 01:29:05,700]\u001b[0m Trial 25 pruned. Trial was pruned at iteration 50.\u001b[0m\n"
     ]
    },
    {
     "name": "stderr",
     "output_type": "stream",
     "text": [
      " 27%|██▋       | 27/100 [01:01<02:45,  2.26s/it]The distribution is specified by [0.2, 0.95] and q=0.1, but the range is not divisible by `q`. It will be replaced by [0.2, 0.9].\n"
     ]
    },
    {
     "name": "stdout",
     "output_type": "stream",
     "text": [
      "\u001b[32m[I 2022-05-18 01:29:09,513]\u001b[0m Trial 26 pruned. Trial was pruned at iteration 97.\u001b[0m\n"
     ]
    },
    {
     "name": "stderr",
     "output_type": "stream",
     "text": [
      "'verbose_eval' argument is deprecated and will be removed in a future release of LightGBM. Pass 'log_evaluation()' callback via 'callbacks' argument instead.\n",
      " 28%|██▊       | 28/100 [01:02<02:17,  1.91s/it]The distribution is specified by [0.2, 0.95] and q=0.1, but the range is not divisible by `q`. It will be replaced by [0.2, 0.9].\n"
     ]
    },
    {
     "name": "stdout",
     "output_type": "stream",
     "text": [
      "\u001b[32m[I 2022-05-18 01:29:10,604]\u001b[0m Trial 27 pruned. Trial was pruned at iteration 50.\u001b[0m\n"
     ]
    },
    {
     "name": "stderr",
     "output_type": "stream",
     "text": [
      "'verbose_eval' argument is deprecated and will be removed in a future release of LightGBM. Pass 'log_evaluation()' callback via 'callbacks' argument instead.\n",
      " 29%|██▉       | 29/100 [01:06<03:07,  2.65s/it]The distribution is specified by [0.2, 0.95] and q=0.1, but the range is not divisible by `q`. It will be replaced by [0.2, 0.9].\n",
      "'early_stopping_rounds' argument is deprecated and will be removed in a future release of LightGBM. Pass 'early_stopping()' callback via 'callbacks' argument instead.\n",
      "'verbose_eval' argument is deprecated and will be removed in a future release of LightGBM. Pass 'log_evaluation()' callback via 'callbacks' argument instead.\n"
     ]
    },
    {
     "name": "stdout",
     "output_type": "stream",
     "text": [
      "\u001b[32m[I 2022-05-18 01:29:14,964]\u001b[0m Trial 28 finished with value: 0.9760482522498753 and parameters: {'boosting_type': 'dart', 'max_depth': 10, 'learning_rate': 0.267820287663469, 'feature_fraction': 0.8, 'num_leaves': 2800, 'bagging_freq': 1, 'bagging_fraction': 0.6000000000000001, 'reg_alpha': 17.400000000000002, 'reg_lambda': 610}. Best is trial 21 with value: 0.976464044338065.\u001b[0m\n"
     ]
    },
    {
     "name": "stderr",
     "output_type": "stream",
     "text": [
      " 30%|███       | 30/100 [01:07<02:30,  2.15s/it]The distribution is specified by [0.2, 0.95] and q=0.1, but the range is not divisible by `q`. It will be replaced by [0.2, 0.9].\n",
      "'early_stopping_rounds' argument is deprecated and will be removed in a future release of LightGBM. Pass 'early_stopping()' callback via 'callbacks' argument instead.\n",
      "'verbose_eval' argument is deprecated and will be removed in a future release of LightGBM. Pass 'log_evaluation()' callback via 'callbacks' argument instead.\n"
     ]
    },
    {
     "name": "stdout",
     "output_type": "stream",
     "text": [
      "\u001b[32m[I 2022-05-18 01:29:15,951]\u001b[0m Trial 29 pruned. Trial was pruned at iteration 50.\u001b[0m\n"
     ]
    },
    {
     "name": "stderr",
     "output_type": "stream",
     "text": [
      " 31%|███       | 31/100 [01:08<02:04,  1.80s/it]The distribution is specified by [0.2, 0.95] and q=0.1, but the range is not divisible by `q`. It will be replaced by [0.2, 0.9].\n",
      "'verbose_eval' argument is deprecated and will be removed in a future release of LightGBM. Pass 'log_evaluation()' callback via 'callbacks' argument instead.\n"
     ]
    },
    {
     "name": "stdout",
     "output_type": "stream",
     "text": [
      "\u001b[32m[I 2022-05-18 01:29:16,931]\u001b[0m Trial 30 pruned. Trial was pruned at iteration 50.\u001b[0m\n"
     ]
    },
    {
     "name": "stderr",
     "output_type": "stream",
     "text": [
      " 32%|███▏      | 32/100 [01:10<02:00,  1.78s/it]The distribution is specified by [0.2, 0.95] and q=0.1, but the range is not divisible by `q`. It will be replaced by [0.2, 0.9].\n",
      "'verbose_eval' argument is deprecated and will be removed in a future release of LightGBM. Pass 'log_evaluation()' callback via 'callbacks' argument instead.\n"
     ]
    },
    {
     "name": "stdout",
     "output_type": "stream",
     "text": [
      "\u001b[32m[I 2022-05-18 01:29:18,659]\u001b[0m Trial 31 pruned. Trial was pruned at iteration 50.\u001b[0m\n"
     ]
    },
    {
     "name": "stderr",
     "output_type": "stream",
     "text": [
      " 33%|███▎      | 33/100 [01:14<02:43,  2.44s/it]The distribution is specified by [0.2, 0.95] and q=0.1, but the range is not divisible by `q`. It will be replaced by [0.2, 0.9].\n",
      "'verbose_eval' argument is deprecated and will be removed in a future release of LightGBM. Pass 'log_evaluation()' callback via 'callbacks' argument instead.\n"
     ]
    },
    {
     "name": "stdout",
     "output_type": "stream",
     "text": [
      "\u001b[32m[I 2022-05-18 01:29:22,637]\u001b[0m Trial 32 finished with value: 0.9762746256724923 and parameters: {'boosting_type': 'dart', 'max_depth': 7, 'learning_rate': 0.42152084352899066, 'feature_fraction': 0.8, 'num_leaves': 1820, 'bagging_freq': 1, 'bagging_fraction': 0.5, 'reg_alpha': 0.4, 'reg_lambda': 269}. Best is trial 21 with value: 0.976464044338065.\u001b[0m\n"
     ]
    },
    {
     "name": "stderr",
     "output_type": "stream",
     "text": [
      " 34%|███▍      | 34/100 [01:15<02:18,  2.10s/it]The distribution is specified by [0.2, 0.95] and q=0.1, but the range is not divisible by `q`. It will be replaced by [0.2, 0.9].\n",
      "'verbose_eval' argument is deprecated and will be removed in a future release of LightGBM. Pass 'log_evaluation()' callback via 'callbacks' argument instead.\n"
     ]
    },
    {
     "name": "stdout",
     "output_type": "stream",
     "text": [
      "\u001b[32m[I 2022-05-18 01:29:23,956]\u001b[0m Trial 33 pruned. Trial was pruned at iteration 50.\u001b[0m\n"
     ]
    },
    {
     "name": "stderr",
     "output_type": "stream",
     "text": [
      " 35%|███▌      | 35/100 [01:16<01:57,  1.80s/it]The distribution is specified by [0.2, 0.95] and q=0.1, but the range is not divisible by `q`. It will be replaced by [0.2, 0.9].\n",
      "'early_stopping_rounds' argument is deprecated and will be removed in a future release of LightGBM. Pass 'early_stopping()' callback via 'callbacks' argument instead.\n"
     ]
    },
    {
     "name": "stdout",
     "output_type": "stream",
     "text": [
      "\u001b[32m[I 2022-05-18 01:29:25,054]\u001b[0m Trial 34 pruned. Trial was pruned at iteration 50.\u001b[0m\n"
     ]
    },
    {
     "name": "stderr",
     "output_type": "stream",
     "text": [
      "'verbose_eval' argument is deprecated and will be removed in a future release of LightGBM. Pass 'log_evaluation()' callback via 'callbacks' argument instead.\n",
      " 36%|███▌      | 36/100 [01:19<02:03,  1.94s/it]The distribution is specified by [0.2, 0.95] and q=0.1, but the range is not divisible by `q`. It will be replaced by [0.2, 0.9].\n",
      "'early_stopping_rounds' argument is deprecated and will be removed in a future release of LightGBM. Pass 'early_stopping()' callback via 'callbacks' argument instead.\n",
      "'verbose_eval' argument is deprecated and will be removed in a future release of LightGBM. Pass 'log_evaluation()' callback via 'callbacks' argument instead.\n"
     ]
    },
    {
     "name": "stdout",
     "output_type": "stream",
     "text": [
      "\u001b[32m[I 2022-05-18 01:29:27,304]\u001b[0m Trial 35 pruned. Trial was pruned at iteration 63.\u001b[0m\n"
     ]
    },
    {
     "name": "stderr",
     "output_type": "stream",
     "text": [
      " 37%|███▋      | 37/100 [01:20<01:43,  1.64s/it]The distribution is specified by [0.2, 0.95] and q=0.1, but the range is not divisible by `q`. It will be replaced by [0.2, 0.9].\n"
     ]
    },
    {
     "name": "stdout",
     "output_type": "stream",
     "text": [
      "\u001b[32m[I 2022-05-18 01:29:28,238]\u001b[0m Trial 36 pruned. Trial was pruned at iteration 50.\u001b[0m\n"
     ]
    },
    {
     "name": "stderr",
     "output_type": "stream",
     "text": [
      "'verbose_eval' argument is deprecated and will be removed in a future release of LightGBM. Pass 'log_evaluation()' callback via 'callbacks' argument instead.\n",
      " 38%|███▊      | 38/100 [01:21<01:47,  1.74s/it]The distribution is specified by [0.2, 0.95] and q=0.1, but the range is not divisible by `q`. It will be replaced by [0.2, 0.9].\n",
      "'early_stopping_rounds' argument is deprecated and will be removed in a future release of LightGBM. Pass 'early_stopping()' callback via 'callbacks' argument instead.\n"
     ]
    },
    {
     "name": "stdout",
     "output_type": "stream",
     "text": [
      "\u001b[32m[I 2022-05-18 01:29:30,226]\u001b[0m Trial 37 pruned. Trial was pruned at iteration 50.\u001b[0m\n"
     ]
    },
    {
     "name": "stderr",
     "output_type": "stream",
     "text": [
      "'verbose_eval' argument is deprecated and will be removed in a future release of LightGBM. Pass 'log_evaluation()' callback via 'callbacks' argument instead.\n",
      " 39%|███▉      | 39/100 [01:23<01:33,  1.53s/it]The distribution is specified by [0.2, 0.95] and q=0.1, but the range is not divisible by `q`. It will be replaced by [0.2, 0.9].\n",
      "'verbose_eval' argument is deprecated and will be removed in a future release of LightGBM. Pass 'log_evaluation()' callback via 'callbacks' argument instead.\n"
     ]
    },
    {
     "name": "stdout",
     "output_type": "stream",
     "text": [
      "\u001b[32m[I 2022-05-18 01:29:31,262]\u001b[0m Trial 38 pruned. Trial was pruned at iteration 50.\u001b[0m\n"
     ]
    },
    {
     "name": "stderr",
     "output_type": "stream",
     "text": [
      " 40%|████      | 40/100 [01:25<01:49,  1.82s/it]The distribution is specified by [0.2, 0.95] and q=0.1, but the range is not divisible by `q`. It will be replaced by [0.2, 0.9].\n",
      "'verbose_eval' argument is deprecated and will be removed in a future release of LightGBM. Pass 'log_evaluation()' callback via 'callbacks' argument instead.\n"
     ]
    },
    {
     "name": "stdout",
     "output_type": "stream",
     "text": [
      "\u001b[32m[I 2022-05-18 01:29:33,765]\u001b[0m Trial 39 pruned. Trial was pruned at iteration 70.\u001b[0m\n"
     ]
    },
    {
     "name": "stderr",
     "output_type": "stream",
     "text": [
      " 41%|████      | 41/100 [01:26<01:36,  1.64s/it]The distribution is specified by [0.2, 0.95] and q=0.1, but the range is not divisible by `q`. It will be replaced by [0.2, 0.9].\n",
      "'verbose_eval' argument is deprecated and will be removed in a future release of LightGBM. Pass 'log_evaluation()' callback via 'callbacks' argument instead.\n"
     ]
    },
    {
     "name": "stdout",
     "output_type": "stream",
     "text": [
      "\u001b[32m[I 2022-05-18 01:29:34,968]\u001b[0m Trial 40 pruned. Trial was pruned at iteration 50.\u001b[0m\n"
     ]
    },
    {
     "name": "stderr",
     "output_type": "stream",
     "text": [
      " 42%|████▏     | 42/100 [01:28<01:42,  1.78s/it]The distribution is specified by [0.2, 0.95] and q=0.1, but the range is not divisible by `q`. It will be replaced by [0.2, 0.9].\n",
      "'verbose_eval' argument is deprecated and will be removed in a future release of LightGBM. Pass 'log_evaluation()' callback via 'callbacks' argument instead.\n"
     ]
    },
    {
     "name": "stdout",
     "output_type": "stream",
     "text": [
      "\u001b[32m[I 2022-05-18 01:29:37,068]\u001b[0m Trial 41 pruned. Trial was pruned at iteration 62.\u001b[0m\n"
     ]
    },
    {
     "name": "stderr",
     "output_type": "stream",
     "text": [
      " 43%|████▎     | 43/100 [01:30<01:42,  1.81s/it]The distribution is specified by [0.2, 0.95] and q=0.1, but the range is not divisible by `q`. It will be replaced by [0.2, 0.9].\n",
      "'verbose_eval' argument is deprecated and will be removed in a future release of LightGBM. Pass 'log_evaluation()' callback via 'callbacks' argument instead.\n"
     ]
    },
    {
     "name": "stdout",
     "output_type": "stream",
     "text": [
      "\u001b[32m[I 2022-05-18 01:29:38,946]\u001b[0m Trial 42 pruned. Trial was pruned at iteration 50.\u001b[0m\n"
     ]
    },
    {
     "name": "stderr",
     "output_type": "stream",
     "text": [
      " 44%|████▍     | 44/100 [01:34<02:22,  2.54s/it]The distribution is specified by [0.2, 0.95] and q=0.1, but the range is not divisible by `q`. It will be replaced by [0.2, 0.9].\n",
      "'early_stopping_rounds' argument is deprecated and will be removed in a future release of LightGBM. Pass 'early_stopping()' callback via 'callbacks' argument instead.\n",
      "'verbose_eval' argument is deprecated and will be removed in a future release of LightGBM. Pass 'log_evaluation()' callback via 'callbacks' argument instead.\n"
     ]
    },
    {
     "name": "stdout",
     "output_type": "stream",
     "text": [
      "\u001b[32m[I 2022-05-18 01:29:43,203]\u001b[0m Trial 43 finished with value: 0.9765500527909079 and parameters: {'boosting_type': 'dart', 'max_depth': 8, 'learning_rate': 0.373883342086442, 'feature_fraction': 0.9, 'num_leaves': 2800, 'bagging_freq': 1, 'bagging_fraction': 0.6000000000000001, 'reg_alpha': 10.200000000000001, 'reg_lambda': 44}. Best is trial 43 with value: 0.9765500527909079.\u001b[0m\n"
     ]
    },
    {
     "name": "stderr",
     "output_type": "stream",
     "text": [
      " 45%|████▌     | 45/100 [01:35<01:53,  2.06s/it]The distribution is specified by [0.2, 0.95] and q=0.1, but the range is not divisible by `q`. It will be replaced by [0.2, 0.9].\n"
     ]
    },
    {
     "name": "stdout",
     "output_type": "stream",
     "text": [
      "\u001b[32m[I 2022-05-18 01:29:44,130]\u001b[0m Trial 44 pruned. Trial was pruned at iteration 50.\u001b[0m\n"
     ]
    },
    {
     "name": "stderr",
     "output_type": "stream",
     "text": [
      "'verbose_eval' argument is deprecated and will be removed in a future release of LightGBM. Pass 'log_evaluation()' callback via 'callbacks' argument instead.\n",
      " 46%|████▌     | 46/100 [01:38<01:57,  2.18s/it]The distribution is specified by [0.2, 0.95] and q=0.1, but the range is not divisible by `q`. It will be replaced by [0.2, 0.9].\n"
     ]
    },
    {
     "name": "stdout",
     "output_type": "stream",
     "text": [
      "\u001b[32m[I 2022-05-18 01:29:46,595]\u001b[0m Trial 45 pruned. Trial was pruned at iteration 69.\u001b[0m\n"
     ]
    },
    {
     "name": "stderr",
     "output_type": "stream",
     "text": [
      "'verbose_eval' argument is deprecated and will be removed in a future release of LightGBM. Pass 'log_evaluation()' callback via 'callbacks' argument instead.\n",
      " 47%|████▋     | 47/100 [01:43<02:46,  3.14s/it]The distribution is specified by [0.2, 0.95] and q=0.1, but the range is not divisible by `q`. It will be replaced by [0.2, 0.9].\n"
     ]
    },
    {
     "name": "stdout",
     "output_type": "stream",
     "text": [
      "\u001b[32m[I 2022-05-18 01:29:51,973]\u001b[0m Trial 46 finished with value: 0.9765295673956883 and parameters: {'boosting_type': 'dart', 'max_depth': 10, 'learning_rate': 0.3312873668224253, 'feature_fraction': 0.9, 'num_leaves': 600, 'bagging_freq': 1, 'bagging_fraction': 0.7, 'reg_alpha': 5.800000000000001, 'reg_lambda': 32}. Best is trial 43 with value: 0.9765500527909079.\u001b[0m\n"
     ]
    },
    {
     "name": "stderr",
     "output_type": "stream",
     "text": [
      "'verbose_eval' argument is deprecated and will be removed in a future release of LightGBM. Pass 'log_evaluation()' callback via 'callbacks' argument instead.\n",
      " 48%|████▊     | 48/100 [01:49<03:19,  3.83s/it]The distribution is specified by [0.2, 0.95] and q=0.1, but the range is not divisible by `q`. It will be replaced by [0.2, 0.9].\n",
      "'early_stopping_rounds' argument is deprecated and will be removed in a future release of LightGBM. Pass 'early_stopping()' callback via 'callbacks' argument instead.\n"
     ]
    },
    {
     "name": "stdout",
     "output_type": "stream",
     "text": [
      "\u001b[32m[I 2022-05-18 01:29:57,432]\u001b[0m Trial 47 finished with value: 0.9765994307425009 and parameters: {'boosting_type': 'dart', 'max_depth': 11, 'learning_rate': 0.32701015432046077, 'feature_fraction': 0.4, 'num_leaves': 640, 'bagging_freq': 1, 'bagging_fraction': 0.7, 'reg_alpha': 6.1000000000000005, 'reg_lambda': 425}. Best is trial 47 with value: 0.9765994307425009.\u001b[0m\n"
     ]
    },
    {
     "name": "stderr",
     "output_type": "stream",
     "text": [
      "'verbose_eval' argument is deprecated and will be removed in a future release of LightGBM. Pass 'log_evaluation()' callback via 'callbacks' argument instead.\n",
      " 49%|████▉     | 49/100 [01:50<02:35,  3.05s/it]The distribution is specified by [0.2, 0.95] and q=0.1, but the range is not divisible by `q`. It will be replaced by [0.2, 0.9].\n"
     ]
    },
    {
     "name": "stdout",
     "output_type": "stream",
     "text": [
      "\u001b[32m[I 2022-05-18 01:29:58,649]\u001b[0m Trial 48 pruned. Trial was pruned at iteration 50.\u001b[0m\n"
     ]
    },
    {
     "name": "stderr",
     "output_type": "stream",
     "text": [
      "'verbose_eval' argument is deprecated and will be removed in a future release of LightGBM. Pass 'log_evaluation()' callback via 'callbacks' argument instead.\n",
      " 50%|█████     | 50/100 [01:53<02:26,  2.92s/it]The distribution is specified by [0.2, 0.95] and q=0.1, but the range is not divisible by `q`. It will be replaced by [0.2, 0.9].\n",
      "'early_stopping_rounds' argument is deprecated and will be removed in a future release of LightGBM. Pass 'early_stopping()' callback via 'callbacks' argument instead.\n"
     ]
    },
    {
     "name": "stdout",
     "output_type": "stream",
     "text": [
      "\u001b[32m[I 2022-05-18 01:30:01,282]\u001b[0m Trial 49 pruned. Trial was pruned at iteration 50.\u001b[0m\n"
     ]
    },
    {
     "name": "stderr",
     "output_type": "stream",
     "text": [
      "'verbose_eval' argument is deprecated and will be removed in a future release of LightGBM. Pass 'log_evaluation()' callback via 'callbacks' argument instead.\n",
      " 51%|█████     | 51/100 [01:55<02:20,  2.87s/it]The distribution is specified by [0.2, 0.95] and q=0.1, but the range is not divisible by `q`. It will be replaced by [0.2, 0.9].\n"
     ]
    },
    {
     "name": "stdout",
     "output_type": "stream",
     "text": [
      "\u001b[32m[I 2022-05-18 01:30:04,032]\u001b[0m Trial 50 pruned. Trial was pruned at iteration 65.\u001b[0m\n"
     ]
    },
    {
     "name": "stderr",
     "output_type": "stream",
     "text": [
      "'verbose_eval' argument is deprecated and will be removed in a future release of LightGBM. Pass 'log_evaluation()' callback via 'callbacks' argument instead.\n",
      " 52%|█████▏    | 52/100 [01:57<02:03,  2.58s/it]"
     ]
    },
    {
     "name": "stdout",
     "output_type": "stream",
     "text": [
      "\u001b[32m[I 2022-05-18 01:30:05,916]\u001b[0m Trial 51 pruned. Trial was pruned at iteration 50.\u001b[0m\n"
     ]
    },
    {
     "name": "stderr",
     "output_type": "stream",
     "text": [
      "The distribution is specified by [0.2, 0.95] and q=0.1, but the range is not divisible by `q`. It will be replaced by [0.2, 0.9].\n",
      "'verbose_eval' argument is deprecated and will be removed in a future release of LightGBM. Pass 'log_evaluation()' callback via 'callbacks' argument instead.\n",
      " 53%|█████▎    | 53/100 [02:00<02:01,  2.58s/it]The distribution is specified by [0.2, 0.95] and q=0.1, but the range is not divisible by `q`. It will be replaced by [0.2, 0.9].\n",
      "'verbose_eval' argument is deprecated and will be removed in a future release of LightGBM. Pass 'log_evaluation()' callback via 'callbacks' argument instead.\n"
     ]
    },
    {
     "name": "stdout",
     "output_type": "stream",
     "text": [
      "\u001b[32m[I 2022-05-18 01:30:08,494]\u001b[0m Trial 52 pruned. Trial was pruned at iteration 50.\u001b[0m\n"
     ]
    },
    {
     "name": "stderr",
     "output_type": "stream",
     "text": [
      " 54%|█████▍    | 54/100 [02:02<01:58,  2.57s/it]The distribution is specified by [0.2, 0.95] and q=0.1, but the range is not divisible by `q`. It will be replaced by [0.2, 0.9].\n",
      "'verbose_eval' argument is deprecated and will be removed in a future release of LightGBM. Pass 'log_evaluation()' callback via 'callbacks' argument instead.\n"
     ]
    },
    {
     "name": "stdout",
     "output_type": "stream",
     "text": [
      "\u001b[32m[I 2022-05-18 01:30:11,040]\u001b[0m Trial 53 pruned. Trial was pruned at iteration 69.\u001b[0m\n"
     ]
    },
    {
     "name": "stderr",
     "output_type": "stream",
     "text": [
      " 55%|█████▌    | 55/100 [02:04<01:38,  2.19s/it]The distribution is specified by [0.2, 0.95] and q=0.1, but the range is not divisible by `q`. It will be replaced by [0.2, 0.9].\n"
     ]
    },
    {
     "name": "stdout",
     "output_type": "stream",
     "text": [
      "\u001b[32m[I 2022-05-18 01:30:12,355]\u001b[0m Trial 54 pruned. Trial was pruned at iteration 50.\u001b[0m\n"
     ]
    },
    {
     "name": "stderr",
     "output_type": "stream",
     "text": [
      "'verbose_eval' argument is deprecated and will be removed in a future release of LightGBM. Pass 'log_evaluation()' callback via 'callbacks' argument instead.\n",
      " 56%|█████▌    | 56/100 [02:09<02:19,  3.17s/it]The distribution is specified by [0.2, 0.95] and q=0.1, but the range is not divisible by `q`. It will be replaced by [0.2, 0.9].\n"
     ]
    },
    {
     "name": "stdout",
     "output_type": "stream",
     "text": [
      "\u001b[32m[I 2022-05-18 01:30:17,800]\u001b[0m Trial 55 finished with value: 0.9766511232013861 and parameters: {'boosting_type': 'dart', 'max_depth': 11, 'learning_rate': 0.3303821664034621, 'feature_fraction': 0.9, 'num_leaves': 1020, 'bagging_freq': 1, 'bagging_fraction': 0.7, 'reg_alpha': 11.3, 'reg_lambda': 26}. Best is trial 55 with value: 0.9766511232013861.\u001b[0m\n"
     ]
    },
    {
     "name": "stderr",
     "output_type": "stream",
     "text": [
      "'verbose_eval' argument is deprecated and will be removed in a future release of LightGBM. Pass 'log_evaluation()' callback via 'callbacks' argument instead.\n",
      " 57%|█████▋    | 57/100 [02:12<02:10,  3.04s/it]The distribution is specified by [0.2, 0.95] and q=0.1, but the range is not divisible by `q`. It will be replaced by [0.2, 0.9].\n"
     ]
    },
    {
     "name": "stdout",
     "output_type": "stream",
     "text": [
      "\u001b[32m[I 2022-05-18 01:30:20,547]\u001b[0m Trial 56 pruned. Trial was pruned at iteration 50.\u001b[0m\n"
     ]
    },
    {
     "name": "stderr",
     "output_type": "stream",
     "text": [
      "'verbose_eval' argument is deprecated and will be removed in a future release of LightGBM. Pass 'log_evaluation()' callback via 'callbacks' argument instead.\n",
      " 58%|█████▊    | 58/100 [02:18<02:44,  3.91s/it]The distribution is specified by [0.2, 0.95] and q=0.1, but the range is not divisible by `q`. It will be replaced by [0.2, 0.9].\n"
     ]
    },
    {
     "name": "stdout",
     "output_type": "stream",
     "text": [
      "\u001b[32m[I 2022-05-18 01:30:26,473]\u001b[0m Trial 57 finished with value: 0.9767655292725637 and parameters: {'boosting_type': 'dart', 'max_depth': 12, 'learning_rate': 0.3394560417826115, 'feature_fraction': 0.9, 'num_leaves': 800, 'bagging_freq': 1, 'bagging_fraction': 0.8, 'reg_alpha': 9.700000000000001, 'reg_lambda': 28}. Best is trial 57 with value: 0.9767655292725637.\u001b[0m\n"
     ]
    },
    {
     "name": "stderr",
     "output_type": "stream",
     "text": [
      "'verbose_eval' argument is deprecated and will be removed in a future release of LightGBM. Pass 'log_evaluation()' callback via 'callbacks' argument instead.\n",
      " 59%|█████▉    | 59/100 [02:23<02:56,  4.31s/it]The distribution is specified by [0.2, 0.95] and q=0.1, but the range is not divisible by `q`. It will be replaced by [0.2, 0.9].\n"
     ]
    },
    {
     "name": "stdout",
     "output_type": "stream",
     "text": [
      "\u001b[32m[I 2022-05-18 01:30:31,721]\u001b[0m Trial 58 finished with value: 0.976707650591632 and parameters: {'boosting_type': 'dart', 'max_depth': 12, 'learning_rate': 0.3286663669071668, 'feature_fraction': 0.9, 'num_leaves': 840, 'bagging_freq': 1, 'bagging_fraction': 0.8, 'reg_alpha': 21.200000000000003, 'reg_lambda': 21}. Best is trial 57 with value: 0.9767655292725637.\u001b[0m\n"
     ]
    },
    {
     "name": "stderr",
     "output_type": "stream",
     "text": [
      "'verbose_eval' argument is deprecated and will be removed in a future release of LightGBM. Pass 'log_evaluation()' callback via 'callbacks' argument instead.\n",
      " 60%|██████    | 60/100 [02:28<02:55,  4.38s/it]The distribution is specified by [0.2, 0.95] and q=0.1, but the range is not divisible by `q`. It will be replaced by [0.2, 0.9].\n"
     ]
    },
    {
     "name": "stdout",
     "output_type": "stream",
     "text": [
      "\u001b[32m[I 2022-05-18 01:30:36,269]\u001b[0m Trial 59 finished with value: 0.9764388510204475 and parameters: {'boosting_type': 'dart', 'max_depth': 12, 'learning_rate': 0.326372041447373, 'feature_fraction': 0.9, 'num_leaves': 860, 'bagging_freq': 1, 'bagging_fraction': 0.8, 'reg_alpha': 31.5, 'reg_lambda': 34}. Best is trial 57 with value: 0.9767655292725637.\u001b[0m\n"
     ]
    },
    {
     "name": "stderr",
     "output_type": "stream",
     "text": [
      "'verbose_eval' argument is deprecated and will be removed in a future release of LightGBM. Pass 'log_evaluation()' callback via 'callbacks' argument instead.\n",
      " 61%|██████    | 61/100 [02:33<03:02,  4.68s/it]The distribution is specified by [0.2, 0.95] and q=0.1, but the range is not divisible by `q`. It will be replaced by [0.2, 0.9].\n"
     ]
    },
    {
     "name": "stdout",
     "output_type": "stream",
     "text": [
      "\u001b[32m[I 2022-05-18 01:30:41,643]\u001b[0m Trial 60 finished with value: 0.9770611449932588 and parameters: {'boosting_type': 'dart', 'max_depth': 12, 'learning_rate': 0.3400073230073588, 'feature_fraction': 0.9, 'num_leaves': 1080, 'bagging_freq': 1, 'bagging_fraction': 0.9, 'reg_alpha': 21.3, 'reg_lambda': 13}. Best is trial 60 with value: 0.9770611449932588.\u001b[0m\n"
     ]
    },
    {
     "name": "stderr",
     "output_type": "stream",
     "text": [
      "'verbose_eval' argument is deprecated and will be removed in a future release of LightGBM. Pass 'log_evaluation()' callback via 'callbacks' argument instead.\n",
      " 62%|██████▏   | 62/100 [02:38<03:01,  4.78s/it]The distribution is specified by [0.2, 0.95] and q=0.1, but the range is not divisible by `q`. It will be replaced by [0.2, 0.9].\n"
     ]
    },
    {
     "name": "stdout",
     "output_type": "stream",
     "text": [
      "\u001b[32m[I 2022-05-18 01:30:46,654]\u001b[0m Trial 61 finished with value: 0.9767086270735934 and parameters: {'boosting_type': 'dart', 'max_depth': 12, 'learning_rate': 0.3466114603020548, 'feature_fraction': 0.9, 'num_leaves': 1060, 'bagging_freq': 1, 'bagging_fraction': 0.9, 'reg_alpha': 20.1, 'reg_lambda': 14}. Best is trial 60 with value: 0.9770611449932588.\u001b[0m\n"
     ]
    },
    {
     "name": "stderr",
     "output_type": "stream",
     "text": [
      "'verbose_eval' argument is deprecated and will be removed in a future release of LightGBM. Pass 'log_evaluation()' callback via 'callbacks' argument instead.\n",
      " 63%|██████▎   | 63/100 [02:43<02:59,  4.86s/it]The distribution is specified by [0.2, 0.95] and q=0.1, but the range is not divisible by `q`. It will be replaced by [0.2, 0.9].\n"
     ]
    },
    {
     "name": "stdout",
     "output_type": "stream",
     "text": [
      "\u001b[32m[I 2022-05-18 01:30:51,689]\u001b[0m Trial 62 finished with value: 0.9768084043784692 and parameters: {'boosting_type': 'dart', 'max_depth': 12, 'learning_rate': 0.34012315056536757, 'feature_fraction': 0.9, 'num_leaves': 1080, 'bagging_freq': 1, 'bagging_fraction': 0.9, 'reg_alpha': 26.400000000000002, 'reg_lambda': 54}. Best is trial 60 with value: 0.9770611449932588.\u001b[0m\n"
     ]
    },
    {
     "name": "stderr",
     "output_type": "stream",
     "text": [
      "'verbose_eval' argument is deprecated and will be removed in a future release of LightGBM. Pass 'log_evaluation()' callback via 'callbacks' argument instead.\n",
      " 64%|██████▍   | 64/100 [02:49<03:04,  5.12s/it]The distribution is specified by [0.2, 0.95] and q=0.1, but the range is not divisible by `q`. It will be replaced by [0.2, 0.9].\n"
     ]
    },
    {
     "name": "stdout",
     "output_type": "stream",
     "text": [
      "\u001b[32m[I 2022-05-18 01:30:57,436]\u001b[0m Trial 63 finished with value: 0.9769288023265057 and parameters: {'boosting_type': 'dart', 'max_depth': 12, 'learning_rate': 0.3434660318240613, 'feature_fraction': 0.9, 'num_leaves': 1080, 'bagging_freq': 1, 'bagging_fraction': 0.9, 'reg_alpha': 21.3, 'reg_lambda': 16}. Best is trial 60 with value: 0.9770611449932588.\u001b[0m\n"
     ]
    },
    {
     "name": "stderr",
     "output_type": "stream",
     "text": [
      "'verbose_eval' argument is deprecated and will be removed in a future release of LightGBM. Pass 'log_evaluation()' callback via 'callbacks' argument instead.\n",
      " 65%|██████▌   | 65/100 [02:54<02:56,  5.05s/it]The distribution is specified by [0.2, 0.95] and q=0.1, but the range is not divisible by `q`. It will be replaced by [0.2, 0.9].\n"
     ]
    },
    {
     "name": "stdout",
     "output_type": "stream",
     "text": [
      "\u001b[32m[I 2022-05-18 01:31:02,326]\u001b[0m Trial 64 finished with value: 0.9766478505553655 and parameters: {'boosting_type': 'dart', 'max_depth': 12, 'learning_rate': 0.3480158098815899, 'feature_fraction': 0.9, 'num_leaves': 1100, 'bagging_freq': 1, 'bagging_fraction': 0.9, 'reg_alpha': 32.800000000000004, 'reg_lambda': 2}. Best is trial 60 with value: 0.9770611449932588.\u001b[0m\n"
     ]
    },
    {
     "name": "stderr",
     "output_type": "stream",
     "text": [
      "'verbose_eval' argument is deprecated and will be removed in a future release of LightGBM. Pass 'log_evaluation()' callback via 'callbacks' argument instead.\n",
      " 66%|██████▌   | 66/100 [02:58<02:46,  4.91s/it]The distribution is specified by [0.2, 0.95] and q=0.1, but the range is not divisible by `q`. It will be replaced by [0.2, 0.9].\n"
     ]
    },
    {
     "name": "stdout",
     "output_type": "stream",
     "text": [
      "\u001b[32m[I 2022-05-18 01:31:06,895]\u001b[0m Trial 65 finished with value: 0.9767668540524215 and parameters: {'boosting_type': 'dart', 'max_depth': 12, 'learning_rate': 0.09381920621693768, 'feature_fraction': 0.9, 'num_leaves': 1100, 'bagging_freq': 1, 'bagging_fraction': 0.9, 'reg_alpha': 21.1, 'reg_lambda': 0}. Best is trial 60 with value: 0.9770611449932588.\u001b[0m\n"
     ]
    },
    {
     "name": "stderr",
     "output_type": "stream",
     "text": [
      "'verbose_eval' argument is deprecated and will be removed in a future release of LightGBM. Pass 'log_evaluation()' callback via 'callbacks' argument instead.\n",
      " 67%|██████▋   | 67/100 [03:00<02:12,  4.00s/it]The distribution is specified by [0.2, 0.95] and q=0.1, but the range is not divisible by `q`. It will be replaced by [0.2, 0.9].\n"
     ]
    },
    {
     "name": "stdout",
     "output_type": "stream",
     "text": [
      "\u001b[32m[I 2022-05-18 01:31:08,774]\u001b[0m Trial 66 pruned. Trial was pruned at iteration 50.\u001b[0m\n"
     ]
    },
    {
     "name": "stderr",
     "output_type": "stream",
     "text": [
      "'verbose_eval' argument is deprecated and will be removed in a future release of LightGBM. Pass 'log_evaluation()' callback via 'callbacks' argument instead.\n",
      " 68%|██████▊   | 68/100 [03:03<02:02,  3.83s/it]The distribution is specified by [0.2, 0.95] and q=0.1, but the range is not divisible by `q`. It will be replaced by [0.2, 0.9].\n",
      "'early_stopping_rounds' argument is deprecated and will be removed in a future release of LightGBM. Pass 'early_stopping()' callback via 'callbacks' argument instead.\n"
     ]
    },
    {
     "name": "stdout",
     "output_type": "stream",
     "text": [
      "\u001b[32m[I 2022-05-18 01:31:12,211]\u001b[0m Trial 67 pruned. Trial was pruned at iteration 82.\u001b[0m\n"
     ]
    },
    {
     "name": "stderr",
     "output_type": "stream",
     "text": [
      "'verbose_eval' argument is deprecated and will be removed in a future release of LightGBM. Pass 'log_evaluation()' callback via 'callbacks' argument instead.\n",
      " 69%|██████▉   | 69/100 [03:05<01:39,  3.22s/it]The distribution is specified by [0.2, 0.95] and q=0.1, but the range is not divisible by `q`. It will be replaced by [0.2, 0.9].\n"
     ]
    },
    {
     "name": "stdout",
     "output_type": "stream",
     "text": [
      "\u001b[32m[I 2022-05-18 01:31:14,009]\u001b[0m Trial 68 pruned. Trial was pruned at iteration 50.\u001b[0m\n"
     ]
    },
    {
     "name": "stderr",
     "output_type": "stream",
     "text": [
      "'verbose_eval' argument is deprecated and will be removed in a future release of LightGBM. Pass 'log_evaluation()' callback via 'callbacks' argument instead.\n",
      " 70%|███████   | 70/100 [03:11<01:57,  3.91s/it]The distribution is specified by [0.2, 0.95] and q=0.1, but the range is not divisible by `q`. It will be replaced by [0.2, 0.9].\n"
     ]
    },
    {
     "name": "stdout",
     "output_type": "stream",
     "text": [
      "\u001b[32m[I 2022-05-18 01:31:19,532]\u001b[0m Trial 69 finished with value: 0.9769988733383739 and parameters: {'boosting_type': 'dart', 'max_depth': 12, 'learning_rate': 0.21132018162555816, 'feature_fraction': 0.9, 'num_leaves': 1180, 'bagging_freq': 1, 'bagging_fraction': 0.9, 'reg_alpha': 24.200000000000003, 'reg_lambda': 88}. Best is trial 60 with value: 0.9770611449932588.\u001b[0m\n"
     ]
    },
    {
     "name": "stderr",
     "output_type": "stream",
     "text": [
      "'verbose_eval' argument is deprecated and will be removed in a future release of LightGBM. Pass 'log_evaluation()' callback via 'callbacks' argument instead.\n",
      " 71%|███████   | 71/100 [03:16<02:04,  4.28s/it]The distribution is specified by [0.2, 0.95] and q=0.1, but the range is not divisible by `q`. It will be replaced by [0.2, 0.9].\n"
     ]
    },
    {
     "name": "stdout",
     "output_type": "stream",
     "text": [
      "\u001b[32m[I 2022-05-18 01:31:24,684]\u001b[0m Trial 70 finished with value: 0.9766993914270372 and parameters: {'boosting_type': 'dart', 'max_depth': 12, 'learning_rate': 0.16397388614822164, 'feature_fraction': 0.8, 'num_leaves': 1200, 'bagging_freq': 1, 'bagging_fraction': 0.9, 'reg_alpha': 24.8, 'reg_lambda': 197}. Best is trial 60 with value: 0.9770611449932588.\u001b[0m\n"
     ]
    },
    {
     "name": "stderr",
     "output_type": "stream",
     "text": [
      "'verbose_eval' argument is deprecated and will be removed in a future release of LightGBM. Pass 'log_evaluation()' callback via 'callbacks' argument instead.\n",
      " 72%|███████▏  | 72/100 [03:20<01:57,  4.20s/it]The distribution is specified by [0.2, 0.95] and q=0.1, but the range is not divisible by `q`. It will be replaced by [0.2, 0.9].\n"
     ]
    },
    {
     "name": "stdout",
     "output_type": "stream",
     "text": [
      "\u001b[32m[I 2022-05-18 01:31:28,685]\u001b[0m Trial 71 pruned. Trial was pruned at iteration 91.\u001b[0m\n"
     ]
    },
    {
     "name": "stderr",
     "output_type": "stream",
     "text": [
      "'verbose_eval' argument is deprecated and will be removed in a future release of LightGBM. Pass 'log_evaluation()' callback via 'callbacks' argument instead.\n",
      " 73%|███████▎  | 73/100 [03:22<01:35,  3.54s/it]The distribution is specified by [0.2, 0.95] and q=0.1, but the range is not divisible by `q`. It will be replaced by [0.2, 0.9].\n"
     ]
    },
    {
     "name": "stdout",
     "output_type": "stream",
     "text": [
      "\u001b[32m[I 2022-05-18 01:31:30,679]\u001b[0m Trial 72 pruned. Trial was pruned at iteration 50.\u001b[0m\n"
     ]
    },
    {
     "name": "stderr",
     "output_type": "stream",
     "text": [
      "'verbose_eval' argument is deprecated and will be removed in a future release of LightGBM. Pass 'log_evaluation()' callback via 'callbacks' argument instead.\n",
      " 74%|███████▍  | 74/100 [03:24<01:20,  3.09s/it]The distribution is specified by [0.2, 0.95] and q=0.1, but the range is not divisible by `q`. It will be replaced by [0.2, 0.9].\n"
     ]
    },
    {
     "name": "stdout",
     "output_type": "stream",
     "text": [
      "\u001b[32m[I 2022-05-18 01:31:32,712]\u001b[0m Trial 73 pruned. Trial was pruned at iteration 50.\u001b[0m\n"
     ]
    },
    {
     "name": "stderr",
     "output_type": "stream",
     "text": [
      "'verbose_eval' argument is deprecated and will be removed in a future release of LightGBM. Pass 'log_evaluation()' callback via 'callbacks' argument instead.\n",
      " 75%|███████▌  | 75/100 [03:28<01:25,  3.43s/it]The distribution is specified by [0.2, 0.95] and q=0.1, but the range is not divisible by `q`. It will be replaced by [0.2, 0.9].\n"
     ]
    },
    {
     "name": "stdout",
     "output_type": "stream",
     "text": [
      "\u001b[32m[I 2022-05-18 01:31:36,947]\u001b[0m Trial 74 finished with value: 0.9771268982473872 and parameters: {'boosting_type': 'dart', 'max_depth': 11, 'learning_rate': 0.21817711348708238, 'feature_fraction': 0.9, 'num_leaves': 760, 'bagging_freq': 1, 'bagging_fraction': 0.8, 'reg_alpha': 24.6, 'reg_lambda': 49}. Best is trial 74 with value: 0.9771268982473872.\u001b[0m\n"
     ]
    },
    {
     "name": "stderr",
     "output_type": "stream",
     "text": [
      "'verbose_eval' argument is deprecated and will be removed in a future release of LightGBM. Pass 'log_evaluation()' callback via 'callbacks' argument instead.\n",
      " 76%|███████▌  | 76/100 [03:33<01:31,  3.80s/it]The distribution is specified by [0.2, 0.95] and q=0.1, but the range is not divisible by `q`. It will be replaced by [0.2, 0.9].\n",
      "'early_stopping_rounds' argument is deprecated and will be removed in a future release of LightGBM. Pass 'early_stopping()' callback via 'callbacks' argument instead.\n"
     ]
    },
    {
     "name": "stdout",
     "output_type": "stream",
     "text": [
      "\u001b[32m[I 2022-05-18 01:31:41,600]\u001b[0m Trial 75 finished with value: 0.9775019168329189 and parameters: {'boosting_type': 'dart', 'max_depth': 11, 'learning_rate': 0.1588751603197771, 'feature_fraction': 0.8, 'num_leaves': 1200, 'bagging_freq': 1, 'bagging_fraction': 0.9, 'reg_alpha': 15.600000000000001, 'reg_lambda': 50}. Best is trial 75 with value: 0.9775019168329189.\u001b[0m\n"
     ]
    },
    {
     "name": "stderr",
     "output_type": "stream",
     "text": [
      "'verbose_eval' argument is deprecated and will be removed in a future release of LightGBM. Pass 'log_evaluation()' callback via 'callbacks' argument instead.\n",
      " 77%|███████▋  | 77/100 [03:35<01:17,  3.39s/it]The distribution is specified by [0.2, 0.95] and q=0.1, but the range is not divisible by `q`. It will be replaced by [0.2, 0.9].\n"
     ]
    },
    {
     "name": "stdout",
     "output_type": "stream",
     "text": [
      "\u001b[32m[I 2022-05-18 01:31:44,038]\u001b[0m Trial 76 finished with value: 0.9765601895714097 and parameters: {'boosting_type': 'gbdt', 'max_depth': 11, 'learning_rate': 0.22131254237108883, 'feature_fraction': 0.8, 'num_leaves': 1160, 'bagging_freq': 1, 'bagging_fraction': 0.9, 'reg_alpha': 16.3, 'reg_lambda': 92}. Best is trial 75 with value: 0.9775019168329189.\u001b[0m\n"
     ]
    },
    {
     "name": "stderr",
     "output_type": "stream",
     "text": [
      "'verbose_eval' argument is deprecated and will be removed in a future release of LightGBM. Pass 'log_evaluation()' callback via 'callbacks' argument instead.\n",
      " 78%|███████▊  | 78/100 [03:40<01:20,  3.67s/it]The distribution is specified by [0.2, 0.95] and q=0.1, but the range is not divisible by `q`. It will be replaced by [0.2, 0.9].\n"
     ]
    },
    {
     "name": "stdout",
     "output_type": "stream",
     "text": [
      "\u001b[32m[I 2022-05-18 01:31:48,348]\u001b[0m Trial 77 finished with value: 0.9767505353356476 and parameters: {'boosting_type': 'dart', 'max_depth': 11, 'learning_rate': 0.1728301258950962, 'feature_fraction': 0.8, 'num_leaves': 760, 'bagging_freq': 1, 'bagging_fraction': 0.9, 'reg_alpha': 26.200000000000003, 'reg_lambda': 155}. Best is trial 75 with value: 0.9775019168329189.\u001b[0m\n"
     ]
    },
    {
     "name": "stderr",
     "output_type": "stream",
     "text": [
      "'verbose_eval' argument is deprecated and will be removed in a future release of LightGBM. Pass 'log_evaluation()' callback via 'callbacks' argument instead.\n",
      " 79%|███████▉  | 79/100 [03:43<01:16,  3.62s/it]The distribution is specified by [0.2, 0.95] and q=0.1, but the range is not divisible by `q`. It will be replaced by [0.2, 0.9].\n"
     ]
    },
    {
     "name": "stdout",
     "output_type": "stream",
     "text": [
      "\u001b[32m[I 2022-05-18 01:31:51,866]\u001b[0m Trial 78 pruned. Trial was pruned at iteration 86.\u001b[0m\n"
     ]
    },
    {
     "name": "stderr",
     "output_type": "stream",
     "text": [
      "'verbose_eval' argument is deprecated and will be removed in a future release of LightGBM. Pass 'log_evaluation()' callback via 'callbacks' argument instead.\n",
      " 80%|████████  | 80/100 [03:45<01:00,  3.04s/it]The distribution is specified by [0.2, 0.95] and q=0.1, but the range is not divisible by `q`. It will be replaced by [0.2, 0.9].\n",
      "'early_stopping_rounds' argument is deprecated and will be removed in a future release of LightGBM. Pass 'early_stopping()' callback via 'callbacks' argument instead.\n"
     ]
    },
    {
     "name": "stdout",
     "output_type": "stream",
     "text": [
      "\u001b[32m[I 2022-05-18 01:31:53,549]\u001b[0m Trial 79 pruned. Trial was pruned at iteration 50.\u001b[0m\n"
     ]
    },
    {
     "name": "stderr",
     "output_type": "stream",
     "text": [
      "'verbose_eval' argument is deprecated and will be removed in a future release of LightGBM. Pass 'log_evaluation()' callback via 'callbacks' argument instead.\n",
      " 81%|████████  | 81/100 [03:46<00:49,  2.61s/it]The distribution is specified by [0.2, 0.95] and q=0.1, but the range is not divisible by `q`. It will be replaced by [0.2, 0.9].\n"
     ]
    },
    {
     "name": "stdout",
     "output_type": "stream",
     "text": [
      "\u001b[32m[I 2022-05-18 01:31:55,169]\u001b[0m Trial 80 pruned. Trial was pruned at iteration 50.\u001b[0m\n"
     ]
    },
    {
     "name": "stderr",
     "output_type": "stream",
     "text": [
      "'verbose_eval' argument is deprecated and will be removed in a future release of LightGBM. Pass 'log_evaluation()' callback via 'callbacks' argument instead.\n",
      " 82%|████████▏ | 82/100 [03:48<00:42,  2.38s/it]The distribution is specified by [0.2, 0.95] and q=0.1, but the range is not divisible by `q`. It will be replaced by [0.2, 0.9].\n"
     ]
    },
    {
     "name": "stdout",
     "output_type": "stream",
     "text": [
      "\u001b[32m[I 2022-05-18 01:31:56,993]\u001b[0m Trial 81 pruned. Trial was pruned at iteration 52.\u001b[0m\n"
     ]
    },
    {
     "name": "stderr",
     "output_type": "stream",
     "text": [
      "'verbose_eval' argument is deprecated and will be removed in a future release of LightGBM. Pass 'log_evaluation()' callback via 'callbacks' argument instead.\n",
      " 83%|████████▎ | 83/100 [03:53<00:53,  3.16s/it]The distribution is specified by [0.2, 0.95] and q=0.1, but the range is not divisible by `q`. It will be replaced by [0.2, 0.9].\n"
     ]
    },
    {
     "name": "stdout",
     "output_type": "stream",
     "text": [
      "\u001b[32m[I 2022-05-18 01:32:01,986]\u001b[0m Trial 82 finished with value: 0.9774531125657644 and parameters: {'boosting_type': 'dart', 'max_depth': 12, 'learning_rate': 0.2261451381165214, 'feature_fraction': 0.9, 'num_leaves': 540, 'bagging_freq': 1, 'bagging_fraction': 0.9, 'reg_alpha': 14.600000000000001, 'reg_lambda': 151}. Best is trial 75 with value: 0.9775019168329189.\u001b[0m\n"
     ]
    },
    {
     "name": "stderr",
     "output_type": "stream",
     "text": [
      "'verbose_eval' argument is deprecated and will be removed in a future release of LightGBM. Pass 'log_evaluation()' callback via 'callbacks' argument instead.\n",
      " 84%|████████▍ | 84/100 [03:58<00:58,  3.65s/it]The distribution is specified by [0.2, 0.95] and q=0.1, but the range is not divisible by `q`. It will be replaced by [0.2, 0.9].\n"
     ]
    },
    {
     "name": "stdout",
     "output_type": "stream",
     "text": [
      "\u001b[32m[I 2022-05-18 01:32:06,784]\u001b[0m Trial 83 finished with value: 0.977568466247108 and parameters: {'boosting_type': 'dart', 'max_depth': 12, 'learning_rate': 0.22439330813312908, 'feature_fraction': 0.9, 'num_leaves': 540, 'bagging_freq': 1, 'bagging_fraction': 0.9, 'reg_alpha': 14.600000000000001, 'reg_lambda': 48}. Best is trial 83 with value: 0.977568466247108.\u001b[0m\n"
     ]
    },
    {
     "name": "stderr",
     "output_type": "stream",
     "text": [
      "'verbose_eval' argument is deprecated and will be removed in a future release of LightGBM. Pass 'log_evaluation()' callback via 'callbacks' argument instead.\n",
      " 85%|████████▌ | 85/100 [04:03<01:00,  4.03s/it]The distribution is specified by [0.2, 0.95] and q=0.1, but the range is not divisible by `q`. It will be replaced by [0.2, 0.9].\n"
     ]
    },
    {
     "name": "stdout",
     "output_type": "stream",
     "text": [
      "\u001b[32m[I 2022-05-18 01:32:11,700]\u001b[0m Trial 84 finished with value: 0.9773620493029398 and parameters: {'boosting_type': 'dart', 'max_depth': 12, 'learning_rate': 0.22597520963172962, 'feature_fraction': 0.9, 'num_leaves': 460, 'bagging_freq': 1, 'bagging_fraction': 0.9, 'reg_alpha': 15.4, 'reg_lambda': 77}. Best is trial 83 with value: 0.977568466247108.\u001b[0m\n"
     ]
    },
    {
     "name": "stderr",
     "output_type": "stream",
     "text": [
      "'verbose_eval' argument is deprecated and will be removed in a future release of LightGBM. Pass 'log_evaluation()' callback via 'callbacks' argument instead.\n",
      " 86%|████████▌ | 86/100 [04:08<01:00,  4.30s/it]The distribution is specified by [0.2, 0.95] and q=0.1, but the range is not divisible by `q`. It will be replaced by [0.2, 0.9].\n"
     ]
    },
    {
     "name": "stdout",
     "output_type": "stream",
     "text": [
      "\u001b[32m[I 2022-05-18 01:32:16,631]\u001b[0m Trial 85 finished with value: 0.9774733136055158 and parameters: {'boosting_type': 'dart', 'max_depth': 12, 'learning_rate': 0.21809222462302646, 'feature_fraction': 0.9, 'num_leaves': 340, 'bagging_freq': 1, 'bagging_fraction': 0.9, 'reg_alpha': 15.200000000000001, 'reg_lambda': 83}. Best is trial 83 with value: 0.977568466247108.\u001b[0m\n"
     ]
    },
    {
     "name": "stderr",
     "output_type": "stream",
     "text": [
      "'verbose_eval' argument is deprecated and will be removed in a future release of LightGBM. Pass 'log_evaluation()' callback via 'callbacks' argument instead.\n",
      " 87%|████████▋ | 87/100 [04:12<00:56,  4.33s/it]The distribution is specified by [0.2, 0.95] and q=0.1, but the range is not divisible by `q`. It will be replaced by [0.2, 0.9].\n",
      "'verbose_eval' argument is deprecated and will be removed in a future release of LightGBM. Pass 'log_evaluation()' callback via 'callbacks' argument instead.\n"
     ]
    },
    {
     "name": "stdout",
     "output_type": "stream",
     "text": [
      "\u001b[32m[I 2022-05-18 01:32:21,037]\u001b[0m Trial 86 finished with value: 0.9775246051442211 and parameters: {'boosting_type': 'dart', 'max_depth': 10, 'learning_rate': 0.2252474612192432, 'feature_fraction': 0.9, 'num_leaves': 380, 'bagging_freq': 1, 'bagging_fraction': 0.9, 'reg_alpha': 14.700000000000001, 'reg_lambda': 79}. Best is trial 83 with value: 0.977568466247108.\u001b[0m\n"
     ]
    },
    {
     "name": "stderr",
     "output_type": "stream",
     "text": [
      " 88%|████████▊ | 88/100 [04:16<00:51,  4.28s/it]The distribution is specified by [0.2, 0.95] and q=0.1, but the range is not divisible by `q`. It will be replaced by [0.2, 0.9].\n"
     ]
    },
    {
     "name": "stdout",
     "output_type": "stream",
     "text": [
      "\u001b[32m[I 2022-05-18 01:32:25,206]\u001b[0m Trial 87 finished with value: 0.9775668009288856 and parameters: {'boosting_type': 'dart', 'max_depth': 10, 'learning_rate': 0.22548861866239078, 'feature_fraction': 0.8, 'num_leaves': 340, 'bagging_freq': 1, 'bagging_fraction': 0.9, 'reg_alpha': 15.600000000000001, 'reg_lambda': 86}. Best is trial 83 with value: 0.977568466247108.\u001b[0m\n"
     ]
    },
    {
     "name": "stderr",
     "output_type": "stream",
     "text": [
      "'verbose_eval' argument is deprecated and will be removed in a future release of LightGBM. Pass 'log_evaluation()' callback via 'callbacks' argument instead.\n",
      " 89%|████████▉ | 89/100 [04:21<00:46,  4.25s/it]The distribution is specified by [0.2, 0.95] and q=0.1, but the range is not divisible by `q`. It will be replaced by [0.2, 0.9].\n",
      "'early_stopping_rounds' argument is deprecated and will be removed in a future release of LightGBM. Pass 'early_stopping()' callback via 'callbacks' argument instead.\n"
     ]
    },
    {
     "name": "stdout",
     "output_type": "stream",
     "text": [
      "\u001b[32m[I 2022-05-18 01:32:29,393]\u001b[0m Trial 88 finished with value: 0.9774475473489858 and parameters: {'boosting_type': 'dart', 'max_depth': 10, 'learning_rate': 0.22645929237662438, 'feature_fraction': 0.8, 'num_leaves': 380, 'bagging_freq': 1, 'bagging_fraction': 0.9, 'reg_alpha': 16.2, 'reg_lambda': 132}. Best is trial 83 with value: 0.977568466247108.\u001b[0m\n"
     ]
    },
    {
     "name": "stderr",
     "output_type": "stream",
     "text": [
      "'verbose_eval' argument is deprecated and will be removed in a future release of LightGBM. Pass 'log_evaluation()' callback via 'callbacks' argument instead.\n",
      " 90%|█████████ | 90/100 [04:23<00:35,  3.55s/it]The distribution is specified by [0.2, 0.95] and q=0.1, but the range is not divisible by `q`. It will be replaced by [0.2, 0.9].\n"
     ]
    },
    {
     "name": "stdout",
     "output_type": "stream",
     "text": [
      "\u001b[32m[I 2022-05-18 01:32:31,291]\u001b[0m Trial 89 pruned. Trial was pruned at iteration 69.\u001b[0m\n"
     ]
    },
    {
     "name": "stderr",
     "output_type": "stream",
     "text": [
      "'verbose_eval' argument is deprecated and will be removed in a future release of LightGBM. Pass 'log_evaluation()' callback via 'callbacks' argument instead.\n",
      " 91%|█████████ | 91/100 [04:27<00:33,  3.75s/it]The distribution is specified by [0.2, 0.95] and q=0.1, but the range is not divisible by `q`. It will be replaced by [0.2, 0.9].\n",
      "'verbose_eval' argument is deprecated and will be removed in a future release of LightGBM. Pass 'log_evaluation()' callback via 'callbacks' argument instead.\n"
     ]
    },
    {
     "name": "stdout",
     "output_type": "stream",
     "text": [
      "\u001b[32m[I 2022-05-18 01:32:35,504]\u001b[0m Trial 90 finished with value: 0.9774630393685431 and parameters: {'boosting_type': 'dart', 'max_depth': 10, 'learning_rate': 0.2560732510966455, 'feature_fraction': 0.7, 'num_leaves': 100, 'bagging_freq': 1, 'bagging_fraction': 0.9, 'reg_alpha': 15.0, 'reg_lambda': 116}. Best is trial 83 with value: 0.977568466247108.\u001b[0m\n"
     ]
    },
    {
     "name": "stderr",
     "output_type": "stream",
     "text": [
      " 92%|█████████▏| 92/100 [04:31<00:30,  3.85s/it]The distribution is specified by [0.2, 0.95] and q=0.1, but the range is not divisible by `q`. It will be replaced by [0.2, 0.9].\n",
      "'verbose_eval' argument is deprecated and will be removed in a future release of LightGBM. Pass 'log_evaluation()' callback via 'callbacks' argument instead.\n"
     ]
    },
    {
     "name": "stdout",
     "output_type": "stream",
     "text": [
      "\u001b[32m[I 2022-05-18 01:32:39,582]\u001b[0m Trial 91 finished with value: 0.9774344546271898 and parameters: {'boosting_type': 'dart', 'max_depth': 10, 'learning_rate': 0.24866142767706045, 'feature_fraction': 0.7, 'num_leaves': 100, 'bagging_freq': 1, 'bagging_fraction': 0.9, 'reg_alpha': 15.5, 'reg_lambda': 118}. Best is trial 83 with value: 0.977568466247108.\u001b[0m\n"
     ]
    },
    {
     "name": "stderr",
     "output_type": "stream",
     "text": [
      " 93%|█████████▎| 93/100 [04:35<00:28,  4.07s/it]The distribution is specified by [0.2, 0.95] and q=0.1, but the range is not divisible by `q`. It will be replaced by [0.2, 0.9].\n",
      "'verbose_eval' argument is deprecated and will be removed in a future release of LightGBM. Pass 'log_evaluation()' callback via 'callbacks' argument instead.\n"
     ]
    },
    {
     "name": "stdout",
     "output_type": "stream",
     "text": [
      "\u001b[32m[I 2022-05-18 01:32:44,164]\u001b[0m Trial 92 finished with value: 0.9773578053284039 and parameters: {'boosting_type': 'dart', 'max_depth': 10, 'learning_rate': 0.24980767560222553, 'feature_fraction': 0.7, 'num_leaves': 140, 'bagging_freq': 1, 'bagging_fraction': 0.9, 'reg_alpha': 15.5, 'reg_lambda': 121}. Best is trial 83 with value: 0.977568466247108.\u001b[0m\n"
     ]
    },
    {
     "name": "stderr",
     "output_type": "stream",
     "text": [
      " 94%|█████████▍| 94/100 [04:39<00:23,  3.99s/it]The distribution is specified by [0.2, 0.95] and q=0.1, but the range is not divisible by `q`. It will be replaced by [0.2, 0.9].\n",
      "'verbose_eval' argument is deprecated and will be removed in a future release of LightGBM. Pass 'log_evaluation()' callback via 'callbacks' argument instead.\n"
     ]
    },
    {
     "name": "stdout",
     "output_type": "stream",
     "text": [
      "\u001b[32m[I 2022-05-18 01:32:47,968]\u001b[0m Trial 93 finished with value: 0.9769846079739374 and parameters: {'boosting_type': 'dart', 'max_depth': 9, 'learning_rate': 0.26214189379023234, 'feature_fraction': 0.7, 'num_leaves': 520, 'bagging_freq': 1, 'bagging_fraction': 0.9, 'reg_alpha': 17.5, 'reg_lambda': 161}. Best is trial 83 with value: 0.977568466247108.\u001b[0m\n"
     ]
    },
    {
     "name": "stderr",
     "output_type": "stream",
     "text": [
      " 95%|█████████▌| 95/100 [04:44<00:20,  4.07s/it]The distribution is specified by [0.2, 0.95] and q=0.1, but the range is not divisible by `q`. It will be replaced by [0.2, 0.9].\n",
      "'verbose_eval' argument is deprecated and will be removed in a future release of LightGBM. Pass 'log_evaluation()' callback via 'callbacks' argument instead.\n"
     ]
    },
    {
     "name": "stdout",
     "output_type": "stream",
     "text": [
      "\u001b[32m[I 2022-05-18 01:32:52,245]\u001b[0m Trial 94 finished with value: 0.9773629378838157 and parameters: {'boosting_type': 'dart', 'max_depth': 10, 'learning_rate': 0.193128988468703, 'feature_fraction': 0.8, 'num_leaves': 100, 'bagging_freq': 1, 'bagging_fraction': 0.9, 'reg_alpha': 13.100000000000001, 'reg_lambda': 211}. Best is trial 83 with value: 0.977568466247108.\u001b[0m\n"
     ]
    },
    {
     "name": "stderr",
     "output_type": "stream",
     "text": [
      " 96%|█████████▌| 96/100 [04:47<00:15,  3.99s/it]The distribution is specified by [0.2, 0.95] and q=0.1, but the range is not divisible by `q`. It will be replaced by [0.2, 0.9].\n",
      "'verbose_eval' argument is deprecated and will be removed in a future release of LightGBM. Pass 'log_evaluation()' callback via 'callbacks' argument instead.\n"
     ]
    },
    {
     "name": "stdout",
     "output_type": "stream",
     "text": [
      "\u001b[32m[I 2022-05-18 01:32:56,053]\u001b[0m Trial 95 finished with value: 0.9769164019468525 and parameters: {'boosting_type': 'dart', 'max_depth': 10, 'learning_rate': 0.18775470312662032, 'feature_fraction': 0.7, 'num_leaves': 60, 'bagging_freq': 1, 'bagging_fraction': 0.9, 'reg_alpha': 18.5, 'reg_lambda': 194}. Best is trial 83 with value: 0.977568466247108.\u001b[0m\n"
     ]
    },
    {
     "name": "stderr",
     "output_type": "stream",
     "text": [
      " 97%|█████████▋| 97/100 [04:51<00:12,  4.05s/it]The distribution is specified by [0.2, 0.95] and q=0.1, but the range is not divisible by `q`. It will be replaced by [0.2, 0.9].\n",
      "'verbose_eval' argument is deprecated and will be removed in a future release of LightGBM. Pass 'log_evaluation()' callback via 'callbacks' argument instead.\n"
     ]
    },
    {
     "name": "stdout",
     "output_type": "stream",
     "text": [
      "\u001b[32m[I 2022-05-18 01:33:00,230]\u001b[0m Trial 96 finished with value: 0.9774181342439088 and parameters: {'boosting_type': 'dart', 'max_depth': 10, 'learning_rate': 0.28047858774980283, 'feature_fraction': 0.8, 'num_leaves': 260, 'bagging_freq': 1, 'bagging_fraction': 0.9, 'reg_alpha': 14.0, 'reg_lambda': 226}. Best is trial 83 with value: 0.977568466247108.\u001b[0m\n"
     ]
    },
    {
     "name": "stderr",
     "output_type": "stream",
     "text": [
      " 98%|█████████▊| 98/100 [04:53<00:06,  3.21s/it]The distribution is specified by [0.2, 0.95] and q=0.1, but the range is not divisible by `q`. It will be replaced by [0.2, 0.9].\n",
      "'verbose_eval' argument is deprecated and will be removed in a future release of LightGBM. Pass 'log_evaluation()' callback via 'callbacks' argument instead.\n"
     ]
    },
    {
     "name": "stdout",
     "output_type": "stream",
     "text": [
      "\u001b[32m[I 2022-05-18 01:33:01,474]\u001b[0m Trial 97 pruned. Trial was pruned at iteration 50.\u001b[0m\n"
     ]
    },
    {
     "name": "stderr",
     "output_type": "stream",
     "text": [
      " 99%|█████████▉| 99/100 [04:57<00:03,  3.60s/it]The distribution is specified by [0.2, 0.95] and q=0.1, but the range is not divisible by `q`. It will be replaced by [0.2, 0.9].\n",
      "'verbose_eval' argument is deprecated and will be removed in a future release of LightGBM. Pass 'log_evaluation()' callback via 'callbacks' argument instead.\n"
     ]
    },
    {
     "name": "stdout",
     "output_type": "stream",
     "text": [
      "\u001b[32m[I 2022-05-18 01:33:05,994]\u001b[0m Trial 98 finished with value: 0.977635866847752 and parameters: {'boosting_type': 'dart', 'max_depth': 10, 'learning_rate': 0.2759844445088989, 'feature_fraction': 0.8, 'num_leaves': 360, 'bagging_freq': 1, 'bagging_fraction': 0.8, 'reg_alpha': 8.200000000000001, 'reg_lambda': 103}. Best is trial 98 with value: 0.977635866847752.\u001b[0m\n"
     ]
    },
    {
     "name": "stderr",
     "output_type": "stream",
     "text": [
      "100%|██████████| 100/100 [05:02<00:00,  3.02s/it]"
     ]
    },
    {
     "name": "stdout",
     "output_type": "stream",
     "text": [
      "\u001b[32m[I 2022-05-18 01:33:10,676]\u001b[0m Trial 99 finished with value: 0.9775381204473549 and parameters: {'boosting_type': 'dart', 'max_depth': 10, 'learning_rate': 0.25934073307994565, 'feature_fraction': 0.7, 'num_leaves': 340, 'bagging_freq': 1, 'bagging_fraction': 0.8, 'reg_alpha': 7.9, 'reg_lambda': 118}. Best is trial 98 with value: 0.977635866847752.\u001b[0m\n"
     ]
    },
    {
     "name": "stderr",
     "output_type": "stream",
     "text": [
      "\n"
     ]
    }
   ],
   "source": [
    "# optimize hyperparameters of lgb\n",
    "train_data = lgb.Dataset(X_train, label=y_train)\n",
    "valid_data = lgb.Dataset(X_test, label=y_test)\n",
    "\n",
    "def objective_lgb(trial):\n",
    "    \n",
    "    boosting_types = [\"gbdt\", \"rf\", \"dart\"]\n",
    "    boosting_type = trial.suggest_categorical(\"boosting_type\", boosting_types)\n",
    "\n",
    "    params = {\n",
    "        'objective': 'regression',\n",
    "        'boosting_type': trial.suggest_categorical(\"boosting_type\", [\"gbdt\", \"rf\", \"dart\"]),\n",
    "        'max_depth': trial.suggest_int('max_depth', 2, 12),\n",
    "        'metric': {'l2', 'auc'},\n",
    "        'learning_rate': trial.suggest_float('learning_rate', 0.01, 0.5),\n",
    "        'feature_fraction': trial.suggest_float('feature_fraction', 0.2, 0.95, step=0.1),\n",
    "        'num_leaves': trial.suggest_int('num_leaves', 20, 3000, step=20),\n",
    "        'bagging_freq': trial.suggest_categorical('bagging_freq', [1]),\n",
    "        'bagging_fraction': trial.suggest_float('bagging_fraction', 0.2, 0.95, step=0.1),\n",
    "        'reg_alpha': trial.suggest_float(\"reg_alpha\", 0, 100, step=0.1),\n",
    "        'reg_lambda': trial.suggest_int(\"reg_lambda\", 0, 1000, step=1),\n",
    "        'verbosity': -1,\n",
    "    }\n",
    "\n",
    "    N_iterations_max = 10_000\n",
    "    early_stopping_rounds = 50\n",
    "\n",
    "    if boosting_type == \"dart\":\n",
    "        N_iterations_max = 100\n",
    "        early_stopping_rounds = None\n",
    "\n",
    "    cv_res = lgb.cv(\n",
    "        params,\n",
    "        train_data,\n",
    "        num_boost_round=N_iterations_max,\n",
    "        early_stopping_rounds=early_stopping_rounds,\n",
    "        verbose_eval=False,\n",
    "        seed=42,\n",
    "        callbacks=[LightGBMPruningCallback(trial, \"auc\")],\n",
    "    )\n",
    "\n",
    "    num_boost_round = len(cv_res[\"auc-mean\"])\n",
    "    trial.set_user_attr(\"num_boost_round\", num_boost_round)\n",
    "\n",
    "    return cv_res[\"auc-mean\"][-1]\n",
    "\n",
    "\n",
    "\n",
    "study = optuna.create_study(\n",
    "    direction=\"maximize\",\n",
    "    sampler=TPESampler(seed=42),\n",
    "    pruner=MedianPruner(n_warmup_steps=50),\n",
    ")\n",
    "\n",
    "study.optimize(objective_lgb, n_trials=100, show_progress_bar=True)"
   ]
  },
  {
   "cell_type": "code",
   "execution_count": 87,
   "metadata": {},
   "outputs": [
    {
     "data": {
      "text/plain": [
       "{'boosting_type': 'dart',\n",
       " 'max_depth': 10,\n",
       " 'learning_rate': 0.2759844445088989,\n",
       " 'feature_fraction': 0.8,\n",
       " 'num_leaves': 360,\n",
       " 'bagging_freq': 1,\n",
       " 'bagging_fraction': 0.8,\n",
       " 'reg_alpha': 8.200000000000001,\n",
       " 'reg_lambda': 103}"
      ]
     },
     "execution_count": 87,
     "metadata": {},
     "output_type": "execute_result"
    }
   ],
   "source": [
    "study.best_trial.params"
   ]
  },
  {
   "cell_type": "code",
   "execution_count": 88,
   "metadata": {},
   "outputs": [
    {
     "ename": "NameError",
     "evalue": "name 'y_test1' is not defined",
     "output_type": "error",
     "traceback": [
      "\u001b[1;31m---------------------------------------------------------------------------\u001b[0m",
      "\u001b[1;31mNameError\u001b[0m                                 Traceback (most recent call last)",
      "\u001b[1;32m~\\AppData\\Local\\Temp/ipykernel_1548/1857111954.py\u001b[0m in \u001b[0;36m<module>\u001b[1;34m\u001b[0m\n\u001b[0;32m      3\u001b[0m \u001b[1;32mfrom\u001b[0m \u001b[0msklearn\u001b[0m\u001b[1;33m.\u001b[0m\u001b[0mmetrics\u001b[0m \u001b[1;32mimport\u001b[0m \u001b[0mconfusion_matrix\u001b[0m\u001b[1;33m\u001b[0m\u001b[1;33m\u001b[0m\u001b[0m\n\u001b[0;32m      4\u001b[0m \u001b[1;33m\u001b[0m\u001b[0m\n\u001b[1;32m----> 5\u001b[1;33m \u001b[0mfpr\u001b[0m\u001b[1;33m,\u001b[0m \u001b[0mtpr\u001b[0m\u001b[1;33m,\u001b[0m \u001b[0m_\u001b[0m \u001b[1;33m=\u001b[0m \u001b[0mroc_curve\u001b[0m\u001b[1;33m(\u001b[0m\u001b[0my_test1\u001b[0m\u001b[1;33m,\u001b[0m \u001b[0my_score\u001b[0m\u001b[1;33m)\u001b[0m\u001b[1;33m\u001b[0m\u001b[1;33m\u001b[0m\u001b[0m\n\u001b[0m\u001b[0;32m      6\u001b[0m \u001b[0mauc_score\u001b[0m \u001b[1;33m=\u001b[0m \u001b[0mauc\u001b[0m\u001b[1;33m(\u001b[0m\u001b[0mfpr\u001b[0m\u001b[1;33m,\u001b[0m\u001b[0mtpr\u001b[0m\u001b[1;33m)\u001b[0m\u001b[1;33m\u001b[0m\u001b[1;33m\u001b[0m\u001b[0m\n\u001b[0;32m      7\u001b[0m \u001b[0mauc_score\u001b[0m\u001b[1;33m\u001b[0m\u001b[1;33m\u001b[0m\u001b[0m\n",
      "\u001b[1;31mNameError\u001b[0m: name 'y_test1' is not defined"
     ]
    }
   ],
   "source": [
    "from sklearn.metrics import roc_curve\n",
    "from sklearn.metrics import auc\n",
    "from sklearn.metrics import confusion_matrix\n",
    "\n",
    "fpr, tpr, _ = roc_curve(y_test1, y_score) \n",
    "auc_score = auc(fpr,tpr)   \n",
    "auc_score"
   ]
  },
  {
   "cell_type": "markdown",
   "metadata": {},
   "source": [
    "{'boosting_type': 'dart',\n",
    " 'max_depth': 10,\n",
    " 'learning_rate': 0.2759844445088989,\n",
    " 'feature_fraction': 0.8,\n",
    " 'num_leaves': 360,\n",
    " 'bagging_freq': 1,\n",
    " 'bagging_fraction': 0.8,\n",
    " 'reg_alpha': 8.200000000000001,\n",
    " 'reg_lambda': 103}"
   ]
  }
 ],
 "metadata": {
  "interpreter": {
   "hash": "4e3119b6b440005e83014445b502bc062a01c9850f9c4ea1b0d68db6d948f423"
  },
  "kernelspec": {
   "display_name": "Python 3.9.7 ('base')",
   "language": "python",
   "name": "python3"
  },
  "language_info": {
   "codemirror_mode": {
    "name": "ipython",
    "version": 3
   },
   "file_extension": ".py",
   "mimetype": "text/x-python",
   "name": "python",
   "nbconvert_exporter": "python",
   "pygments_lexer": "ipython3",
   "version": "3.9.7"
  },
  "orig_nbformat": 4
 },
 "nbformat": 4,
 "nbformat_minor": 2
}
