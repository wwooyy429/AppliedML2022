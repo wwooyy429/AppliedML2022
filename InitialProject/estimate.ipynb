{
 "cells": [
  {
   "cell_type": "code",
   "execution_count": 92,
   "metadata": {},
   "outputs": [],
   "source": [
    "import h5py\n",
    "import pandas\n",
    "import numpy as np\n",
    "import pandas as pd\n",
    "import matplotlib.pyplot as plt\n",
    "from sklearn import tree\n",
    "from sklearn.datasets import make_moons\n",
    "from sklearn.tree import DecisionTreeClassifier, plot_tree\n",
    "from sklearn.metrics import accuracy_score\n",
    "from sklearn.model_selection import train_test_split, GridSearchCV, RandomizedSearchCV\n",
    "import shap\n",
    "import lightgbm as lgb \n",
    "import optuna\n",
    "from optuna.samplers import TPESampler\n",
    "from optuna.integration import LightGBMPruningCallback\n",
    "from optuna.pruners import MedianPruner\n",
    "import tensorflow as tf\n",
    "from tensorflow.keras.layers import Flatten, Dense, Dropout, BatchNormalization\n",
    "from tensorflow.keras.optimizers import Adam, SGD\n",
    "from sklearn.feature_selection import SelectKBest, f_regression, chi2, f_classif, mutual_info_regression"
   ]
  },
  {
   "cell_type": "code",
   "execution_count": 93,
   "metadata": {},
   "outputs": [
    {
     "name": "stdout",
     "output_type": "stream",
     "text": [
      "Shape of training data set: (162500, 166)\n",
      "Shape of test data set: (160651, 164)\n",
      "Shape of X: (121495, 160)\n",
      "Shape of y: (121495,)\n",
      "        eventNumber  runNumber  actualInteractionsPerCrossing  \\\n",
      "0        87834187.0   300000.0                      26.500000   \n",
      "1        84862668.0   300000.0                      35.500000   \n",
      "2        20869557.0   300000.0                      29.490000   \n",
      "3        42161877.0   300000.0                      37.500000   \n",
      "4        82761614.0   300000.0                      59.500000   \n",
      "...             ...        ...                            ...   \n",
      "162495   87753440.0   300000.0                      59.500000   \n",
      "162496    7746045.0   300000.0                      11.490000   \n",
      "162497   85994391.0   300000.0                      44.490002   \n",
      "162498    9886827.0   300000.0                      20.490000   \n",
      "162499   32505496.0   300000.0                      33.500000   \n",
      "\n",
      "        averageInteractionsPerCrossing  correctedActualMu  correctedAverageMu  \\\n",
      "0                            26.500000          26.500000           26.500000   \n",
      "1                            35.500000          35.500000           35.500000   \n",
      "2                            29.490000          29.490000           29.490000   \n",
      "3                            37.500000          37.500000           37.500000   \n",
      "4                            59.500000          59.500000           59.500000   \n",
      "...                                ...                ...                 ...   \n",
      "162495                       59.500000          59.500000           59.500000   \n",
      "162496                       11.490000          11.490000           11.490000   \n",
      "162497                       44.490002          44.490002           44.490002   \n",
      "162498                       20.490000          20.490000           20.490000   \n",
      "162499                       33.500000          33.500000           33.500000   \n",
      "\n",
      "        correctedScaledActualMu  correctedScaledAverageMu  NvtxReco  \\\n",
      "0                     26.500000                 26.500000      18.0   \n",
      "1                     35.500000                 35.500000      23.0   \n",
      "2                     29.490000                 29.490000      20.0   \n",
      "3                     37.500000                 37.500000      17.0   \n",
      "4                     59.500000                 59.500000      33.0   \n",
      "...                         ...                       ...       ...   \n",
      "162495                59.500000                 59.500000      34.0   \n",
      "162496                11.490000                 11.490000      10.0   \n",
      "162497                44.490002                 44.490002      28.0   \n",
      "162498                20.490000                 20.490000      14.0   \n",
      "162499                33.500000                 33.500000      18.0   \n",
      "\n",
      "        p_nTracks  ...    p_E5x7_Lr1     p_E5x7_Lr2   p_E5x7_Lr3  \\\n",
      "0             3.0  ...  43402.332031   74045.820312   337.980713   \n",
      "1             4.0  ...  36774.925781   58228.847656   412.321869   \n",
      "2             3.0  ...  23413.427734   38875.042969  3492.513672   \n",
      "3             2.0  ...  27372.955078  104002.000000   921.178040   \n",
      "4             7.0  ...  45745.859375   87924.406250   -75.167221   \n",
      "...           ...  ...           ...            ...          ...   \n",
      "162495        2.0  ...  35473.875000   86889.070312   867.511475   \n",
      "162496        4.0  ...  36722.617188   79933.289062   352.093262   \n",
      "162497        5.0  ...  26506.359375   52808.492188   287.444580   \n",
      "162498        1.0  ...  46398.742188  134187.593750  1426.328613   \n",
      "162499        5.0  ...  34368.222656   73279.906250  8762.319336   \n",
      "\n",
      "         p_E7x11_Lr0   p_E7x11_Lr1    p_E7x11_Lr2  p_E7x11_Lr3    p_E7x7_Lr0  \\\n",
      "0         273.708801  43091.683594   74447.539062   470.177124    273.708801   \n",
      "1       10861.282227  37433.324219   61805.964844   460.203613  10861.282227   \n",
      "2        5705.863281  23728.701172   40497.234375  3333.052734   5705.863281   \n",
      "3           0.000000  27101.673828  106995.789062  1127.115356      0.000000   \n",
      "4           0.000000  45947.109375   93710.968750  -188.182098      0.000000   \n",
      "...              ...           ...            ...          ...           ...   \n",
      "162495   1120.453857  36521.750000   88872.992188   748.347656   1120.453857   \n",
      "162496      0.000000  36812.964844   83049.414062   665.589417      0.000000   \n",
      "162497   7824.405273  26847.457031   53551.433594   -13.175649   7824.405273   \n",
      "162498      0.000000  46656.253906  137266.218750  1512.928101      0.000000   \n",
      "162499    367.449463  35567.296875   85217.921875  9526.083008    367.449463   \n",
      "\n",
      "          p_E7x7_Lr1     index  \n",
      "0       43091.683594       0.0  \n",
      "1       37433.324219       1.0  \n",
      "2       23728.701172       2.0  \n",
      "3       27101.673828       3.0  \n",
      "4       45947.109375       4.0  \n",
      "...              ...       ...  \n",
      "162495  36521.750000  162495.0  \n",
      "162496  36800.929688  162496.0  \n",
      "162497  26847.457031  162497.0  \n",
      "162498  46656.253906  162498.0  \n",
      "162499  35406.695312  162499.0  \n",
      "\n",
      "[162500 rows x 166 columns]\n"
     ]
    }
   ],
   "source": [
    "# read data\n",
    "def load_data(name):\n",
    "    with h5py.File(f'{name}.h5', 'r') as f:\n",
    "        filename = name.split('/')[-1]\n",
    "        return pandas.DataFrame(f[filename][:], dtype=np.float64)\n",
    "\n",
    "train = load_data('train')\n",
    "test  = load_data('test')\n",
    "\n",
    "print (f'Shape of training data set: {train.shape}')\n",
    "print (f'Shape of test data set: {test.shape}')\n",
    "\n",
    "all_variables = ['actualInteractionsPerCrossing', 'averageInteractionsPerCrossing', 'correctedActualMu', 'correctedAverageMu', 'correctedScaledActualMu', 'correctedScaledAverageMu', 'NvtxReco', 'p_nTracks', 'p_pt_track', 'p_eta', 'p_phi', 'p_charge', 'p_qOverP', 'p_z0', 'p_d0', 'p_sigmad0', 'p_d0Sig', 'p_EptRatio', 'p_dPOverP', 'p_z0theta', 'p_etaCluster', 'p_phiCluster', 'p_eCluster', 'p_rawEtaCluster', 'p_rawPhiCluster', 'p_rawECluster', 'p_eClusterLr0', 'p_eClusterLr1', 'p_eClusterLr2', 'p_eClusterLr3', 'p_etaClusterLr1', 'p_etaClusterLr2', 'p_phiClusterLr2', 'p_eAccCluster', 'p_f0Cluster', 'p_etaCalo', 'p_phiCalo', 'p_eTileGap3Cluster', 'p_cellIndexCluster', 'p_phiModCalo', 'p_etaModCalo', 'p_dPhiTH3', 'p_R12', 'p_fTG3', 'p_weta2', 'p_Reta', 'p_Rphi', 'p_Eratio', 'p_f1', 'p_f3', 'p_Rhad', 'p_Rhad1', 'p_deltaEta1', 'p_deltaPhiRescaled2', 'p_TRTPID', 'p_TRTTrackOccupancy', 'p_numberOfInnermostPixelHits', 'p_numberOfPixelHits', 'p_numberOfSCTHits', 'p_numberOfTRTHits', 'p_numberOfTRTXenonHits', 'p_chi2', 'p_ndof', 'p_SharedMuonTrack', 'p_E7x7_Lr2', 'p_E7x7_Lr3', 'p_E_Lr0_HiG', 'p_E_Lr0_LowG', 'p_E_Lr0_MedG', 'p_E_Lr1_HiG', 'p_E_Lr1_LowG', 'p_E_Lr1_MedG', 'p_E_Lr2_HiG', 'p_E_Lr2_LowG', 'p_E_Lr2_MedG', 'p_E_Lr3_HiG', 'p_E_Lr3_LowG', 'p_E_Lr3_MedG', 'p_ambiguityType', 'p_asy1', 'p_author', 'p_barys1', 'p_core57cellsEnergyCorrection', 'p_deltaEta0', 'p_deltaEta2', 'p_deltaEta3', 'p_deltaPhi0', 'p_deltaPhi1', 'p_deltaPhi2', 'p_deltaPhi3', 'p_deltaPhiFromLastMeasurement', 'p_deltaPhiRescaled0', 'p_deltaPhiRescaled1', 'p_deltaPhiRescaled3', 'p_e1152', 'p_e132', 'p_e235', 'p_e255', 'p_e2ts1', 'p_ecore', 'p_emins1', 'p_etconeCorrBitset', 'p_ethad', 'p_ethad1', 'p_f1core', 'p_f3core', 'p_maxEcell_energy', 'p_maxEcell_gain', 'p_maxEcell_time', 'p_maxEcell_x', 'p_maxEcell_y', 'p_maxEcell_z', 'p_nCells_Lr0_HiG', 'p_nCells_Lr0_LowG', 'p_nCells_Lr0_MedG', 'p_nCells_Lr1_HiG', 'p_nCells_Lr1_LowG', 'p_nCells_Lr1_MedG', 'p_nCells_Lr2_HiG', 'p_nCells_Lr2_LowG', 'p_nCells_Lr2_MedG', 'p_nCells_Lr3_HiG', 'p_nCells_Lr3_LowG', 'p_nCells_Lr3_MedG', 'p_pos', 'p_pos7', 'p_poscs1', 'p_poscs2', 'p_ptconeCorrBitset', 'p_ptconecoreTrackPtrCorrection', 'p_r33over37allcalo', 'p_topoetconeCorrBitset', 'p_topoetconecoreConeEnergyCorrection', 'p_topoetconecoreConeSCEnergyCorrection', 'p_weta1', 'p_widths1', 'p_widths2', 'p_wtots1', 'p_e233', 'p_e237', 'p_e277', 'p_e2tsts1', 'p_ehad1', 'p_emaxs1', 'p_fracs1', 'p_DeltaE', 'p_E3x5_Lr0', 'p_E3x5_Lr1', 'p_E3x5_Lr2', 'p_E3x5_Lr3', 'p_E5x7_Lr0', 'p_E5x7_Lr1', 'p_E5x7_Lr2', 'p_E5x7_Lr3', 'p_E7x11_Lr0', 'p_E7x11_Lr1', 'p_E7x11_Lr2', 'p_E7x11_Lr3', 'p_E7x7_Lr0', 'p_E7x7_Lr1' ]\n",
    "\n",
    "electron_truth = train['Truth']\n",
    "y = train['p_truth_E']\n",
    "y = y[electron_truth==1]\n",
    "X = train[all_variables]\n",
    "X = X[electron_truth==1]\n",
    "\n",
    "print (f'Shape of X: {X.shape}')\n",
    "print (f'Shape of y: {y.shape}')\n",
    "\n",
    "X_train, X_test, y_train, y_test = train_test_split(X, y, test_size=0.2, random_state=42)\n",
    "\n",
    "print(train)\n"
   ]
  },
  {
   "cell_type": "code",
   "execution_count": 94,
   "metadata": {},
   "outputs": [
    {
     "data": {
      "text/plain": [
       "(array([2.300e+01, 3.700e+01, 4.300e+01, 4.800e+01, 7.300e+01, 7.100e+01,\n",
       "        7.200e+01, 9.800e+01, 1.100e+02, 1.080e+02, 1.180e+02, 1.420e+02,\n",
       "        2.080e+02, 3.060e+02, 5.500e+02, 1.150e+03, 1.893e+03, 2.628e+03,\n",
       "        3.276e+03, 3.919e+03, 4.654e+03, 5.267e+03, 5.680e+03, 5.702e+03,\n",
       "        5.775e+03, 5.458e+03, 5.220e+03, 4.783e+03, 4.664e+03, 4.410e+03,\n",
       "        4.305e+03, 4.048e+03, 3.861e+03, 3.710e+03, 3.511e+03, 3.474e+03,\n",
       "        3.173e+03, 3.054e+03, 2.752e+03, 2.655e+03, 2.438e+03, 2.156e+03,\n",
       "        1.982e+03, 1.847e+03, 1.750e+03, 1.555e+03, 1.357e+03, 1.208e+03,\n",
       "        1.158e+03, 9.680e+02, 8.060e+02, 7.560e+02, 5.410e+02, 5.300e+02,\n",
       "        4.170e+02, 3.110e+02, 2.310e+02, 1.610e+02, 1.120e+02, 6.600e+01,\n",
       "        6.500e+01, 2.600e+01, 1.000e+01, 1.000e+01, 0.000e+00, 2.000e+00,\n",
       "        0.000e+00, 1.000e+00, 0.000e+00, 0.000e+00, 0.000e+00, 0.000e+00,\n",
       "        0.000e+00, 0.000e+00, 0.000e+00, 0.000e+00, 0.000e+00, 0.000e+00,\n",
       "        0.000e+00, 0.000e+00, 0.000e+00, 0.000e+00, 0.000e+00, 0.000e+00,\n",
       "        0.000e+00, 0.000e+00, 1.000e+00, 0.000e+00, 0.000e+00, 0.000e+00,\n",
       "        0.000e+00, 0.000e+00, 0.000e+00, 0.000e+00, 0.000e+00, 0.000e+00,\n",
       "        0.000e+00, 0.000e+00, 0.000e+00, 1.000e+00]),\n",
       " array([  2462.04614258,   7227.22880615,  11992.41146973,  16757.5941333 ,\n",
       "         21522.77679688,  26287.95946045,  31053.14212402,  35818.3247876 ,\n",
       "         40583.50745117,  45348.69011475,  50113.87277832,  54879.05544189,\n",
       "         59644.23810547,  64409.42076904,  69174.60343262,  73939.78609619,\n",
       "         78704.96875977,  83470.15142334,  88235.33408691,  93000.51675049,\n",
       "         97765.69941406, 102530.88207764, 107296.06474121, 112061.24740479,\n",
       "        116826.43006836, 121591.61273193, 126356.79539551, 131121.97805908,\n",
       "        135887.16072266, 140652.34338623, 145417.5260498 , 150182.70871338,\n",
       "        154947.89137695, 159713.07404053, 164478.2567041 , 169243.43936768,\n",
       "        174008.62203125, 178773.80469482, 183538.9873584 , 188304.17002197,\n",
       "        193069.35268555, 197834.53534912, 202599.7180127 , 207364.90067627,\n",
       "        212130.08333984, 216895.26600342, 221660.44866699, 226425.63133057,\n",
       "        231190.81399414, 235955.99665771, 240721.17932129, 245486.36198486,\n",
       "        250251.54464844, 255016.72731201, 259781.90997559, 264547.09263916,\n",
       "        269312.27530273, 274077.45796631, 278842.64062988, 283607.82329346,\n",
       "        288373.00595703, 293138.18862061, 297903.37128418, 302668.55394775,\n",
       "        307433.73661133, 312198.9192749 , 316964.10193848, 321729.28460205,\n",
       "        326494.46726563, 331259.6499292 , 336024.83259277, 340790.01525635,\n",
       "        345555.19791992, 350320.3805835 , 355085.56324707, 359850.74591064,\n",
       "        364615.92857422, 369381.11123779, 374146.29390137, 378911.47656494,\n",
       "        383676.65922852, 388441.84189209, 393207.02455566, 397972.20721924,\n",
       "        402737.38988281, 407502.57254639, 412267.75520996, 417032.93787354,\n",
       "        421798.12053711, 426563.30320068, 431328.48586426, 436093.66852783,\n",
       "        440858.85119141, 445624.03385498, 450389.21651855, 455154.39918213,\n",
       "        459919.5818457 , 464684.76450928, 469449.94717285, 474215.12983643,\n",
       "        478980.3125    ]),\n",
       " <BarContainer object of 100 artists>)"
      ]
     },
     "execution_count": 94,
     "metadata": {},
     "output_type": "execute_result"
    },
    {
     "data": {
      "image/png": "[encoded data removed]",
      "text/plain": [
       "<Figure size 432x288 with 1 Axes>"
      ]
     },
     "metadata": {
      "needs_background": "light"
     },
     "output_type": "display_data"
    }
   ],
   "source": [
    "range = np.arange(np.size(X))\n",
    "\n",
    "plt.hist(y, bins=100)"
   ]
  },
  {
   "cell_type": "code",
   "execution_count": 95,
   "metadata": {},
   "outputs": [],
   "source": [
    "def selection_features(X_train, y_train, X_test):\n",
    "    select = SelectKBest(score_func=f_regression, k=12)\n",
    "    select.fit(X_train, y_train)\n",
    "    \n",
    "    return select"
   ]
  },
  {
   "cell_type": "code",
   "execution_count": 96,
   "metadata": {},
   "outputs": [],
   "source": [
    "select = selection_features(X_train, y_train, X_test)\n",
    "\n"
   ]
  },
  {
   "cell_type": "code",
   "execution_count": null,
   "metadata": {},
   "outputs": [],
   "source": []
  }
 ],
 "metadata": {
  "interpreter": {
   "hash": "36c7fefa4e8b2876ba3e52fac3ee050cc39086e57b8e52f7f154d3363864abfe"
  },
  "kernelspec": {
   "display_name": "Python 3.9.12 ('base')",
   "language": "python",
   "name": "python3"
  },
  "language_info": {
   "codemirror_mode": {
    "name": "ipython",
    "version": 3
   },
   "file_extension": ".py",
   "mimetype": "text/x-python",
   "name": "python",
   "nbconvert_exporter": "python",
   "pygments_lexer": "ipython3",
   "version": "3.9.12"
  },
  "orig_nbformat": 4
 },
 "nbformat": 4,
 "nbformat_minor": 2
}
