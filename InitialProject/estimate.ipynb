{
 "cells": [
  {
   "cell_type": "code",
   "execution_count": 152,
   "metadata": {},
   "outputs": [],
   "source": [
    "import h5py\n",
    "import pandas\n",
    "import numpy as np\n",
    "import pandas as pd\n",
    "import matplotlib.pyplot as plt\n",
    "from sklearn import tree\n",
    "from sklearn.datasets import make_moons\n",
    "from sklearn.tree import DecisionTreeClassifier, plot_tree\n",
    "from sklearn.metrics import accuracy_score\n",
    "from sklearn.model_selection import train_test_split, GridSearchCV, RandomizedSearchCV\n",
    "import shap\n",
    "import lightgbm as lgb \n",
    "import optuna\n",
    "from optuna.samplers import TPESampler\n",
    "from optuna.integration import LightGBMPruningCallback\n",
    "from optuna.pruners import MedianPruner\n",
    "import tensorflow as tf\n",
    "from tensorflow.keras.layers import Flatten, Dense, Dropout, BatchNormalization\n",
    "from tensorflow.keras.optimizers import Adam, SGD\n",
    "from sklearn.feature_selection import SelectKBest, f_regression, chi2, f_classif, mutual_info_regression\n",
    "from sklearn import preprocessing\n",
    "from sklearn.metrics import mean_absolute_error"
   ]
  },
  {
   "cell_type": "code",
   "execution_count": 133,
   "metadata": {},
   "outputs": [
    {
     "name": "stdout",
     "output_type": "stream",
     "text": [
      "Shape of training data set: (162500, 166)\n",
      "Shape of test data set: (160651, 164)\n",
      "[-0.41764802 -0.01699412  0.01510229 ... -0.29044643 -0.21449289\n",
      " -1.1436536 ]\n",
      "Shape of X: (121495, 160)\n",
      "Shape of y: (121495,)\n"
     ]
    }
   ],
   "source": [
    "# read data\n",
    "def load_data(name):\n",
    "    with h5py.File(f'{name}.h5', 'r') as f:\n",
    "        filename = name.split('/')[-1]\n",
    "        return pandas.DataFrame(f[filename][:], dtype=np.float64)\n",
    "\n",
    "train = load_data('train')\n",
    "test  = load_data('test')\n",
    "\n",
    "print (f'Shape of training data set: {train.shape}')\n",
    "print (f'Shape of test data set: {test.shape}')\n",
    "\n",
    "all_variables = ['actualInteractionsPerCrossing', 'averageInteractionsPerCrossing', 'correctedActualMu', 'correctedAverageMu', 'correctedScaledActualMu', 'correctedScaledAverageMu', 'NvtxReco', 'p_nTracks', 'p_pt_track', 'p_eta', 'p_phi', 'p_charge', 'p_qOverP', 'p_z0', 'p_d0', 'p_sigmad0', 'p_d0Sig', 'p_EptRatio', 'p_dPOverP', 'p_z0theta', 'p_etaCluster', 'p_phiCluster', 'p_eCluster', 'p_rawEtaCluster', 'p_rawPhiCluster', 'p_rawECluster', 'p_eClusterLr0', 'p_eClusterLr1', 'p_eClusterLr2', 'p_eClusterLr3', 'p_etaClusterLr1', 'p_etaClusterLr2', 'p_phiClusterLr2', 'p_eAccCluster', 'p_f0Cluster', 'p_etaCalo', 'p_phiCalo', 'p_eTileGap3Cluster', 'p_cellIndexCluster', 'p_phiModCalo', 'p_etaModCalo', 'p_dPhiTH3', 'p_R12', 'p_fTG3', 'p_weta2', 'p_Reta', 'p_Rphi', 'p_Eratio', 'p_f1', 'p_f3', 'p_Rhad', 'p_Rhad1', 'p_deltaEta1', 'p_deltaPhiRescaled2', 'p_TRTPID', 'p_TRTTrackOccupancy', 'p_numberOfInnermostPixelHits', 'p_numberOfPixelHits', 'p_numberOfSCTHits', 'p_numberOfTRTHits', 'p_numberOfTRTXenonHits', 'p_chi2', 'p_ndof', 'p_SharedMuonTrack', 'p_E7x7_Lr2', 'p_E7x7_Lr3', 'p_E_Lr0_HiG', 'p_E_Lr0_LowG', 'p_E_Lr0_MedG', 'p_E_Lr1_HiG', 'p_E_Lr1_LowG', 'p_E_Lr1_MedG', 'p_E_Lr2_HiG', 'p_E_Lr2_LowG', 'p_E_Lr2_MedG', 'p_E_Lr3_HiG', 'p_E_Lr3_LowG', 'p_E_Lr3_MedG', 'p_ambiguityType', 'p_asy1', 'p_author', 'p_barys1', 'p_core57cellsEnergyCorrection', 'p_deltaEta0', 'p_deltaEta2', 'p_deltaEta3', 'p_deltaPhi0', 'p_deltaPhi1', 'p_deltaPhi2', 'p_deltaPhi3', 'p_deltaPhiFromLastMeasurement', 'p_deltaPhiRescaled0', 'p_deltaPhiRescaled1', 'p_deltaPhiRescaled3', 'p_e1152', 'p_e132', 'p_e235', 'p_e255', 'p_e2ts1', 'p_ecore', 'p_emins1', 'p_etconeCorrBitset', 'p_ethad', 'p_ethad1', 'p_f1core', 'p_f3core', 'p_maxEcell_energy', 'p_maxEcell_gain', 'p_maxEcell_time', 'p_maxEcell_x', 'p_maxEcell_y', 'p_maxEcell_z', 'p_nCells_Lr0_HiG', 'p_nCells_Lr0_LowG', 'p_nCells_Lr0_MedG', 'p_nCells_Lr1_HiG', 'p_nCells_Lr1_LowG', 'p_nCells_Lr1_MedG', 'p_nCells_Lr2_HiG', 'p_nCells_Lr2_LowG', 'p_nCells_Lr2_MedG', 'p_nCells_Lr3_HiG', 'p_nCells_Lr3_LowG', 'p_nCells_Lr3_MedG', 'p_pos', 'p_pos7', 'p_poscs1', 'p_poscs2', 'p_ptconeCorrBitset', 'p_ptconecoreTrackPtrCorrection', 'p_r33over37allcalo', 'p_topoetconeCorrBitset', 'p_topoetconecoreConeEnergyCorrection', 'p_topoetconecoreConeSCEnergyCorrection', 'p_weta1', 'p_widths1', 'p_widths2', 'p_wtots1', 'p_e233', 'p_e237', 'p_e277', 'p_e2tsts1', 'p_ehad1', 'p_emaxs1', 'p_fracs1', 'p_DeltaE', 'p_E3x5_Lr0', 'p_E3x5_Lr1', 'p_E3x5_Lr2', 'p_E3x5_Lr3', 'p_E5x7_Lr0', 'p_E5x7_Lr1', 'p_E5x7_Lr2', 'p_E5x7_Lr3', 'p_E7x11_Lr0', 'p_E7x11_Lr1', 'p_E7x11_Lr2', 'p_E7x11_Lr3', 'p_E7x7_Lr0', 'p_E7x7_Lr1' ]\n",
    "\n",
    "all = train[all_variables]\n",
    "\n",
    "electron_truth = train['Truth']\n",
    "y = train['p_truth_E']\n",
    "y = y[electron_truth==1]\n",
    "X = train[all_variables]\n",
    "X = X[electron_truth==1]\n",
    "y = y.to_numpy(dtype='float32')\n",
    "\n",
    "# prepocessing\n",
    "\n",
    "norm = preprocessing.MinMaxScaler()\n",
    "sc = preprocessing.StandardScaler()\n",
    "X = sc.fit_transform(X)\n",
    "y = np.reshape(y, (-1,1))\n",
    "y = sc.fit_transform(y)\n",
    "y = y.ravel()\n",
    "\n",
    "X = pd.DataFrame(X, columns=all_variables)\n",
    "# y = pd.DataFrame(y, columns=['p_truth_E'])\n",
    "\n",
    "print(y)\n",
    "\n",
    "print (f'Shape of X: {X.shape}')\n",
    "print (f'Shape of y: {y.shape}')\n",
    "\n",
    "X_train, X_test, y_train, y_test = train_test_split(X, y, test_size=0.2, random_state=42)\n"
   ]
  },
  {
   "cell_type": "code",
   "execution_count": 134,
   "metadata": {},
   "outputs": [],
   "source": [
    "# feature_selection\n",
    "def selection_features(X_train, y_train, X_test):\n",
    "    select = SelectKBest(score_func=mutual_info_regression, k=12)\n",
    "    select.fit(X_train, y_train)\n",
    "    \n",
    "    return select"
   ]
  },
  {
   "cell_type": "code",
   "execution_count": 135,
   "metadata": {},
   "outputs": [],
   "source": [
    "# select = selection_features(X_train, y_train, X_test)\n",
    "# X = pd.DataFrame(X)\n",
    "# names = X.columns.values[select.get_support()]\n",
    "# scores = select.scores_[select.get_support()]\n",
    "# names_scores = list(zip(names, scores))\n",
    "# ns_df = pd.DataFrame(data = names_scores, columns=['Feature_names', 'Feature_scores'])\n",
    "# #Sort the dataframe for better visualization\n",
    "# ns_df_sorted = ns_df.sort_values(['Feature_names', 'Feature_scores'], ascending = [False, True])\n",
    "# print(ns_df_sorted)"
   ]
  },
  {
   "cell_type": "code",
   "execution_count": 136,
   "metadata": {},
   "outputs": [],
   "source": [
    "# def get_feature_importance():\n",
    "#     model = SelectKBest(mutual_info_regression, k=12)#选择k个最佳特征\n",
    "#     X_new = model.fit_transform(X, y)\n",
    "#     #feature_data是特征数据，label_data是标签数据，该函数可以选择出k个特征 \n",
    " \n",
    "#     print(\"model shape: \",X_new.shape)\n",
    " \n",
    "#     scores = model.scores_\n",
    "#     print('model scores:', scores)  # 得分越高，特征越重要\n",
    " \n",
    "#     p_values = model.pvalues_\n",
    "#     print('model p-values', p_values)  # p-values 越小，置信度越高，特征越重要\n",
    " \n",
    "#     # 按重要性排序，选出最重要的 k 个\n",
    "#     indices = np.argsort(scores)[::-1]\n",
    "#     k_best_features = list(X.columns.values[indices[0:12]])\n",
    " \n",
    "#     print('k best features are: ',k_best_features)\n",
    "    \n",
    "#     return k_best_features\n"
   ]
  },
  {
   "cell_type": "code",
   "execution_count": 156,
   "metadata": {},
   "outputs": [],
   "source": [
    "lgb_variables = ['p_eCluster',\n",
    " 'p_rawECluster',\n",
    " 'p_eAccCluster',\n",
    " 'p_ecore',\n",
    " 'p_E7x11_Lr2',\n",
    " 'p_E7x7_Lr2',\n",
    " 'p_e277',\n",
    " 'p_eClusterLr2',\n",
    " 'p_E5x7_Lr2',\n",
    " 'p_e255',\n",
    " 'p_e237',\n",
    " 'p_e235']\n",
    "\n",
    "\n",
    "\n",
    "X_lgb = train[lgb_variables]\n",
    "X_lgb = X_lgb[electron_truth==1]\n",
    "X_lgb = sc.fit_transform(X_lgb)\n",
    "X_lgb = pd.DataFrame(X_lgb, columns=lgb_variables)\n",
    "\n",
    "\n",
    " "
   ]
  },
  {
   "cell_type": "code",
   "execution_count": 165,
   "metadata": {},
   "outputs": [
    {
     "name": "stderr",
     "output_type": "stream",
     "text": [
      "\u001b[32m[I 2022-05-19 23:43:03,835]\u001b[0m A new study created in memory with name: no-name-e05c1148-8079-4c57-8163-4299e95a0c5f\u001b[0m\n",
      "Progress bar is experimental (supported from v1.2.0). The interface can change in the future.\n",
      "  0%|          | 0/100 [00:00<?, ?it/s]The distribution is specified by [0.2, 0.95] and q=0.1, but the range is not divisible by `q`. It will be replaced by [0.2, 0.9].\n",
      "'early_stopping_rounds' argument is deprecated and will be removed in a future release of LightGBM. Pass 'early_stopping()' callback via 'callbacks' argument instead.\n",
      "'verbose' argument is deprecated and will be removed in a future release of LightGBM. Pass 'log_evaluation()' callback via 'callbacks' argument instead.\n"
     ]
    },
    {
     "name": "stdout",
     "output_type": "stream",
     "text": [
      "[LightGBM] [Warning] feature_fraction is set=0.2, colsample_bytree=1.0 will be ignored. Current value: feature_fraction=0.2\n",
      "[LightGBM] [Warning] bagging_fraction is set=0.6000000000000001, subsample=1.0 will be ignored. Current value: bagging_fraction=0.6000000000000001\n",
      "[LightGBM] [Warning] bagging_freq is set=1, subsample_freq=0 will be ignored. Current value: bagging_freq=1\n"
     ]
    },
    {
     "name": "stderr",
     "output_type": "stream",
     "text": [
      "  1%|          | 1/100 [00:00<00:23,  4.22it/s]The distribution is specified by [0.2, 0.95] and q=0.1, but the range is not divisible by `q`. It will be replaced by [0.2, 0.9].\n",
      "'early_stopping_rounds' argument is deprecated and will be removed in a future release of LightGBM. Pass 'early_stopping()' callback via 'callbacks' argument instead.\n",
      "'verbose' argument is deprecated and will be removed in a future release of LightGBM. Pass 'log_evaluation()' callback via 'callbacks' argument instead.\n"
     ]
    },
    {
     "name": "stdout",
     "output_type": "stream",
     "text": [
      "\u001b[32m[I 2022-05-19 23:43:04,071]\u001b[0m Trial 0 finished with value: 0.18356512962289062 and parameters: {'boosting_type': 'rf', 'max_depth': 8, 'min_child_samples': 156, 'learning_rate': 0.08643731496473929, 'feature_fraction': 0.2, 'num_leaves': 2600, 'bagging_freq': 1, 'bagging_fraction': 0.6000000000000001, 'reg_alpha': 70.8, 'reg_lambda': 20}. Best is trial 0 with value: 0.18356512962289062.\u001b[0m\n",
      "[LightGBM] [Warning] feature_fraction is set=0.6000000000000001, colsample_bytree=1.0 will be ignored. Current value: feature_fraction=0.6000000000000001\n",
      "[LightGBM] [Warning] bagging_fraction is set=0.4, subsample=1.0 will be ignored. Current value: bagging_fraction=0.4\n",
      "[LightGBM] [Warning] bagging_freq is set=1, subsample_freq=0 will be ignored. Current value: bagging_freq=1\n"
     ]
    },
    {
     "name": "stderr",
     "output_type": "stream",
     "text": [
      "  2%|▏         | 2/100 [00:00<00:23,  4.26it/s]The distribution is specified by [0.2, 0.95] and q=0.1, but the range is not divisible by `q`. It will be replaced by [0.2, 0.9].\n",
      "'early_stopping_rounds' argument is deprecated and will be removed in a future release of LightGBM. Pass 'early_stopping()' callback via 'callbacks' argument instead.\n",
      "'verbose' argument is deprecated and will be removed in a future release of LightGBM. Pass 'log_evaluation()' callback via 'callbacks' argument instead.\n",
      "Early stopping is not available in dart mode\n"
     ]
    },
    {
     "name": "stdout",
     "output_type": "stream",
     "text": [
      "\u001b[32m[I 2022-05-19 23:43:04,305]\u001b[0m Trial 1 finished with value: 0.14852435407286899 and parameters: {'boosting_type': 'gbdt', 'max_depth': 4, 'min_child_samples': 183, 'learning_rate': 0.1590786990501735, 'feature_fraction': 0.6000000000000001, 'num_leaves': 1300, 'bagging_freq': 1, 'bagging_fraction': 0.4, 'reg_alpha': 61.2, 'reg_lambda': 139}. Best is trial 0 with value: 0.18356512962289062.\u001b[0m\n",
      "[LightGBM] [Warning] feature_fraction is set=0.6000000000000001, colsample_bytree=1.0 will be ignored. Current value: feature_fraction=0.6000000000000001\n",
      "[LightGBM] [Warning] bagging_fraction is set=0.6000000000000001, subsample=1.0 will be ignored. Current value: bagging_fraction=0.6000000000000001\n",
      "[LightGBM] [Warning] bagging_freq is set=1, subsample_freq=0 will be ignored. Current value: bagging_freq=1\n"
     ]
    },
    {
     "name": "stderr",
     "output_type": "stream",
     "text": [
      "  3%|▎         | 3/100 [00:01<00:41,  2.32it/s]The distribution is specified by [0.2, 0.95] and q=0.1, but the range is not divisible by `q`. It will be replaced by [0.2, 0.9].\n",
      "'early_stopping_rounds' argument is deprecated and will be removed in a future release of LightGBM. Pass 'early_stopping()' callback via 'callbacks' argument instead.\n",
      "'verbose' argument is deprecated and will be removed in a future release of LightGBM. Pass 'log_evaluation()' callback via 'callbacks' argument instead.\n"
     ]
    },
    {
     "name": "stdout",
     "output_type": "stream",
     "text": [
      "\u001b[32m[I 2022-05-19 23:43:04,971]\u001b[0m Trial 2 finished with value: 0.15011672533736664 and parameters: {'boosting_type': 'dart', 'max_depth': 10, 'min_child_samples': 199, 'learning_rate': 0.2619748748226697, 'feature_fraction': 0.6000000000000001, 'num_leaves': 140, 'bagging_freq': 1, 'bagging_fraction': 0.6000000000000001, 'reg_alpha': 17.0, 'reg_lambda': 65}. Best is trial 0 with value: 0.18356512962289062.\u001b[0m\n",
      "[LightGBM] [Warning] feature_fraction is set=0.5, colsample_bytree=1.0 will be ignored. Current value: feature_fraction=0.5\n",
      "[LightGBM] [Warning] bagging_fraction is set=0.5, subsample=1.0 will be ignored. Current value: bagging_fraction=0.5\n",
      "[LightGBM] [Warning] bagging_freq is set=1, subsample_freq=0 will be ignored. Current value: bagging_freq=1\n"
     ]
    },
    {
     "name": "stderr",
     "output_type": "stream",
     "text": [
      "  4%|▍         | 4/100 [00:01<00:35,  2.74it/s]The distribution is specified by [0.2, 0.95] and q=0.1, but the range is not divisible by `q`. It will be replaced by [0.2, 0.9].\n",
      "'early_stopping_rounds' argument is deprecated and will be removed in a future release of LightGBM. Pass 'early_stopping()' callback via 'callbacks' argument instead.\n",
      "'verbose' argument is deprecated and will be removed in a future release of LightGBM. Pass 'log_evaluation()' callback via 'callbacks' argument instead.\n"
     ]
    },
    {
     "name": "stdout",
     "output_type": "stream",
     "text": [
      "\u001b[32m[I 2022-05-19 23:43:05,234]\u001b[0m Trial 3 finished with value: 0.22772695218453579 and parameters: {'boosting_type': 'rf', 'max_depth': 5, 'min_child_samples': 97, 'learning_rate': 0.34527418299095686, 'feature_fraction': 0.5, 'num_leaves': 380, 'bagging_freq': 1, 'bagging_fraction': 0.5, 'reg_alpha': 3.4000000000000004, 'reg_lambda': 910}. Best is trial 3 with value: 0.22772695218453579.\u001b[0m\n",
      "[LightGBM] [Warning] feature_fraction is set=0.9, colsample_bytree=1.0 will be ignored. Current value: feature_fraction=0.9\n",
      "[LightGBM] [Warning] bagging_fraction is set=0.9, subsample=1.0 will be ignored. Current value: bagging_fraction=0.9\n",
      "[LightGBM] [Warning] bagging_freq is set=1, subsample_freq=0 will be ignored. Current value: bagging_freq=1\n"
     ]
    },
    {
     "name": "stderr",
     "output_type": "stream",
     "text": [
      "  5%|▌         | 5/100 [00:01<00:31,  3.05it/s]The distribution is specified by [0.2, 0.95] and q=0.1, but the range is not divisible by `q`. It will be replaced by [0.2, 0.9].\n",
      "'early_stopping_rounds' argument is deprecated and will be removed in a future release of LightGBM. Pass 'early_stopping()' callback via 'callbacks' argument instead.\n",
      "'verbose' argument is deprecated and will be removed in a future release of LightGBM. Pass 'log_evaluation()' callback via 'callbacks' argument instead.\n"
     ]
    },
    {
     "name": "stdout",
     "output_type": "stream",
     "text": [
      "\u001b[32m[I 2022-05-19 23:43:05,498]\u001b[0m Trial 4 finished with value: 0.2131715115379812 and parameters: {'boosting_type': 'rf', 'max_depth': 7, 'min_child_samples': 547, 'learning_rate': 0.10057868320750825, 'feature_fraction': 0.9, 'num_leaves': 2340, 'bagging_freq': 1, 'bagging_fraction': 0.9, 'reg_alpha': 89.5, 'reg_lambda': 598}. Best is trial 3 with value: 0.22772695218453579.\u001b[0m\n",
      "[LightGBM] [Warning] feature_fraction is set=0.4, colsample_bytree=1.0 will be ignored. Current value: feature_fraction=0.4\n",
      "[LightGBM] [Warning] bagging_fraction is set=0.4, subsample=1.0 will be ignored. Current value: bagging_fraction=0.4\n",
      "[LightGBM] [Warning] bagging_freq is set=1, subsample_freq=0 will be ignored. Current value: bagging_freq=1\n"
     ]
    },
    {
     "name": "stderr",
     "output_type": "stream",
     "text": [
      "  6%|▌         | 6/100 [00:01<00:28,  3.35it/s]The distribution is specified by [0.2, 0.95] and q=0.1, but the range is not divisible by `q`. It will be replaced by [0.2, 0.9].\n",
      "'early_stopping_rounds' argument is deprecated and will be removed in a future release of LightGBM. Pass 'early_stopping()' callback via 'callbacks' argument instead.\n",
      "'verbose' argument is deprecated and will be removed in a future release of LightGBM. Pass 'log_evaluation()' callback via 'callbacks' argument instead.\n"
     ]
    },
    {
     "name": "stdout",
     "output_type": "stream",
     "text": [
      "\u001b[32m[I 2022-05-19 23:43:05,738]\u001b[0m Trial 5 finished with value: 0.15358133351329822 and parameters: {'boosting_type': 'gbdt', 'max_depth': 2, 'min_child_samples': 325, 'learning_rate': 0.2004518719478462, 'feature_fraction': 0.4, 'num_leaves': 2500, 'bagging_freq': 1, 'bagging_fraction': 0.4, 'reg_alpha': 28.1, 'reg_lambda': 543}. Best is trial 3 with value: 0.22772695218453579.\u001b[0m\n",
      "[LightGBM] [Warning] feature_fraction is set=0.2, colsample_bytree=1.0 will be ignored. Current value: feature_fraction=0.2\n",
      "[LightGBM] [Warning] bagging_fraction is set=0.7, subsample=1.0 will be ignored. Current value: bagging_fraction=0.7\n",
      "[LightGBM] [Warning] bagging_freq is set=1, subsample_freq=0 will be ignored. Current value: bagging_freq=1\n"
     ]
    },
    {
     "name": "stderr",
     "output_type": "stream",
     "text": [
      "  7%|▋         | 7/100 [00:02<00:28,  3.30it/s]The distribution is specified by [0.2, 0.95] and q=0.1, but the range is not divisible by `q`. It will be replaced by [0.2, 0.9].\n",
      "'early_stopping_rounds' argument is deprecated and will be removed in a future release of LightGBM. Pass 'early_stopping()' callback via 'callbacks' argument instead.\n",
      "'verbose' argument is deprecated and will be removed in a future release of LightGBM. Pass 'log_evaluation()' callback via 'callbacks' argument instead.\n"
     ]
    },
    {
     "name": "stdout",
     "output_type": "stream",
     "text": [
      "\u001b[32m[I 2022-05-19 23:43:06,051]\u001b[0m Trial 6 finished with value: 0.22298887752409388 and parameters: {'boosting_type': 'rf', 'max_depth': 12, 'min_child_samples': 773, 'learning_rate': 0.10737068395174447, 'feature_fraction': 0.2, 'num_leaves': 2460, 'bagging_freq': 1, 'bagging_fraction': 0.7, 'reg_alpha': 72.9, 'reg_lambda': 772}. Best is trial 3 with value: 0.22772695218453579.\u001b[0m\n",
      "[LightGBM] [Warning] feature_fraction is set=0.2, colsample_bytree=1.0 will be ignored. Current value: feature_fraction=0.2\n",
      "[LightGBM] [Warning] bagging_fraction is set=0.4, subsample=1.0 will be ignored. Current value: bagging_fraction=0.4\n",
      "[LightGBM] [Warning] bagging_freq is set=1, subsample_freq=0 will be ignored. Current value: bagging_freq=1\n"
     ]
    },
    {
     "name": "stderr",
     "output_type": "stream",
     "text": [
      "  8%|▊         | 8/100 [00:02<00:26,  3.50it/s]The distribution is specified by [0.2, 0.95] and q=0.1, but the range is not divisible by `q`. It will be replaced by [0.2, 0.9].\n",
      "'early_stopping_rounds' argument is deprecated and will be removed in a future release of LightGBM. Pass 'early_stopping()' callback via 'callbacks' argument instead.\n",
      "'verbose' argument is deprecated and will be removed in a future release of LightGBM. Pass 'log_evaluation()' callback via 'callbacks' argument instead.\n"
     ]
    },
    {
     "name": "stdout",
     "output_type": "stream",
     "text": [
      "\u001b[32m[I 2022-05-19 23:43:06,299]\u001b[0m Trial 7 finished with value: 0.2362445618783325 and parameters: {'boosting_type': 'rf', 'max_depth': 11, 'min_child_samples': 623, 'learning_rate': 0.1721400321777981, 'feature_fraction': 0.2, 'num_leaves': 940, 'bagging_freq': 1, 'bagging_fraction': 0.4, 'reg_alpha': 73.0, 'reg_lambda': 638}. Best is trial 7 with value: 0.2362445618783325.\u001b[0m\n",
      "[LightGBM] [Warning] feature_fraction is set=0.8, colsample_bytree=1.0 will be ignored. Current value: feature_fraction=0.8\n",
      "[LightGBM] [Warning] bagging_fraction is set=0.6000000000000001, subsample=1.0 will be ignored. Current value: bagging_fraction=0.6000000000000001\n",
      "[LightGBM] [Warning] bagging_freq is set=1, subsample_freq=0 will be ignored. Current value: bagging_freq=1\n"
     ]
    },
    {
     "name": "stderr",
     "output_type": "stream",
     "text": [
      "  9%|▉         | 9/100 [00:02<00:25,  3.60it/s]The distribution is specified by [0.2, 0.95] and q=0.1, but the range is not divisible by `q`. It will be replaced by [0.2, 0.9].\n",
      "'early_stopping_rounds' argument is deprecated and will be removed in a future release of LightGBM. Pass 'early_stopping()' callback via 'callbacks' argument instead.\n",
      "'verbose' argument is deprecated and will be removed in a future release of LightGBM. Pass 'log_evaluation()' callback via 'callbacks' argument instead.\n",
      "Early stopping is not available in dart mode\n"
     ]
    },
    {
     "name": "stdout",
     "output_type": "stream",
     "text": [
      "\u001b[32m[I 2022-05-19 23:43:06,560]\u001b[0m Trial 8 finished with value: 0.14706475580378822 and parameters: {'boosting_type': 'gbdt', 'max_depth': 9, 'min_child_samples': 761, 'learning_rate': 0.28502582680905314, 'feature_fraction': 0.8, 'num_leaves': 1500, 'bagging_freq': 1, 'bagging_fraction': 0.6000000000000001, 'reg_alpha': 42.7, 'reg_lambda': 25}. Best is trial 7 with value: 0.2362445618783325.\u001b[0m\n",
      "[LightGBM] [Warning] feature_fraction is set=0.30000000000000004, colsample_bytree=1.0 will be ignored. Current value: feature_fraction=0.30000000000000004\n",
      "[LightGBM] [Warning] bagging_fraction is set=0.8, subsample=1.0 will be ignored. Current value: bagging_fraction=0.8\n",
      "[LightGBM] [Warning] bagging_freq is set=1, subsample_freq=0 will be ignored. Current value: bagging_freq=1\n"
     ]
    },
    {
     "name": "stderr",
     "output_type": "stream",
     "text": [
      " 10%|█         | 10/100 [00:03<00:31,  2.87it/s]The distribution is specified by [0.2, 0.95] and q=0.1, but the range is not divisible by `q`. It will be replaced by [0.2, 0.9].\n",
      "'early_stopping_rounds' argument is deprecated and will be removed in a future release of LightGBM. Pass 'early_stopping()' callback via 'callbacks' argument instead.\n",
      "'verbose' argument is deprecated and will be removed in a future release of LightGBM. Pass 'log_evaluation()' callback via 'callbacks' argument instead.\n"
     ]
    },
    {
     "name": "stdout",
     "output_type": "stream",
     "text": [
      "\u001b[32m[I 2022-05-19 23:43:07,066]\u001b[0m Trial 9 finished with value: 0.14991125777976153 and parameters: {'boosting_type': 'dart', 'max_depth': 5, 'min_child_samples': 509, 'learning_rate': 0.4547075722237856, 'feature_fraction': 0.30000000000000004, 'num_leaves': 1240, 'bagging_freq': 1, 'bagging_fraction': 0.8, 'reg_alpha': 22.900000000000002, 'reg_lambda': 77}. Best is trial 7 with value: 0.2362445618783325.\u001b[0m\n",
      "[LightGBM] [Warning] feature_fraction is set=0.4, colsample_bytree=1.0 will be ignored. Current value: feature_fraction=0.4\n",
      "[LightGBM] [Warning] bagging_fraction is set=0.2, subsample=1.0 will be ignored. Current value: bagging_fraction=0.2\n",
      "[LightGBM] [Warning] bagging_freq is set=1, subsample_freq=0 will be ignored. Current value: bagging_freq=1\n"
     ]
    },
    {
     "name": "stderr",
     "output_type": "stream",
     "text": [
      " 11%|█         | 11/100 [00:03<00:27,  3.19it/s]The distribution is specified by [0.2, 0.95] and q=0.1, but the range is not divisible by `q`. It will be replaced by [0.2, 0.9].\n",
      "'early_stopping_rounds' argument is deprecated and will be removed in a future release of LightGBM. Pass 'early_stopping()' callback via 'callbacks' argument instead.\n",
      "'verbose' argument is deprecated and will be removed in a future release of LightGBM. Pass 'log_evaluation()' callback via 'callbacks' argument instead.\n"
     ]
    },
    {
     "name": "stdout",
     "output_type": "stream",
     "text": [
      "\u001b[32m[I 2022-05-19 23:43:07,301]\u001b[0m Trial 10 finished with value: 0.25485938732836505 and parameters: {'boosting_type': 'rf', 'max_depth': 12, 'min_child_samples': 970, 'learning_rate': 0.018801319051261645, 'feature_fraction': 0.4, 'num_leaves': 860, 'bagging_freq': 1, 'bagging_fraction': 0.2, 'reg_alpha': 96.7, 'reg_lambda': 335}. Best is trial 10 with value: 0.25485938732836505.\u001b[0m\n",
      "[LightGBM] [Warning] feature_fraction is set=0.4, colsample_bytree=1.0 will be ignored. Current value: feature_fraction=0.4\n",
      "[LightGBM] [Warning] bagging_fraction is set=0.2, subsample=1.0 will be ignored. Current value: bagging_fraction=0.2\n",
      "[LightGBM] [Warning] bagging_freq is set=1, subsample_freq=0 will be ignored. Current value: bagging_freq=1\n"
     ]
    },
    {
     "name": "stderr",
     "output_type": "stream",
     "text": [
      " 12%|█▏        | 12/100 [00:03<00:25,  3.47it/s]The distribution is specified by [0.2, 0.95] and q=0.1, but the range is not divisible by `q`. It will be replaced by [0.2, 0.9].\n",
      "'early_stopping_rounds' argument is deprecated and will be removed in a future release of LightGBM. Pass 'early_stopping()' callback via 'callbacks' argument instead.\n",
      "'verbose' argument is deprecated and will be removed in a future release of LightGBM. Pass 'log_evaluation()' callback via 'callbacks' argument instead.\n"
     ]
    },
    {
     "name": "stdout",
     "output_type": "stream",
     "text": [
      "\u001b[32m[I 2022-05-19 23:43:07,532]\u001b[0m Trial 11 finished with value: 0.25473540261895433 and parameters: {'boosting_type': 'rf', 'max_depth': 12, 'min_child_samples': 956, 'learning_rate': 0.030683639365149423, 'feature_fraction': 0.4, 'num_leaves': 740, 'bagging_freq': 1, 'bagging_fraction': 0.2, 'reg_alpha': 99.5, 'reg_lambda': 328}. Best is trial 10 with value: 0.25485938732836505.\u001b[0m\n",
      "[LightGBM] [Warning] feature_fraction is set=0.4, colsample_bytree=1.0 will be ignored. Current value: feature_fraction=0.4\n",
      "[LightGBM] [Warning] bagging_fraction is set=0.2, subsample=1.0 will be ignored. Current value: bagging_fraction=0.2\n",
      "[LightGBM] [Warning] bagging_freq is set=1, subsample_freq=0 will be ignored. Current value: bagging_freq=1\n"
     ]
    },
    {
     "name": "stderr",
     "output_type": "stream",
     "text": [
      " 13%|█▎        | 13/100 [00:03<00:23,  3.72it/s]The distribution is specified by [0.2, 0.95] and q=0.1, but the range is not divisible by `q`. It will be replaced by [0.2, 0.9].\n",
      "'early_stopping_rounds' argument is deprecated and will be removed in a future release of LightGBM. Pass 'early_stopping()' callback via 'callbacks' argument instead.\n",
      "'verbose' argument is deprecated and will be removed in a future release of LightGBM. Pass 'log_evaluation()' callback via 'callbacks' argument instead.\n"
     ]
    },
    {
     "name": "stdout",
     "output_type": "stream",
     "text": [
      "\u001b[32m[I 2022-05-19 23:43:07,756]\u001b[0m Trial 12 finished with value: 0.25264004315061794 and parameters: {'boosting_type': 'rf', 'max_depth': 12, 'min_child_samples': 983, 'learning_rate': 0.016220442506391475, 'feature_fraction': 0.4, 'num_leaves': 580, 'bagging_freq': 1, 'bagging_fraction': 0.2, 'reg_alpha': 99.5, 'reg_lambda': 298}. Best is trial 10 with value: 0.25485938732836505.\u001b[0m\n",
      "[LightGBM] [Warning] feature_fraction is set=0.4, colsample_bytree=1.0 will be ignored. Current value: feature_fraction=0.4\n",
      "[LightGBM] [Warning] bagging_fraction is set=0.2, subsample=1.0 will be ignored. Current value: bagging_fraction=0.2\n",
      "[LightGBM] [Warning] bagging_freq is set=1, subsample_freq=0 will be ignored. Current value: bagging_freq=1\n"
     ]
    },
    {
     "name": "stderr",
     "output_type": "stream",
     "text": [
      " 14%|█▍        | 14/100 [00:04<00:22,  3.87it/s]The distribution is specified by [0.2, 0.95] and q=0.1, but the range is not divisible by `q`. It will be replaced by [0.2, 0.9].\n",
      "'early_stopping_rounds' argument is deprecated and will be removed in a future release of LightGBM. Pass 'early_stopping()' callback via 'callbacks' argument instead.\n",
      "'verbose' argument is deprecated and will be removed in a future release of LightGBM. Pass 'log_evaluation()' callback via 'callbacks' argument instead.\n"
     ]
    },
    {
     "name": "stdout",
     "output_type": "stream",
     "text": [
      "\u001b[32m[I 2022-05-19 23:43:07,991]\u001b[0m Trial 13 finished with value: 0.2576142054777078 and parameters: {'boosting_type': 'rf', 'max_depth': 10, 'min_child_samples': 996, 'learning_rate': 0.011685545908738496, 'feature_fraction': 0.4, 'num_leaves': 1920, 'bagging_freq': 1, 'bagging_fraction': 0.2, 'reg_alpha': 99.80000000000001, 'reg_lambda': 367}. Best is trial 13 with value: 0.2576142054777078.\u001b[0m\n",
      "[LightGBM] [Warning] feature_fraction is set=0.7, colsample_bytree=1.0 will be ignored. Current value: feature_fraction=0.7\n",
      "[LightGBM] [Warning] bagging_fraction is set=0.2, subsample=1.0 will be ignored. Current value: bagging_fraction=0.2\n",
      "[LightGBM] [Warning] bagging_freq is set=1, subsample_freq=0 will be ignored. Current value: bagging_freq=1\n"
     ]
    },
    {
     "name": "stderr",
     "output_type": "stream",
     "text": [
      " 15%|█▌        | 15/100 [00:04<00:21,  3.89it/s]The distribution is specified by [0.2, 0.95] and q=0.1, but the range is not divisible by `q`. It will be replaced by [0.2, 0.9].\n",
      "'early_stopping_rounds' argument is deprecated and will be removed in a future release of LightGBM. Pass 'early_stopping()' callback via 'callbacks' argument instead.\n",
      "'verbose' argument is deprecated and will be removed in a future release of LightGBM. Pass 'log_evaluation()' callback via 'callbacks' argument instead.\n",
      "Early stopping is not available in dart mode\n"
     ]
    },
    {
     "name": "stdout",
     "output_type": "stream",
     "text": [
      "\u001b[32m[I 2022-05-19 23:43:08,244]\u001b[0m Trial 14 finished with value: 0.24691548458802273 and parameters: {'boosting_type': 'rf', 'max_depth': 10, 'min_child_samples': 835, 'learning_rate': 0.010811714053338018, 'feature_fraction': 0.7, 'num_leaves': 1960, 'bagging_freq': 1, 'bagging_fraction': 0.2, 'reg_alpha': 84.4, 'reg_lambda': 321}. Best is trial 13 with value: 0.2576142054777078.\u001b[0m\n",
      "[LightGBM] [Warning] feature_fraction is set=0.5, colsample_bytree=1.0 will be ignored. Current value: feature_fraction=0.5\n",
      "[LightGBM] [Warning] bagging_fraction is set=0.30000000000000004, subsample=1.0 will be ignored. Current value: bagging_fraction=0.30000000000000004\n",
      "[LightGBM] [Warning] bagging_freq is set=1, subsample_freq=0 will be ignored. Current value: bagging_freq=1\n"
     ]
    },
    {
     "name": "stderr",
     "output_type": "stream",
     "text": [
      " 16%|█▌        | 16/100 [00:04<00:24,  3.45it/s]The distribution is specified by [0.2, 0.95] and q=0.1, but the range is not divisible by `q`. It will be replaced by [0.2, 0.9].\n",
      "'early_stopping_rounds' argument is deprecated and will be removed in a future release of LightGBM. Pass 'early_stopping()' callback via 'callbacks' argument instead.\n",
      "'verbose' argument is deprecated and will be removed in a future release of LightGBM. Pass 'log_evaluation()' callback via 'callbacks' argument instead.\n"
     ]
    },
    {
     "name": "stdout",
     "output_type": "stream",
     "text": [
      "\u001b[32m[I 2022-05-19 23:43:08,611]\u001b[0m Trial 15 finished with value: 0.15697883059913983 and parameters: {'boosting_type': 'dart', 'max_depth': 8, 'min_child_samples': 872, 'learning_rate': 0.3789608812579901, 'feature_fraction': 0.5, 'num_leaves': 1920, 'bagging_freq': 1, 'bagging_fraction': 0.30000000000000004, 'reg_alpha': 84.30000000000001, 'reg_lambda': 445}. Best is trial 13 with value: 0.2576142054777078.\u001b[0m\n",
      "[LightGBM] [Warning] feature_fraction is set=0.30000000000000004, colsample_bytree=1.0 will be ignored. Current value: feature_fraction=0.30000000000000004\n",
      "[LightGBM] [Warning] bagging_fraction is set=0.30000000000000004, subsample=1.0 will be ignored. Current value: bagging_fraction=0.30000000000000004\n",
      "[LightGBM] [Warning] bagging_freq is set=1, subsample_freq=0 will be ignored. Current value: bagging_freq=1\n"
     ]
    },
    {
     "name": "stderr",
     "output_type": "stream",
     "text": [
      " 17%|█▋        | 17/100 [00:05<00:23,  3.53it/s]The distribution is specified by [0.2, 0.95] and q=0.1, but the range is not divisible by `q`. It will be replaced by [0.2, 0.9].\n",
      "'early_stopping_rounds' argument is deprecated and will be removed in a future release of LightGBM. Pass 'early_stopping()' callback via 'callbacks' argument instead.\n",
      "'verbose' argument is deprecated and will be removed in a future release of LightGBM. Pass 'log_evaluation()' callback via 'callbacks' argument instead.\n"
     ]
    },
    {
     "name": "stdout",
     "output_type": "stream",
     "text": [
      "\u001b[32m[I 2022-05-19 23:43:08,877]\u001b[0m Trial 16 finished with value: 0.2141349984759354 and parameters: {'boosting_type': 'rf', 'max_depth': 10, 'min_child_samples': 667, 'learning_rate': 0.07162767675679542, 'feature_fraction': 0.30000000000000004, 'num_leaves': 2000, 'bagging_freq': 1, 'bagging_fraction': 0.30000000000000004, 'reg_alpha': 56.0, 'reg_lambda': 238}. Best is trial 13 with value: 0.2576142054777078.\u001b[0m\n",
      "[LightGBM] [Warning] feature_fraction is set=0.30000000000000004, colsample_bytree=1.0 will be ignored. Current value: feature_fraction=0.30000000000000004\n",
      "[LightGBM] [Warning] bagging_fraction is set=0.30000000000000004, subsample=1.0 will be ignored. Current value: bagging_fraction=0.30000000000000004\n",
      "[LightGBM] [Warning] bagging_freq is set=1, subsample_freq=0 will be ignored. Current value: bagging_freq=1\n"
     ]
    },
    {
     "name": "stderr",
     "output_type": "stream",
     "text": [
      " 18%|█▊        | 18/100 [00:05<00:22,  3.60it/s]The distribution is specified by [0.2, 0.95] and q=0.1, but the range is not divisible by `q`. It will be replaced by [0.2, 0.9].\n",
      "'early_stopping_rounds' argument is deprecated and will be removed in a future release of LightGBM. Pass 'early_stopping()' callback via 'callbacks' argument instead.\n",
      "'verbose' argument is deprecated and will be removed in a future release of LightGBM. Pass 'log_evaluation()' callback via 'callbacks' argument instead.\n"
     ]
    },
    {
     "name": "stdout",
     "output_type": "stream",
     "text": [
      "\u001b[32m[I 2022-05-19 23:43:09,143]\u001b[0m Trial 17 finished with value: 0.24581022144963796 and parameters: {'boosting_type': 'rf', 'max_depth': 11, 'min_child_samples': 977, 'learning_rate': 0.13101879250910362, 'feature_fraction': 0.30000000000000004, 'num_leaves': 3000, 'bagging_freq': 1, 'bagging_fraction': 0.30000000000000004, 'reg_alpha': 89.60000000000001, 'reg_lambda': 445}. Best is trial 13 with value: 0.2576142054777078.\u001b[0m\n",
      "[LightGBM] [Warning] feature_fraction is set=0.5, colsample_bytree=1.0 will be ignored. Current value: feature_fraction=0.5\n",
      "[LightGBM] [Warning] bagging_fraction is set=0.2, subsample=1.0 will be ignored. Current value: bagging_fraction=0.2\n",
      "[LightGBM] [Warning] bagging_freq is set=1, subsample_freq=0 will be ignored. Current value: bagging_freq=1\n"
     ]
    },
    {
     "name": "stderr",
     "output_type": "stream",
     "text": [
      " 19%|█▉        | 19/100 [00:05<00:21,  3.79it/s]The distribution is specified by [0.2, 0.95] and q=0.1, but the range is not divisible by `q`. It will be replaced by [0.2, 0.9].\n",
      "'early_stopping_rounds' argument is deprecated and will be removed in a future release of LightGBM. Pass 'early_stopping()' callback via 'callbacks' argument instead.\n",
      "'verbose' argument is deprecated and will be removed in a future release of LightGBM. Pass 'log_evaluation()' callback via 'callbacks' argument instead.\n",
      "Early stopping is not available in dart mode\n"
     ]
    },
    {
     "name": "stdout",
     "output_type": "stream",
     "text": [
      "\u001b[32m[I 2022-05-19 23:43:09,376]\u001b[0m Trial 18 finished with value: 0.15033295962038462 and parameters: {'boosting_type': 'gbdt', 'max_depth': 9, 'min_child_samples': 377, 'learning_rate': 0.21346202521092209, 'feature_fraction': 0.5, 'num_leaves': 1060, 'bagging_freq': 1, 'bagging_fraction': 0.2, 'reg_alpha': 43.1, 'reg_lambda': 204}. Best is trial 13 with value: 0.2576142054777078.\u001b[0m\n",
      "[LightGBM] [Warning] feature_fraction is set=0.7, colsample_bytree=1.0 will be ignored. Current value: feature_fraction=0.7\n",
      "[LightGBM] [Warning] bagging_fraction is set=0.5, subsample=1.0 will be ignored. Current value: bagging_fraction=0.5\n",
      "[LightGBM] [Warning] bagging_freq is set=1, subsample_freq=0 will be ignored. Current value: bagging_freq=1\n"
     ]
    },
    {
     "name": "stderr",
     "output_type": "stream",
     "text": [
      " 20%|██        | 20/100 [00:05<00:25,  3.18it/s]The distribution is specified by [0.2, 0.95] and q=0.1, but the range is not divisible by `q`. It will be replaced by [0.2, 0.9].\n",
      "'early_stopping_rounds' argument is deprecated and will be removed in a future release of LightGBM. Pass 'early_stopping()' callback via 'callbacks' argument instead.\n",
      "'verbose' argument is deprecated and will be removed in a future release of LightGBM. Pass 'log_evaluation()' callback via 'callbacks' argument instead.\n"
     ]
    },
    {
     "name": "stdout",
     "output_type": "stream",
     "text": [
      "\u001b[32m[I 2022-05-19 23:43:09,808]\u001b[0m Trial 19 finished with value: 0.1520709775327283 and parameters: {'boosting_type': 'dart', 'max_depth': 11, 'min_child_samples': 698, 'learning_rate': 0.49572582611036403, 'feature_fraction': 0.7, 'num_leaves': 1640, 'bagging_freq': 1, 'bagging_fraction': 0.5, 'reg_alpha': 100.0, 'reg_lambda': 439}. Best is trial 13 with value: 0.2576142054777078.\u001b[0m\n",
      "[LightGBM] [Warning] feature_fraction is set=0.4, colsample_bytree=1.0 will be ignored. Current value: feature_fraction=0.4\n",
      "[LightGBM] [Warning] bagging_fraction is set=0.30000000000000004, subsample=1.0 will be ignored. Current value: bagging_fraction=0.30000000000000004\n",
      "[LightGBM] [Warning] bagging_freq is set=1, subsample_freq=0 will be ignored. Current value: bagging_freq=1\n"
     ]
    },
    {
     "name": "stderr",
     "output_type": "stream",
     "text": [
      " 21%|██        | 21/100 [00:06<00:22,  3.46it/s]The distribution is specified by [0.2, 0.95] and q=0.1, but the range is not divisible by `q`. It will be replaced by [0.2, 0.9].\n",
      "'early_stopping_rounds' argument is deprecated and will be removed in a future release of LightGBM. Pass 'early_stopping()' callback via 'callbacks' argument instead.\n",
      "'verbose' argument is deprecated and will be removed in a future release of LightGBM. Pass 'log_evaluation()' callback via 'callbacks' argument instead.\n"
     ]
    },
    {
     "name": "stdout",
     "output_type": "stream",
     "text": [
      "\u001b[32m[I 2022-05-19 23:43:10,038]\u001b[0m Trial 20 finished with value: 0.26006010009627245 and parameters: {'boosting_type': 'rf', 'max_depth': 7, 'min_child_samples': 860, 'learning_rate': 0.05565417440908689, 'feature_fraction': 0.4, 'num_leaves': 1620, 'bagging_freq': 1, 'bagging_fraction': 0.30000000000000004, 'reg_alpha': 65.7, 'reg_lambda': 717}. Best is trial 20 with value: 0.26006010009627245.\u001b[0m\n",
      "[LightGBM] [Warning] feature_fraction is set=0.4, colsample_bytree=1.0 will be ignored. Current value: feature_fraction=0.4\n",
      "[LightGBM] [Warning] bagging_fraction is set=0.30000000000000004, subsample=1.0 will be ignored. Current value: bagging_fraction=0.30000000000000004\n",
      "[LightGBM] [Warning] bagging_freq is set=1, subsample_freq=0 will be ignored. Current value: bagging_freq=1\n"
     ]
    },
    {
     "name": "stderr",
     "output_type": "stream",
     "text": [
      " 22%|██▏       | 22/100 [00:06<00:21,  3.66it/s]The distribution is specified by [0.2, 0.95] and q=0.1, but the range is not divisible by `q`. It will be replaced by [0.2, 0.9].\n",
      "'early_stopping_rounds' argument is deprecated and will be removed in a future release of LightGBM. Pass 'early_stopping()' callback via 'callbacks' argument instead.\n",
      "'verbose' argument is deprecated and will be removed in a future release of LightGBM. Pass 'log_evaluation()' callback via 'callbacks' argument instead.\n"
     ]
    },
    {
     "name": "stdout",
     "output_type": "stream",
     "text": [
      "\u001b[32m[I 2022-05-19 23:43:10,274]\u001b[0m Trial 21 finished with value: 0.26042060419856056 and parameters: {'boosting_type': 'rf', 'max_depth': 6, 'min_child_samples': 877, 'learning_rate': 0.056770135847686226, 'feature_fraction': 0.4, 'num_leaves': 1600, 'bagging_freq': 1, 'bagging_fraction': 0.30000000000000004, 'reg_alpha': 78.60000000000001, 'reg_lambda': 710}. Best is trial 21 with value: 0.26042060419856056.\u001b[0m\n",
      "[LightGBM] [Warning] feature_fraction is set=0.30000000000000004, colsample_bytree=1.0 will be ignored. Current value: feature_fraction=0.30000000000000004\n",
      "[LightGBM] [Warning] bagging_fraction is set=0.30000000000000004, subsample=1.0 will be ignored. Current value: bagging_fraction=0.30000000000000004\n",
      "[LightGBM] [Warning] bagging_freq is set=1, subsample_freq=0 will be ignored. Current value: bagging_freq=1\n"
     ]
    },
    {
     "name": "stderr",
     "output_type": "stream",
     "text": [
      " 23%|██▎       | 23/100 [00:06<00:19,  3.87it/s]The distribution is specified by [0.2, 0.95] and q=0.1, but the range is not divisible by `q`. It will be replaced by [0.2, 0.9].\n",
      "'early_stopping_rounds' argument is deprecated and will be removed in a future release of LightGBM. Pass 'early_stopping()' callback via 'callbacks' argument instead.\n",
      "'verbose' argument is deprecated and will be removed in a future release of LightGBM. Pass 'log_evaluation()' callback via 'callbacks' argument instead.\n"
     ]
    },
    {
     "name": "stdout",
     "output_type": "stream",
     "text": [
      "\u001b[32m[I 2022-05-19 23:43:10,499]\u001b[0m Trial 22 finished with value: 0.2615687691874439 and parameters: {'boosting_type': 'rf', 'max_depth': 6, 'min_child_samples': 856, 'learning_rate': 0.059733729716041725, 'feature_fraction': 0.30000000000000004, 'num_leaves': 1680, 'bagging_freq': 1, 'bagging_fraction': 0.30000000000000004, 'reg_alpha': 62.400000000000006, 'reg_lambda': 743}. Best is trial 22 with value: 0.2615687691874439.\u001b[0m\n",
      "[LightGBM] [Warning] feature_fraction is set=0.30000000000000004, colsample_bytree=1.0 will be ignored. Current value: feature_fraction=0.30000000000000004\n",
      "[LightGBM] [Warning] bagging_fraction is set=0.30000000000000004, subsample=1.0 will be ignored. Current value: bagging_fraction=0.30000000000000004\n",
      "[LightGBM] [Warning] bagging_freq is set=1, subsample_freq=0 will be ignored. Current value: bagging_freq=1\n"
     ]
    },
    {
     "name": "stderr",
     "output_type": "stream",
     "text": [
      " 24%|██▍       | 24/100 [00:06<00:19,  3.92it/s]The distribution is specified by [0.2, 0.95] and q=0.1, but the range is not divisible by `q`. It will be replaced by [0.2, 0.9].\n",
      "'early_stopping_rounds' argument is deprecated and will be removed in a future release of LightGBM. Pass 'early_stopping()' callback via 'callbacks' argument instead.\n",
      "'verbose' argument is deprecated and will be removed in a future release of LightGBM. Pass 'log_evaluation()' callback via 'callbacks' argument instead.\n"
     ]
    },
    {
     "name": "stdout",
     "output_type": "stream",
     "text": [
      "\u001b[32m[I 2022-05-19 23:43:10,745]\u001b[0m Trial 23 finished with value: 0.26181282301867925 and parameters: {'boosting_type': 'rf', 'max_depth': 6, 'min_child_samples': 857, 'learning_rate': 0.07143603045702206, 'feature_fraction': 0.30000000000000004, 'num_leaves': 1640, 'bagging_freq': 1, 'bagging_fraction': 0.30000000000000004, 'reg_alpha': 65.4, 'reg_lambda': 741}. Best is trial 23 with value: 0.26181282301867925.\u001b[0m\n",
      "[LightGBM] [Warning] feature_fraction is set=0.30000000000000004, colsample_bytree=1.0 will be ignored. Current value: feature_fraction=0.30000000000000004\n",
      "[LightGBM] [Warning] bagging_fraction is set=0.4, subsample=1.0 will be ignored. Current value: bagging_fraction=0.4\n",
      "[LightGBM] [Warning] bagging_freq is set=1, subsample_freq=0 will be ignored. Current value: bagging_freq=1\n"
     ]
    },
    {
     "name": "stderr",
     "output_type": "stream",
     "text": [
      " 25%|██▌       | 25/100 [00:07<00:19,  3.94it/s]The distribution is specified by [0.2, 0.95] and q=0.1, but the range is not divisible by `q`. It will be replaced by [0.2, 0.9].\n",
      "'early_stopping_rounds' argument is deprecated and will be removed in a future release of LightGBM. Pass 'early_stopping()' callback via 'callbacks' argument instead.\n",
      "'verbose' argument is deprecated and will be removed in a future release of LightGBM. Pass 'log_evaluation()' callback via 'callbacks' argument instead.\n"
     ]
    },
    {
     "name": "stdout",
     "output_type": "stream",
     "text": [
      "\u001b[32m[I 2022-05-19 23:43:10,997]\u001b[0m Trial 24 finished with value: 0.2558571049409488 and parameters: {'boosting_type': 'rf', 'max_depth': 5, 'min_child_samples': 779, 'learning_rate': 0.12818675378554178, 'feature_fraction': 0.30000000000000004, 'num_leaves': 1460, 'bagging_freq': 1, 'bagging_fraction': 0.4, 'reg_alpha': 57.0, 'reg_lambda': 873}. Best is trial 23 with value: 0.26181282301867925.\u001b[0m\n",
      "[LightGBM] [Warning] feature_fraction is set=0.30000000000000004, colsample_bytree=1.0 will be ignored. Current value: feature_fraction=0.30000000000000004\n",
      "[LightGBM] [Warning] bagging_fraction is set=0.30000000000000004, subsample=1.0 will be ignored. Current value: bagging_fraction=0.30000000000000004\n",
      "[LightGBM] [Warning] bagging_freq is set=1, subsample_freq=0 will be ignored. Current value: bagging_freq=1\n"
     ]
    },
    {
     "name": "stderr",
     "output_type": "stream",
     "text": [
      " 26%|██▌       | 26/100 [00:07<00:18,  4.02it/s]The distribution is specified by [0.2, 0.95] and q=0.1, but the range is not divisible by `q`. It will be replaced by [0.2, 0.9].\n",
      "'early_stopping_rounds' argument is deprecated and will be removed in a future release of LightGBM. Pass 'early_stopping()' callback via 'callbacks' argument instead.\n",
      "'verbose' argument is deprecated and will be removed in a future release of LightGBM. Pass 'log_evaluation()' callback via 'callbacks' argument instead.\n"
     ]
    },
    {
     "name": "stdout",
     "output_type": "stream",
     "text": [
      "\u001b[32m[I 2022-05-19 23:43:11,232]\u001b[0m Trial 25 finished with value: 0.2694760527155391 and parameters: {'boosting_type': 'rf', 'max_depth': 6, 'min_child_samples': 599, 'learning_rate': 0.06255414436534316, 'feature_fraction': 0.30000000000000004, 'num_leaves': 1780, 'bagging_freq': 1, 'bagging_fraction': 0.30000000000000004, 'reg_alpha': 47.5, 'reg_lambda': 979}. Best is trial 25 with value: 0.2694760527155391.\u001b[0m\n",
      "[LightGBM] [Warning] feature_fraction is set=0.2, colsample_bytree=1.0 will be ignored. Current value: feature_fraction=0.2\n",
      "[LightGBM] [Warning] bagging_fraction is set=0.5, subsample=1.0 will be ignored. Current value: bagging_fraction=0.5\n",
      "[LightGBM] [Warning] bagging_freq is set=1, subsample_freq=0 will be ignored. Current value: bagging_freq=1\n"
     ]
    },
    {
     "name": "stderr",
     "output_type": "stream",
     "text": [
      " 27%|██▋       | 27/100 [00:07<00:17,  4.12it/s]The distribution is specified by [0.2, 0.95] and q=0.1, but the range is not divisible by `q`. It will be replaced by [0.2, 0.9].\n",
      "'early_stopping_rounds' argument is deprecated and will be removed in a future release of LightGBM. Pass 'early_stopping()' callback via 'callbacks' argument instead.\n",
      "'verbose' argument is deprecated and will be removed in a future release of LightGBM. Pass 'log_evaluation()' callback via 'callbacks' argument instead.\n"
     ]
    },
    {
     "name": "stdout",
     "output_type": "stream",
     "text": [
      "\u001b[32m[I 2022-05-19 23:43:11,463]\u001b[0m Trial 26 finished with value: 0.24633388812606472 and parameters: {'boosting_type': 'rf', 'max_depth': 3, 'min_child_samples': 387, 'learning_rate': 0.15597341329784245, 'feature_fraction': 0.2, 'num_leaves': 2200, 'bagging_freq': 1, 'bagging_fraction': 0.5, 'reg_alpha': 45.0, 'reg_lambda': 954}. Best is trial 25 with value: 0.2694760527155391.\u001b[0m\n",
      "[LightGBM] [Warning] feature_fraction is set=0.30000000000000004, colsample_bytree=1.0 will be ignored. Current value: feature_fraction=0.30000000000000004\n",
      "[LightGBM] [Warning] bagging_fraction is set=0.4, subsample=1.0 will be ignored. Current value: bagging_fraction=0.4\n",
      "[LightGBM] [Warning] bagging_freq is set=1, subsample_freq=0 will be ignored. Current value: bagging_freq=1\n"
     ]
    },
    {
     "name": "stderr",
     "output_type": "stream",
     "text": [
      " 28%|██▊       | 28/100 [00:07<00:18,  3.93it/s]The distribution is specified by [0.2, 0.95] and q=0.1, but the range is not divisible by `q`. It will be replaced by [0.2, 0.9].\n",
      "'early_stopping_rounds' argument is deprecated and will be removed in a future release of LightGBM. Pass 'early_stopping()' callback via 'callbacks' argument instead.\n",
      "'verbose' argument is deprecated and will be removed in a future release of LightGBM. Pass 'log_evaluation()' callback via 'callbacks' argument instead.\n"
     ]
    },
    {
     "name": "stdout",
     "output_type": "stream",
     "text": [
      "\u001b[32m[I 2022-05-19 23:43:11,744]\u001b[0m Trial 27 finished with value: 0.24819334936726467 and parameters: {'boosting_type': 'rf', 'max_depth': 6, 'min_child_samples': 607, 'learning_rate': 0.06851087848029189, 'feature_fraction': 0.30000000000000004, 'num_leaves': 1780, 'bagging_freq': 1, 'bagging_fraction': 0.4, 'reg_alpha': 33.0, 'reg_lambda': 831}. Best is trial 25 with value: 0.2694760527155391.\u001b[0m\n",
      "[LightGBM] [Warning] feature_fraction is set=0.30000000000000004, colsample_bytree=1.0 will be ignored. Current value: feature_fraction=0.30000000000000004\n",
      "[LightGBM] [Warning] bagging_fraction is set=0.30000000000000004, subsample=1.0 will be ignored. Current value: bagging_fraction=0.30000000000000004\n",
      "[LightGBM] [Warning] bagging_freq is set=1, subsample_freq=0 will be ignored. Current value: bagging_freq=1\n"
     ]
    },
    {
     "name": "stderr",
     "output_type": "stream",
     "text": [
      " 29%|██▉       | 29/100 [00:08<00:18,  3.75it/s]The distribution is specified by [0.2, 0.95] and q=0.1, but the range is not divisible by `q`. It will be replaced by [0.2, 0.9].\n",
      "'early_stopping_rounds' argument is deprecated and will be removed in a future release of LightGBM. Pass 'early_stopping()' callback via 'callbacks' argument instead.\n",
      "'verbose' argument is deprecated and will be removed in a future release of LightGBM. Pass 'log_evaluation()' callback via 'callbacks' argument instead.\n",
      "Early stopping is not available in dart mode\n"
     ]
    },
    {
     "name": "stdout",
     "output_type": "stream",
     "text": [
      "\u001b[32m[I 2022-05-19 23:43:12,040]\u001b[0m Trial 28 finished with value: 0.1526449113896184 and parameters: {'boosting_type': 'gbdt', 'max_depth': 6, 'min_child_samples': 434, 'learning_rate': 0.19685092461104114, 'feature_fraction': 0.30000000000000004, 'num_leaves': 1240, 'bagging_freq': 1, 'bagging_fraction': 0.30000000000000004, 'reg_alpha': 51.6, 'reg_lambda': 796}. Best is trial 25 with value: 0.2694760527155391.\u001b[0m\n",
      "[LightGBM] [Warning] feature_fraction is set=0.2, colsample_bytree=1.0 will be ignored. Current value: feature_fraction=0.2\n",
      "[LightGBM] [Warning] bagging_fraction is set=0.7, subsample=1.0 will be ignored. Current value: bagging_fraction=0.7\n",
      "[LightGBM] [Warning] bagging_freq is set=1, subsample_freq=0 will be ignored. Current value: bagging_freq=1\n"
     ]
    },
    {
     "name": "stderr",
     "output_type": "stream",
     "text": [
      " 30%|███       | 30/100 [00:08<00:24,  2.90it/s]The distribution is specified by [0.2, 0.95] and q=0.1, but the range is not divisible by `q`. It will be replaced by [0.2, 0.9].\n",
      "'early_stopping_rounds' argument is deprecated and will be removed in a future release of LightGBM. Pass 'early_stopping()' callback via 'callbacks' argument instead.\n",
      "'verbose' argument is deprecated and will be removed in a future release of LightGBM. Pass 'log_evaluation()' callback via 'callbacks' argument instead.\n"
     ]
    },
    {
     "name": "stdout",
     "output_type": "stream",
     "text": [
      "\u001b[32m[I 2022-05-19 23:43:12,565]\u001b[0m Trial 29 finished with value: 0.21405217254016806 and parameters: {'boosting_type': 'dart', 'max_depth': 4, 'min_child_samples': 742, 'learning_rate': 0.09747812907052214, 'feature_fraction': 0.2, 'num_leaves': 2780, 'bagging_freq': 1, 'bagging_fraction': 0.7, 'reg_alpha': 65.0, 'reg_lambda': 999}. Best is trial 25 with value: 0.2694760527155391.\u001b[0m\n",
      "[LightGBM] [Warning] feature_fraction is set=0.2, colsample_bytree=1.0 will be ignored. Current value: feature_fraction=0.2\n",
      "[LightGBM] [Warning] bagging_fraction is set=0.4, subsample=1.0 will be ignored. Current value: bagging_fraction=0.4\n",
      "[LightGBM] [Warning] bagging_freq is set=1, subsample_freq=0 will be ignored. Current value: bagging_freq=1\n"
     ]
    },
    {
     "name": "stderr",
     "output_type": "stream",
     "text": [
      " 31%|███       | 31/100 [00:08<00:22,  3.12it/s]The distribution is specified by [0.2, 0.95] and q=0.1, but the range is not divisible by `q`. It will be replaced by [0.2, 0.9].\n",
      "'early_stopping_rounds' argument is deprecated and will be removed in a future release of LightGBM. Pass 'early_stopping()' callback via 'callbacks' argument instead.\n",
      "'verbose' argument is deprecated and will be removed in a future release of LightGBM. Pass 'log_evaluation()' callback via 'callbacks' argument instead.\n"
     ]
    },
    {
     "name": "stdout",
     "output_type": "stream",
     "text": [
      "\u001b[32m[I 2022-05-19 23:43:12,830]\u001b[0m Trial 30 finished with value: 0.23260046279779112 and parameters: {'boosting_type': 'rf', 'max_depth': 8, 'min_child_samples': 605, 'learning_rate': 0.3145085051569384, 'feature_fraction': 0.2, 'num_leaves': 2200, 'bagging_freq': 1, 'bagging_fraction': 0.4, 'reg_alpha': 37.2, 'reg_lambda': 680}. Best is trial 25 with value: 0.2694760527155391.\u001b[0m\n",
      "[LightGBM] [Warning] feature_fraction is set=0.30000000000000004, colsample_bytree=1.0 will be ignored. Current value: feature_fraction=0.30000000000000004\n",
      "[LightGBM] [Warning] bagging_fraction is set=0.30000000000000004, subsample=1.0 will be ignored. Current value: bagging_fraction=0.30000000000000004\n",
      "[LightGBM] [Warning] bagging_freq is set=1, subsample_freq=0 will be ignored. Current value: bagging_freq=1\n"
     ]
    },
    {
     "name": "stderr",
     "output_type": "stream",
     "text": [
      " 32%|███▏      | 32/100 [00:09<00:20,  3.35it/s]The distribution is specified by [0.2, 0.95] and q=0.1, but the range is not divisible by `q`. It will be replaced by [0.2, 0.9].\n",
      "'early_stopping_rounds' argument is deprecated and will be removed in a future release of LightGBM. Pass 'early_stopping()' callback via 'callbacks' argument instead.\n",
      "'verbose' argument is deprecated and will be removed in a future release of LightGBM. Pass 'log_evaluation()' callback via 'callbacks' argument instead.\n"
     ]
    },
    {
     "name": "stdout",
     "output_type": "stream",
     "text": [
      "\u001b[32m[I 2022-05-19 23:43:13,077]\u001b[0m Trial 31 finished with value: 0.2617381261157215 and parameters: {'boosting_type': 'rf', 'max_depth': 6, 'min_child_samples': 906, 'learning_rate': 0.049962986434066575, 'feature_fraction': 0.30000000000000004, 'num_leaves': 1720, 'bagging_freq': 1, 'bagging_fraction': 0.30000000000000004, 'reg_alpha': 74.3, 'reg_lambda': 732}. Best is trial 25 with value: 0.2694760527155391.\u001b[0m\n",
      "[LightGBM] [Warning] feature_fraction is set=0.30000000000000004, colsample_bytree=1.0 will be ignored. Current value: feature_fraction=0.30000000000000004\n",
      "[LightGBM] [Warning] bagging_fraction is set=0.30000000000000004, subsample=1.0 will be ignored. Current value: bagging_fraction=0.30000000000000004\n",
      "[LightGBM] [Warning] bagging_freq is set=1, subsample_freq=0 will be ignored. Current value: bagging_freq=1\n"
     ]
    },
    {
     "name": "stderr",
     "output_type": "stream",
     "text": [
      " 33%|███▎      | 33/100 [00:09<00:18,  3.54it/s]The distribution is specified by [0.2, 0.95] and q=0.1, but the range is not divisible by `q`. It will be replaced by [0.2, 0.9].\n",
      "'early_stopping_rounds' argument is deprecated and will be removed in a future release of LightGBM. Pass 'early_stopping()' callback via 'callbacks' argument instead.\n",
      "'verbose' argument is deprecated and will be removed in a future release of LightGBM. Pass 'log_evaluation()' callback via 'callbacks' argument instead.\n"
     ]
    },
    {
     "name": "stdout",
     "output_type": "stream",
     "text": [
      "\u001b[32m[I 2022-05-19 23:43:13,322]\u001b[0m Trial 32 finished with value: 0.25495232860522843 and parameters: {'boosting_type': 'rf', 'max_depth': 6, 'min_child_samples': 912, 'learning_rate': 0.05561071522560926, 'feature_fraction': 0.30000000000000004, 'num_leaves': 1380, 'bagging_freq': 1, 'bagging_fraction': 0.30000000000000004, 'reg_alpha': 65.7, 'reg_lambda': 571}. Best is trial 25 with value: 0.2694760527155391.\u001b[0m\n",
      "[LightGBM] [Warning] feature_fraction is set=0.2, colsample_bytree=1.0 will be ignored. Current value: feature_fraction=0.2\n",
      "[LightGBM] [Warning] bagging_fraction is set=0.4, subsample=1.0 will be ignored. Current value: bagging_fraction=0.4\n",
      "[LightGBM] [Warning] bagging_freq is set=1, subsample_freq=0 will be ignored. Current value: bagging_freq=1\n"
     ]
    },
    {
     "name": "stderr",
     "output_type": "stream",
     "text": [
      " 34%|███▍      | 34/100 [00:09<00:17,  3.67it/s]The distribution is specified by [0.2, 0.95] and q=0.1, but the range is not divisible by `q`. It will be replaced by [0.2, 0.9].\n",
      "'early_stopping_rounds' argument is deprecated and will be removed in a future release of LightGBM. Pass 'early_stopping()' callback via 'callbacks' argument instead.\n",
      "'verbose' argument is deprecated and will be removed in a future release of LightGBM. Pass 'log_evaluation()' callback via 'callbacks' argument instead.\n"
     ]
    },
    {
     "name": "stdout",
     "output_type": "stream",
     "text": [
      "\u001b[32m[I 2022-05-19 23:43:13,570]\u001b[0m Trial 33 finished with value: 0.253930541440078 and parameters: {'boosting_type': 'rf', 'max_depth': 4, 'min_child_samples': 834, 'learning_rate': 0.12698520158919613, 'feature_fraction': 0.2, 'num_leaves': 1760, 'bagging_freq': 1, 'bagging_fraction': 0.4, 'reg_alpha': 52.6, 'reg_lambda': 765}. Best is trial 25 with value: 0.2694760527155391.\u001b[0m\n",
      "[LightGBM] [Warning] feature_fraction is set=0.5, colsample_bytree=1.0 will be ignored. Current value: feature_fraction=0.5\n",
      "[LightGBM] [Warning] bagging_fraction is set=0.5, subsample=1.0 will be ignored. Current value: bagging_fraction=0.5\n",
      "[LightGBM] [Warning] bagging_freq is set=1, subsample_freq=0 will be ignored. Current value: bagging_freq=1\n"
     ]
    },
    {
     "name": "stderr",
     "output_type": "stream",
     "text": [
      " 35%|███▌      | 35/100 [00:10<00:18,  3.61it/s]The distribution is specified by [0.2, 0.95] and q=0.1, but the range is not divisible by `q`. It will be replaced by [0.2, 0.9].\n",
      "'early_stopping_rounds' argument is deprecated and will be removed in a future release of LightGBM. Pass 'early_stopping()' callback via 'callbacks' argument instead.\n",
      "'verbose' argument is deprecated and will be removed in a future release of LightGBM. Pass 'log_evaluation()' callback via 'callbacks' argument instead.\n"
     ]
    },
    {
     "name": "stdout",
     "output_type": "stream",
     "text": [
      "\u001b[32m[I 2022-05-19 23:43:13,860]\u001b[0m Trial 34 finished with value: 0.23283786253207758 and parameters: {'boosting_type': 'rf', 'max_depth': 7, 'min_child_samples': 281, 'learning_rate': 0.0863162083532856, 'feature_fraction': 0.5, 'num_leaves': 2140, 'bagging_freq': 1, 'bagging_fraction': 0.5, 'reg_alpha': 62.0, 'reg_lambda': 857}. Best is trial 25 with value: 0.2694760527155391.\u001b[0m\n",
      "[LightGBM] [Warning] feature_fraction is set=0.6000000000000001, colsample_bytree=1.0 will be ignored. Current value: feature_fraction=0.6000000000000001\n",
      "[LightGBM] [Warning] bagging_fraction is set=0.30000000000000004, subsample=1.0 will be ignored. Current value: bagging_fraction=0.30000000000000004\n",
      "[LightGBM] [Warning] bagging_freq is set=1, subsample_freq=0 will be ignored. Current value: bagging_freq=1\n"
     ]
    },
    {
     "name": "stderr",
     "output_type": "stream",
     "text": [
      " 36%|███▌      | 36/100 [00:10<00:16,  3.83it/s]The distribution is specified by [0.2, 0.95] and q=0.1, but the range is not divisible by `q`. It will be replaced by [0.2, 0.9].\n",
      "'early_stopping_rounds' argument is deprecated and will be removed in a future release of LightGBM. Pass 'early_stopping()' callback via 'callbacks' argument instead.\n",
      "'verbose' argument is deprecated and will be removed in a future release of LightGBM. Pass 'log_evaluation()' callback via 'callbacks' argument instead.\n"
     ]
    },
    {
     "name": "stdout",
     "output_type": "stream",
     "text": [
      "\u001b[32m[I 2022-05-19 23:43:14,084]\u001b[0m Trial 35 finished with value: 0.26948653505972014 and parameters: {'boosting_type': 'rf', 'max_depth': 5, 'min_child_samples': 27, 'learning_rate': 0.23520542332059774, 'feature_fraction': 0.6000000000000001, 'num_leaves': 1760, 'bagging_freq': 1, 'bagging_fraction': 0.30000000000000004, 'reg_alpha': 76.3, 'reg_lambda': 925}. Best is trial 35 with value: 0.26948653505972014.\u001b[0m\n",
      "[LightGBM] [Warning] feature_fraction is set=0.6000000000000001, colsample_bytree=1.0 will be ignored. Current value: feature_fraction=0.6000000000000001\n",
      "[LightGBM] [Warning] bagging_fraction is set=0.4, subsample=1.0 will be ignored. Current value: bagging_fraction=0.4\n",
      "[LightGBM] [Warning] bagging_freq is set=1, subsample_freq=0 will be ignored. Current value: bagging_freq=1\n"
     ]
    },
    {
     "name": "stderr",
     "output_type": "stream",
     "text": [
      " 37%|███▋      | 37/100 [00:10<00:16,  3.91it/s]The distribution is specified by [0.2, 0.95] and q=0.1, but the range is not divisible by `q`. It will be replaced by [0.2, 0.9].\n",
      "'early_stopping_rounds' argument is deprecated and will be removed in a future release of LightGBM. Pass 'early_stopping()' callback via 'callbacks' argument instead.\n",
      "'verbose' argument is deprecated and will be removed in a future release of LightGBM. Pass 'log_evaluation()' callback via 'callbacks' argument instead.\n"
     ]
    },
    {
     "name": "stdout",
     "output_type": "stream",
     "text": [
      "\u001b[32m[I 2022-05-19 23:43:14,327]\u001b[0m Trial 36 finished with value: 0.1511175674961557 and parameters: {'boosting_type': 'gbdt', 'max_depth': 4, 'min_child_samples': 117, 'learning_rate': 0.27068219749341776, 'feature_fraction': 0.6000000000000001, 'num_leaves': 1220, 'bagging_freq': 1, 'bagging_fraction': 0.4, 'reg_alpha': 77.80000000000001, 'reg_lambda': 956}. Best is trial 35 with value: 0.26948653505972014.\u001b[0m\n",
      "[LightGBM] [Warning] feature_fraction is set=0.6000000000000001, colsample_bytree=1.0 will be ignored. Current value: feature_fraction=0.6000000000000001\n",
      "[LightGBM] [Warning] bagging_fraction is set=0.5, subsample=1.0 will be ignored. Current value: bagging_fraction=0.5\n",
      "[LightGBM] [Warning] bagging_freq is set=1, subsample_freq=0 will be ignored. Current value: bagging_freq=1\n"
     ]
    },
    {
     "name": "stderr",
     "output_type": "stream",
     "text": [
      " 38%|███▊      | 38/100 [00:10<00:15,  3.94it/s]The distribution is specified by [0.2, 0.95] and q=0.1, but the range is not divisible by `q`. It will be replaced by [0.2, 0.9].\n",
      "'early_stopping_rounds' argument is deprecated and will be removed in a future release of LightGBM. Pass 'early_stopping()' callback via 'callbacks' argument instead.\n",
      "'verbose' argument is deprecated and will be removed in a future release of LightGBM. Pass 'log_evaluation()' callback via 'callbacks' argument instead.\n"
     ]
    },
    {
     "name": "stdout",
     "output_type": "stream",
     "text": [
      "\u001b[32m[I 2022-05-19 23:43:14,576]\u001b[0m Trial 37 finished with value: 0.24739197223374787 and parameters: {'boosting_type': 'rf', 'max_depth': 5, 'min_child_samples': 30, 'learning_rate': 0.23431907004366737, 'feature_fraction': 0.6000000000000001, 'num_leaves': 1800, 'bagging_freq': 1, 'bagging_fraction': 0.5, 'reg_alpha': 70.10000000000001, 'reg_lambda': 959}. Best is trial 35 with value: 0.26948653505972014.\u001b[0m\n",
      "[LightGBM] [Warning] feature_fraction is set=0.6000000000000001, colsample_bytree=1.0 will be ignored. Current value: feature_fraction=0.6000000000000001\n",
      "[LightGBM] [Warning] bagging_fraction is set=0.30000000000000004, subsample=1.0 will be ignored. Current value: bagging_fraction=0.30000000000000004\n",
      "[LightGBM] [Warning] bagging_freq is set=1, subsample_freq=0 will be ignored. Current value: bagging_freq=1\n"
     ]
    },
    {
     "name": "stderr",
     "output_type": "stream",
     "text": [
      " 39%|███▉      | 39/100 [00:10<00:14,  4.12it/s]The distribution is specified by [0.2, 0.95] and q=0.1, but the range is not divisible by `q`. It will be replaced by [0.2, 0.9].\n",
      "'early_stopping_rounds' argument is deprecated and will be removed in a future release of LightGBM. Pass 'early_stopping()' callback via 'callbacks' argument instead.\n",
      "'verbose' argument is deprecated and will be removed in a future release of LightGBM. Pass 'log_evaluation()' callback via 'callbacks' argument instead.\n",
      "Early stopping is not available in dart mode\n"
     ]
    },
    {
     "name": "stdout",
     "output_type": "stream",
     "text": [
      "\u001b[32m[I 2022-05-19 23:43:14,794]\u001b[0m Trial 38 finished with value: 0.2691202524469344 and parameters: {'boosting_type': 'rf', 'max_depth': 3, 'min_child_samples': 203, 'learning_rate': 0.15642806112537305, 'feature_fraction': 0.6000000000000001, 'num_leaves': 2060, 'bagging_freq': 1, 'bagging_fraction': 0.30000000000000004, 'reg_alpha': 81.30000000000001, 'reg_lambda': 891}. Best is trial 35 with value: 0.26948653505972014.\u001b[0m\n",
      "[LightGBM] [Warning] feature_fraction is set=0.7, colsample_bytree=1.0 will be ignored. Current value: feature_fraction=0.7\n",
      "[LightGBM] [Warning] bagging_fraction is set=0.2, subsample=1.0 will be ignored. Current value: bagging_fraction=0.2\n",
      "[LightGBM] [Warning] bagging_freq is set=1, subsample_freq=0 will be ignored. Current value: bagging_freq=1\n"
     ]
    },
    {
     "name": "stderr",
     "output_type": "stream",
     "text": [
      " 40%|████      | 40/100 [00:11<00:15,  3.78it/s]The distribution is specified by [0.2, 0.95] and q=0.1, but the range is not divisible by `q`. It will be replaced by [0.2, 0.9].\n",
      "'early_stopping_rounds' argument is deprecated and will be removed in a future release of LightGBM. Pass 'early_stopping()' callback via 'callbacks' argument instead.\n",
      "'verbose' argument is deprecated and will be removed in a future release of LightGBM. Pass 'log_evaluation()' callback via 'callbacks' argument instead.\n"
     ]
    },
    {
     "name": "stdout",
     "output_type": "stream",
     "text": [
      "\u001b[32m[I 2022-05-19 23:43:15,108]\u001b[0m Trial 39 finished with value: 0.17274000478597837 and parameters: {'boosting_type': 'dart', 'max_depth': 2, 'min_child_samples': 208, 'learning_rate': 0.16899318506662092, 'feature_fraction': 0.7, 'num_leaves': 2600, 'bagging_freq': 1, 'bagging_fraction': 0.2, 'reg_alpha': 11.3, 'reg_lambda': 891}. Best is trial 35 with value: 0.26948653505972014.\u001b[0m\n",
      "[LightGBM] [Warning] feature_fraction is set=0.6000000000000001, colsample_bytree=1.0 will be ignored. Current value: feature_fraction=0.6000000000000001\n",
      "[LightGBM] [Warning] bagging_fraction is set=0.4, subsample=1.0 will be ignored. Current value: bagging_fraction=0.4\n",
      "[LightGBM] [Warning] bagging_freq is set=1, subsample_freq=0 will be ignored. Current value: bagging_freq=1\n"
     ]
    },
    {
     "name": "stderr",
     "output_type": "stream",
     "text": [
      " 41%|████      | 41/100 [00:11<00:15,  3.90it/s]The distribution is specified by [0.2, 0.95] and q=0.1, but the range is not divisible by `q`. It will be replaced by [0.2, 0.9].\n",
      "'early_stopping_rounds' argument is deprecated and will be removed in a future release of LightGBM. Pass 'early_stopping()' callback via 'callbacks' argument instead.\n",
      "'verbose' argument is deprecated and will be removed in a future release of LightGBM. Pass 'log_evaluation()' callback via 'callbacks' argument instead.\n"
     ]
    },
    {
     "name": "stdout",
     "output_type": "stream",
     "text": [
      "\u001b[32m[I 2022-05-19 23:43:15,347]\u001b[0m Trial 40 finished with value: 0.25659109190451 and parameters: {'boosting_type': 'rf', 'max_depth': 3, 'min_child_samples': 13, 'learning_rate': 0.14855059608009347, 'feature_fraction': 0.6000000000000001, 'num_leaves': 2380, 'bagging_freq': 1, 'bagging_fraction': 0.4, 'reg_alpha': 84.4, 'reg_lambda': 820}. Best is trial 35 with value: 0.26948653505972014.\u001b[0m\n",
      "[LightGBM] [Warning] feature_fraction is set=0.6000000000000001, colsample_bytree=1.0 will be ignored. Current value: feature_fraction=0.6000000000000001\n",
      "[LightGBM] [Warning] bagging_fraction is set=0.30000000000000004, subsample=1.0 will be ignored. Current value: bagging_fraction=0.30000000000000004\n",
      "[LightGBM] [Warning] bagging_freq is set=1, subsample_freq=0 will be ignored. Current value: bagging_freq=1\n"
     ]
    },
    {
     "name": "stderr",
     "output_type": "stream",
     "text": [
      " 42%|████▏     | 42/100 [00:11<00:14,  4.10it/s]The distribution is specified by [0.2, 0.95] and q=0.1, but the range is not divisible by `q`. It will be replaced by [0.2, 0.9].\n",
      "'early_stopping_rounds' argument is deprecated and will be removed in a future release of LightGBM. Pass 'early_stopping()' callback via 'callbacks' argument instead.\n",
      "'verbose' argument is deprecated and will be removed in a future release of LightGBM. Pass 'log_evaluation()' callback via 'callbacks' argument instead.\n"
     ]
    },
    {
     "name": "stdout",
     "output_type": "stream",
     "text": [
      "\u001b[32m[I 2022-05-19 23:43:15,562]\u001b[0m Trial 41 finished with value: 0.2699578889344405 and parameters: {'boosting_type': 'rf', 'max_depth': 3, 'min_child_samples': 240, 'learning_rate': 0.23424419752175168, 'feature_fraction': 0.6000000000000001, 'num_leaves': 1440, 'bagging_freq': 1, 'bagging_fraction': 0.30000000000000004, 'reg_alpha': 75.8, 'reg_lambda': 916}. Best is trial 41 with value: 0.2699578889344405.\u001b[0m\n",
      "[LightGBM] [Warning] feature_fraction is set=0.6000000000000001, colsample_bytree=1.0 will be ignored. Current value: feature_fraction=0.6000000000000001\n",
      "[LightGBM] [Warning] bagging_fraction is set=0.30000000000000004, subsample=1.0 will be ignored. Current value: bagging_fraction=0.30000000000000004\n",
      "[LightGBM] [Warning] bagging_freq is set=1, subsample_freq=0 will be ignored. Current value: bagging_freq=1\n"
     ]
    },
    {
     "name": "stderr",
     "output_type": "stream",
     "text": [
      " 43%|████▎     | 43/100 [00:11<00:13,  4.11it/s]The distribution is specified by [0.2, 0.95] and q=0.1, but the range is not divisible by `q`. It will be replaced by [0.2, 0.9].\n",
      "'early_stopping_rounds' argument is deprecated and will be removed in a future release of LightGBM. Pass 'early_stopping()' callback via 'callbacks' argument instead.\n",
      "'verbose' argument is deprecated and will be removed in a future release of LightGBM. Pass 'log_evaluation()' callback via 'callbacks' argument instead.\n"
     ]
    },
    {
     "name": "stdout",
     "output_type": "stream",
     "text": [
      "\u001b[32m[I 2022-05-19 23:43:15,801]\u001b[0m Trial 42 finished with value: 0.2723422029271853 and parameters: {'boosting_type': 'rf', 'max_depth': 3, 'min_child_samples': 243, 'learning_rate': 0.2540302107947913, 'feature_fraction': 0.6000000000000001, 'num_leaves': 2120, 'bagging_freq': 1, 'bagging_fraction': 0.30000000000000004, 'reg_alpha': 92.0, 'reg_lambda': 918}. Best is trial 42 with value: 0.2723422029271853.\u001b[0m\n",
      "[LightGBM] [Warning] feature_fraction is set=0.7, colsample_bytree=1.0 will be ignored. Current value: feature_fraction=0.7\n",
      "[LightGBM] [Warning] bagging_fraction is set=0.9, subsample=1.0 will be ignored. Current value: bagging_fraction=0.9\n",
      "[LightGBM] [Warning] bagging_freq is set=1, subsample_freq=0 will be ignored. Current value: bagging_freq=1\n"
     ]
    },
    {
     "name": "stderr",
     "output_type": "stream",
     "text": [
      " 44%|████▍     | 44/100 [00:12<00:13,  4.08it/s]The distribution is specified by [0.2, 0.95] and q=0.1, but the range is not divisible by `q`. It will be replaced by [0.2, 0.9].\n",
      "'early_stopping_rounds' argument is deprecated and will be removed in a future release of LightGBM. Pass 'early_stopping()' callback via 'callbacks' argument instead.\n",
      "'verbose' argument is deprecated and will be removed in a future release of LightGBM. Pass 'log_evaluation()' callback via 'callbacks' argument instead.\n"
     ]
    },
    {
     "name": "stdout",
     "output_type": "stream",
     "text": [
      "\u001b[32m[I 2022-05-19 23:43:16,051]\u001b[0m Trial 43 finished with value: 0.2214442736017575 and parameters: {'boosting_type': 'rf', 'max_depth': 3, 'min_child_samples': 265, 'learning_rate': 0.24349535588389082, 'feature_fraction': 0.7, 'num_leaves': 2100, 'bagging_freq': 1, 'bagging_fraction': 0.9, 'reg_alpha': 91.80000000000001, 'reg_lambda': 926}. Best is trial 42 with value: 0.2723422029271853.\u001b[0m\n",
      "[LightGBM] [Warning] feature_fraction is set=0.6000000000000001, colsample_bytree=1.0 will be ignored. Current value: feature_fraction=0.6000000000000001\n",
      "[LightGBM] [Warning] bagging_fraction is set=0.2, subsample=1.0 will be ignored. Current value: bagging_fraction=0.2\n",
      "[LightGBM] [Warning] bagging_freq is set=1, subsample_freq=0 will be ignored. Current value: bagging_freq=1\n"
     ]
    },
    {
     "name": "stderr",
     "output_type": "stream",
     "text": [
      " 45%|████▌     | 45/100 [00:12<00:12,  4.33it/s]The distribution is specified by [0.2, 0.95] and q=0.1, but the range is not divisible by `q`. It will be replaced by [0.2, 0.9].\n",
      "'early_stopping_rounds' argument is deprecated and will be removed in a future release of LightGBM. Pass 'early_stopping()' callback via 'callbacks' argument instead.\n",
      "'verbose' argument is deprecated and will be removed in a future release of LightGBM. Pass 'log_evaluation()' callback via 'callbacks' argument instead.\n"
     ]
    },
    {
     "name": "stdout",
     "output_type": "stream",
     "text": [
      "\u001b[32m[I 2022-05-19 23:43:16,250]\u001b[0m Trial 44 finished with value: 0.2986676615831502 and parameters: {'boosting_type': 'rf', 'max_depth': 2, 'min_child_samples': 166, 'learning_rate': 0.33903225240796203, 'feature_fraction': 0.6000000000000001, 'num_leaves': 2300, 'bagging_freq': 1, 'bagging_fraction': 0.2, 'reg_alpha': 93.60000000000001, 'reg_lambda': 909}. Best is trial 44 with value: 0.2986676615831502.\u001b[0m\n",
      "[LightGBM] [Warning] feature_fraction is set=0.8, colsample_bytree=1.0 will be ignored. Current value: feature_fraction=0.8\n",
      "[LightGBM] [Warning] bagging_fraction is set=0.2, subsample=1.0 will be ignored. Current value: bagging_fraction=0.2\n",
      "[LightGBM] [Warning] bagging_freq is set=1, subsample_freq=0 will be ignored. Current value: bagging_freq=1\n"
     ]
    },
    {
     "name": "stderr",
     "output_type": "stream",
     "text": [
      " 46%|████▌     | 46/100 [00:12<00:11,  4.52it/s]The distribution is specified by [0.2, 0.95] and q=0.1, but the range is not divisible by `q`. It will be replaced by [0.2, 0.9].\n",
      "'early_stopping_rounds' argument is deprecated and will be removed in a future release of LightGBM. Pass 'early_stopping()' callback via 'callbacks' argument instead.\n",
      "'verbose' argument is deprecated and will be removed in a future release of LightGBM. Pass 'log_evaluation()' callback via 'callbacks' argument instead.\n"
     ]
    },
    {
     "name": "stdout",
     "output_type": "stream",
     "text": [
      "\u001b[32m[I 2022-05-19 23:43:16,448]\u001b[0m Trial 45 finished with value: 0.15817119659286136 and parameters: {'boosting_type': 'gbdt', 'max_depth': 2, 'min_child_samples': 89, 'learning_rate': 0.34904070908046, 'feature_fraction': 0.8, 'num_leaves': 2320, 'bagging_freq': 1, 'bagging_fraction': 0.2, 'reg_alpha': 92.10000000000001, 'reg_lambda': 974}. Best is trial 44 with value: 0.2986676615831502.\u001b[0m\n",
      "[LightGBM] [Warning] feature_fraction is set=0.6000000000000001, colsample_bytree=1.0 will be ignored. Current value: feature_fraction=0.6000000000000001\n",
      "[LightGBM] [Warning] bagging_fraction is set=0.2, subsample=1.0 will be ignored. Current value: bagging_fraction=0.2\n",
      "[LightGBM] [Warning] bagging_freq is set=1, subsample_freq=0 will be ignored. Current value: bagging_freq=1\n"
     ]
    },
    {
     "name": "stderr",
     "output_type": "stream",
     "text": [
      " 47%|████▋     | 47/100 [00:12<00:11,  4.62it/s]The distribution is specified by [0.2, 0.95] and q=0.1, but the range is not divisible by `q`. It will be replaced by [0.2, 0.9].\n",
      "'early_stopping_rounds' argument is deprecated and will be removed in a future release of LightGBM. Pass 'early_stopping()' callback via 'callbacks' argument instead.\n",
      "'verbose' argument is deprecated and will be removed in a future release of LightGBM. Pass 'log_evaluation()' callback via 'callbacks' argument instead.\n"
     ]
    },
    {
     "name": "stdout",
     "output_type": "stream",
     "text": [
      "\u001b[32m[I 2022-05-19 23:43:16,653]\u001b[0m Trial 46 finished with value: 0.2995396224114436 and parameters: {'boosting_type': 'rf', 'max_depth': 2, 'min_child_samples': 129, 'learning_rate': 0.30515065814739684, 'feature_fraction': 0.6000000000000001, 'num_leaves': 2600, 'bagging_freq': 1, 'bagging_fraction': 0.2, 'reg_alpha': 94.0, 'reg_lambda': 924}. Best is trial 46 with value: 0.2995396224114436.\u001b[0m\n",
      "[LightGBM] [Warning] feature_fraction is set=0.5, colsample_bytree=1.0 will be ignored. Current value: feature_fraction=0.5\n",
      "[LightGBM] [Warning] bagging_fraction is set=0.2, subsample=1.0 will be ignored. Current value: bagging_fraction=0.2\n",
      "[LightGBM] [Warning] bagging_freq is set=1, subsample_freq=0 will be ignored. Current value: bagging_freq=1\n"
     ]
    },
    {
     "name": "stderr",
     "output_type": "stream",
     "text": [
      " 48%|████▊     | 48/100 [00:13<00:11,  4.69it/s]The distribution is specified by [0.2, 0.95] and q=0.1, but the range is not divisible by `q`. It will be replaced by [0.2, 0.9].\n",
      "'early_stopping_rounds' argument is deprecated and will be removed in a future release of LightGBM. Pass 'early_stopping()' callback via 'callbacks' argument instead.\n",
      "'verbose' argument is deprecated and will be removed in a future release of LightGBM. Pass 'log_evaluation()' callback via 'callbacks' argument instead.\n"
     ]
    },
    {
     "name": "stdout",
     "output_type": "stream",
     "text": [
      "\u001b[32m[I 2022-05-19 23:43:16,859]\u001b[0m Trial 47 finished with value: 0.29644679139728747 and parameters: {'boosting_type': 'rf', 'max_depth': 2, 'min_child_samples': 156, 'learning_rate': 0.3022321613181409, 'feature_fraction': 0.5, 'num_leaves': 2600, 'bagging_freq': 1, 'bagging_fraction': 0.2, 'reg_alpha': 95.60000000000001, 'reg_lambda': 921}. Best is trial 46 with value: 0.2995396224114436.\u001b[0m\n",
      "[LightGBM] [Warning] feature_fraction is set=0.5, colsample_bytree=1.0 will be ignored. Current value: feature_fraction=0.5\n",
      "[LightGBM] [Warning] bagging_fraction is set=0.2, subsample=1.0 will be ignored. Current value: bagging_fraction=0.2\n",
      "[LightGBM] [Warning] bagging_freq is set=1, subsample_freq=0 will be ignored. Current value: bagging_freq=1\n"
     ]
    },
    {
     "name": "stderr",
     "output_type": "stream",
     "text": [
      " 49%|████▉     | 49/100 [00:13<00:10,  4.68it/s]The distribution is specified by [0.2, 0.95] and q=0.1, but the range is not divisible by `q`. It will be replaced by [0.2, 0.9].\n",
      "'early_stopping_rounds' argument is deprecated and will be removed in a future release of LightGBM. Pass 'early_stopping()' callback via 'callbacks' argument instead.\n",
      "'verbose' argument is deprecated and will be removed in a future release of LightGBM. Pass 'log_evaluation()' callback via 'callbacks' argument instead.\n"
     ]
    },
    {
     "name": "stdout",
     "output_type": "stream",
     "text": [
      "\u001b[32m[I 2022-05-19 23:43:17,073]\u001b[0m Trial 48 finished with value: 0.2848529739505148 and parameters: {'boosting_type': 'rf', 'max_depth': 2, 'min_child_samples': 151, 'learning_rate': 0.31398268861250406, 'feature_fraction': 0.5, 'num_leaves': 2660, 'bagging_freq': 1, 'bagging_fraction': 0.2, 'reg_alpha': 92.9, 'reg_lambda': 647}. Best is trial 46 with value: 0.2995396224114436.\u001b[0m\n",
      "[LightGBM] [Warning] feature_fraction is set=0.5, colsample_bytree=1.0 will be ignored. Current value: feature_fraction=0.5\n",
      "[LightGBM] [Warning] bagging_fraction is set=0.2, subsample=1.0 will be ignored. Current value: bagging_fraction=0.2\n",
      "[LightGBM] [Warning] bagging_freq is set=1, subsample_freq=0 will be ignored. Current value: bagging_freq=1\n"
     ]
    },
    {
     "name": "stderr",
     "output_type": "stream",
     "text": [
      " 50%|█████     | 50/100 [00:13<00:10,  4.70it/s]The distribution is specified by [0.2, 0.95] and q=0.1, but the range is not divisible by `q`. It will be replaced by [0.2, 0.9].\n",
      "'early_stopping_rounds' argument is deprecated and will be removed in a future release of LightGBM. Pass 'early_stopping()' callback via 'callbacks' argument instead.\n",
      "'verbose' argument is deprecated and will be removed in a future release of LightGBM. Pass 'log_evaluation()' callback via 'callbacks' argument instead.\n",
      "Early stopping is not available in dart mode\n"
     ]
    },
    {
     "name": "stdout",
     "output_type": "stream",
     "text": [
      "\u001b[32m[I 2022-05-19 23:43:17,285]\u001b[0m Trial 49 finished with value: 0.28465104201960845 and parameters: {'boosting_type': 'rf', 'max_depth': 2, 'min_child_samples': 142, 'learning_rate': 0.30777174800324525, 'feature_fraction': 0.5, 'num_leaves': 2780, 'bagging_freq': 1, 'bagging_fraction': 0.2, 'reg_alpha': 95.10000000000001, 'reg_lambda': 634}. Best is trial 46 with value: 0.2995396224114436.\u001b[0m\n",
      "[LightGBM] [Warning] feature_fraction is set=0.5, colsample_bytree=1.0 will be ignored. Current value: feature_fraction=0.5\n",
      "[LightGBM] [Warning] bagging_fraction is set=0.2, subsample=1.0 will be ignored. Current value: bagging_fraction=0.2\n",
      "[LightGBM] [Warning] bagging_freq is set=1, subsample_freq=0 will be ignored. Current value: bagging_freq=1\n"
     ]
    },
    {
     "name": "stderr",
     "output_type": "stream",
     "text": [
      " 51%|█████     | 51/100 [00:13<00:11,  4.15it/s]The distribution is specified by [0.2, 0.95] and q=0.1, but the range is not divisible by `q`. It will be replaced by [0.2, 0.9].\n",
      "'early_stopping_rounds' argument is deprecated and will be removed in a future release of LightGBM. Pass 'early_stopping()' callback via 'callbacks' argument instead.\n",
      "'verbose' argument is deprecated and will be removed in a future release of LightGBM. Pass 'log_evaluation()' callback via 'callbacks' argument instead.\n"
     ]
    },
    {
     "name": "stdout",
     "output_type": "stream",
     "text": [
      "\u001b[32m[I 2022-05-19 23:43:17,593]\u001b[0m Trial 50 finished with value: 0.1614158453189947 and parameters: {'boosting_type': 'dart', 'max_depth': 2, 'min_child_samples': 139, 'learning_rate': 0.39080174533140605, 'feature_fraction': 0.5, 'num_leaves': 2780, 'bagging_freq': 1, 'bagging_fraction': 0.2, 'reg_alpha': 95.2, 'reg_lambda': 525}. Best is trial 46 with value: 0.2995396224114436.\u001b[0m\n",
      "[LightGBM] [Warning] feature_fraction is set=0.5, colsample_bytree=1.0 will be ignored. Current value: feature_fraction=0.5\n",
      "[LightGBM] [Warning] bagging_fraction is set=0.2, subsample=1.0 will be ignored. Current value: bagging_fraction=0.2\n",
      "[LightGBM] [Warning] bagging_freq is set=1, subsample_freq=0 will be ignored. Current value: bagging_freq=1\n"
     ]
    },
    {
     "name": "stderr",
     "output_type": "stream",
     "text": [
      " 52%|█████▏    | 52/100 [00:13<00:11,  4.35it/s]The distribution is specified by [0.2, 0.95] and q=0.1, but the range is not divisible by `q`. It will be replaced by [0.2, 0.9].\n",
      "'early_stopping_rounds' argument is deprecated and will be removed in a future release of LightGBM. Pass 'early_stopping()' callback via 'callbacks' argument instead.\n",
      "'verbose' argument is deprecated and will be removed in a future release of LightGBM. Pass 'log_evaluation()' callback via 'callbacks' argument instead.\n"
     ]
    },
    {
     "name": "stdout",
     "output_type": "stream",
     "text": [
      "\u001b[32m[I 2022-05-19 23:43:17,795]\u001b[0m Trial 51 finished with value: 0.28391252216711704 and parameters: {'boosting_type': 'rf', 'max_depth': 2, 'min_child_samples': 161, 'learning_rate': 0.3022494097248297, 'feature_fraction': 0.5, 'num_leaves': 2800, 'bagging_freq': 1, 'bagging_fraction': 0.2, 'reg_alpha': 88.2, 'reg_lambda': 632}. Best is trial 46 with value: 0.2995396224114436.\u001b[0m\n",
      "[LightGBM] [Warning] feature_fraction is set=0.5, colsample_bytree=1.0 will be ignored. Current value: feature_fraction=0.5\n",
      "[LightGBM] [Warning] bagging_fraction is set=0.2, subsample=1.0 will be ignored. Current value: bagging_fraction=0.2\n",
      "[LightGBM] [Warning] bagging_freq is set=1, subsample_freq=0 will be ignored. Current value: bagging_freq=1\n"
     ]
    },
    {
     "name": "stderr",
     "output_type": "stream",
     "text": [
      " 53%|█████▎    | 53/100 [00:14<00:10,  4.43it/s]The distribution is specified by [0.2, 0.95] and q=0.1, but the range is not divisible by `q`. It will be replaced by [0.2, 0.9].\n",
      "'early_stopping_rounds' argument is deprecated and will be removed in a future release of LightGBM. Pass 'early_stopping()' callback via 'callbacks' argument instead.\n",
      "'verbose' argument is deprecated and will be removed in a future release of LightGBM. Pass 'log_evaluation()' callback via 'callbacks' argument instead.\n"
     ]
    },
    {
     "name": "stdout",
     "output_type": "stream",
     "text": [
      "\u001b[32m[I 2022-05-19 23:43:18,012]\u001b[0m Trial 52 finished with value: 0.28383783125741063 and parameters: {'boosting_type': 'rf', 'max_depth': 2, 'min_child_samples': 166, 'learning_rate': 0.30234433302469693, 'feature_fraction': 0.5, 'num_leaves': 2820, 'bagging_freq': 1, 'bagging_fraction': 0.2, 'reg_alpha': 87.0, 'reg_lambda': 631}. Best is trial 46 with value: 0.2995396224114436.\u001b[0m\n",
      "[LightGBM] [Warning] feature_fraction is set=0.5, colsample_bytree=1.0 will be ignored. Current value: feature_fraction=0.5\n",
      "[LightGBM] [Warning] bagging_fraction is set=0.2, subsample=1.0 will be ignored. Current value: bagging_fraction=0.2\n",
      "[LightGBM] [Warning] bagging_freq is set=1, subsample_freq=0 will be ignored. Current value: bagging_freq=1\n"
     ]
    },
    {
     "name": "stderr",
     "output_type": "stream",
     "text": [
      " 54%|█████▍    | 54/100 [00:14<00:10,  4.50it/s]The distribution is specified by [0.2, 0.95] and q=0.1, but the range is not divisible by `q`. It will be replaced by [0.2, 0.9].\n",
      "'early_stopping_rounds' argument is deprecated and will be removed in a future release of LightGBM. Pass 'early_stopping()' callback via 'callbacks' argument instead.\n",
      "'verbose' argument is deprecated and will be removed in a future release of LightGBM. Pass 'log_evaluation()' callback via 'callbacks' argument instead.\n"
     ]
    },
    {
     "name": "stdout",
     "output_type": "stream",
     "text": [
      "\u001b[32m[I 2022-05-19 23:43:18,225]\u001b[0m Trial 53 finished with value: 0.2849819057938779 and parameters: {'boosting_type': 'rf', 'max_depth': 2, 'min_child_samples': 88, 'learning_rate': 0.33039155716374435, 'feature_fraction': 0.5, 'num_leaves': 3000, 'bagging_freq': 1, 'bagging_fraction': 0.2, 'reg_alpha': 96.10000000000001, 'reg_lambda': 638}. Best is trial 46 with value: 0.2995396224114436.\u001b[0m\n",
      "[LightGBM] [Warning] feature_fraction is set=0.5, colsample_bytree=1.0 will be ignored. Current value: feature_fraction=0.5\n",
      "[LightGBM] [Warning] bagging_fraction is set=0.2, subsample=1.0 will be ignored. Current value: bagging_fraction=0.2\n",
      "[LightGBM] [Warning] bagging_freq is set=1, subsample_freq=0 will be ignored. Current value: bagging_freq=1\n"
     ]
    },
    {
     "name": "stderr",
     "output_type": "stream",
     "text": [
      " 55%|█████▌    | 55/100 [00:14<00:09,  4.58it/s]The distribution is specified by [0.2, 0.95] and q=0.1, but the range is not divisible by `q`. It will be replaced by [0.2, 0.9].\n",
      "'early_stopping_rounds' argument is deprecated and will be removed in a future release of LightGBM. Pass 'early_stopping()' callback via 'callbacks' argument instead.\n",
      "'verbose' argument is deprecated and will be removed in a future release of LightGBM. Pass 'log_evaluation()' callback via 'callbacks' argument instead.\n"
     ]
    },
    {
     "name": "stdout",
     "output_type": "stream",
     "text": [
      "\u001b[32m[I 2022-05-19 23:43:18,434]\u001b[0m Trial 54 finished with value: 0.28595999325245686 and parameters: {'boosting_type': 'rf', 'max_depth': 2, 'min_child_samples': 96, 'learning_rate': 0.34210428714314806, 'feature_fraction': 0.5, 'num_leaves': 3000, 'bagging_freq': 1, 'bagging_fraction': 0.2, 'reg_alpha': 95.10000000000001, 'reg_lambda': 670}. Best is trial 46 with value: 0.2995396224114436.\u001b[0m\n",
      "[LightGBM] [Warning] feature_fraction is set=0.5, colsample_bytree=1.0 will be ignored. Current value: feature_fraction=0.5\n",
      "[LightGBM] [Warning] bagging_fraction is set=0.2, subsample=1.0 will be ignored. Current value: bagging_fraction=0.2\n",
      "[LightGBM] [Warning] bagging_freq is set=1, subsample_freq=0 will be ignored. Current value: bagging_freq=1\n"
     ]
    },
    {
     "name": "stderr",
     "output_type": "stream",
     "text": [
      " 56%|█████▌    | 56/100 [00:14<00:09,  4.65it/s]The distribution is specified by [0.2, 0.95] and q=0.1, but the range is not divisible by `q`. It will be replaced by [0.2, 0.9].\n",
      "'early_stopping_rounds' argument is deprecated and will be removed in a future release of LightGBM. Pass 'early_stopping()' callback via 'callbacks' argument instead.\n",
      "'verbose' argument is deprecated and will be removed in a future release of LightGBM. Pass 'log_evaluation()' callback via 'callbacks' argument instead.\n"
     ]
    },
    {
     "name": "stdout",
     "output_type": "stream",
     "text": [
      "\u001b[32m[I 2022-05-19 23:43:18,643]\u001b[0m Trial 55 finished with value: 0.28156880588887945 and parameters: {'boosting_type': 'rf', 'max_depth': 2, 'min_child_samples': 66, 'learning_rate': 0.34306356433099716, 'feature_fraction': 0.5, 'num_leaves': 3000, 'bagging_freq': 1, 'bagging_fraction': 0.2, 'reg_alpha': 95.9, 'reg_lambda': 567}. Best is trial 46 with value: 0.2995396224114436.\u001b[0m\n",
      "[LightGBM] [Warning] feature_fraction is set=0.4, colsample_bytree=1.0 will be ignored. Current value: feature_fraction=0.4\n",
      "[LightGBM] [Warning] bagging_fraction is set=0.2, subsample=1.0 will be ignored. Current value: bagging_fraction=0.2\n",
      "[LightGBM] [Warning] bagging_freq is set=1, subsample_freq=0 will be ignored. Current value: bagging_freq=1\n"
     ]
    },
    {
     "name": "stderr",
     "output_type": "stream",
     "text": [
      " 57%|█████▋    | 57/100 [00:15<00:09,  4.60it/s]The distribution is specified by [0.2, 0.95] and q=0.1, but the range is not divisible by `q`. It will be replaced by [0.2, 0.9].\n",
      "'early_stopping_rounds' argument is deprecated and will be removed in a future release of LightGBM. Pass 'early_stopping()' callback via 'callbacks' argument instead.\n",
      "'verbose' argument is deprecated and will be removed in a future release of LightGBM. Pass 'log_evaluation()' callback via 'callbacks' argument instead.\n"
     ]
    },
    {
     "name": "stdout",
     "output_type": "stream",
     "text": [
      "\u001b[32m[I 2022-05-19 23:43:18,865]\u001b[0m Trial 56 finished with value: 0.2778943802008244 and parameters: {'boosting_type': 'rf', 'max_depth': 3, 'min_child_samples': 66, 'learning_rate': 0.38422867309727293, 'feature_fraction': 0.4, 'num_leaves': 2620, 'bagging_freq': 1, 'bagging_fraction': 0.2, 'reg_alpha': 82.30000000000001, 'reg_lambda': 686}. Best is trial 46 with value: 0.2995396224114436.\u001b[0m\n",
      "[LightGBM] [Warning] feature_fraction is set=0.5, colsample_bytree=1.0 will be ignored. Current value: feature_fraction=0.5\n",
      "[LightGBM] [Warning] bagging_fraction is set=0.2, subsample=1.0 will be ignored. Current value: bagging_fraction=0.2\n",
      "[LightGBM] [Warning] bagging_freq is set=1, subsample_freq=0 will be ignored. Current value: bagging_freq=1\n"
     ]
    },
    {
     "name": "stderr",
     "output_type": "stream",
     "text": [
      " 58%|█████▊    | 58/100 [00:15<00:08,  4.76it/s]The distribution is specified by [0.2, 0.95] and q=0.1, but the range is not divisible by `q`. It will be replaced by [0.2, 0.9].\n",
      "'early_stopping_rounds' argument is deprecated and will be removed in a future release of LightGBM. Pass 'early_stopping()' callback via 'callbacks' argument instead.\n",
      "'verbose' argument is deprecated and will be removed in a future release of LightGBM. Pass 'log_evaluation()' callback via 'callbacks' argument instead.\n"
     ]
    },
    {
     "name": "stdout",
     "output_type": "stream",
     "text": [
      "\u001b[32m[I 2022-05-19 23:43:19,058]\u001b[0m Trial 57 finished with value: 0.16161732282097196 and parameters: {'boosting_type': 'gbdt', 'max_depth': 2, 'min_child_samples': 104, 'learning_rate': 0.42235251173280985, 'feature_fraction': 0.5, 'num_leaves': 2620, 'bagging_freq': 1, 'bagging_fraction': 0.2, 'reg_alpha': 87.4, 'reg_lambda': 502}. Best is trial 46 with value: 0.2995396224114436.\u001b[0m\n",
      "[LightGBM] [Warning] feature_fraction is set=0.7, colsample_bytree=1.0 will be ignored. Current value: feature_fraction=0.7\n",
      "[LightGBM] [Warning] bagging_fraction is set=0.8, subsample=1.0 will be ignored. Current value: bagging_fraction=0.8\n",
      "[LightGBM] [Warning] bagging_freq is set=1, subsample_freq=0 will be ignored. Current value: bagging_freq=1\n"
     ]
    },
    {
     "name": "stderr",
     "output_type": "stream",
     "text": [
      " 59%|█████▉    | 59/100 [00:15<00:09,  4.42it/s]The distribution is specified by [0.2, 0.95] and q=0.1, but the range is not divisible by `q`. It will be replaced by [0.2, 0.9].\n",
      "'early_stopping_rounds' argument is deprecated and will be removed in a future release of LightGBM. Pass 'early_stopping()' callback via 'callbacks' argument instead.\n",
      "'verbose' argument is deprecated and will be removed in a future release of LightGBM. Pass 'log_evaluation()' callback via 'callbacks' argument instead.\n"
     ]
    },
    {
     "name": "stdout",
     "output_type": "stream",
     "text": [
      "\u001b[32m[I 2022-05-19 23:43:19,322]\u001b[0m Trial 58 finished with value: 0.21818264899676146 and parameters: {'boosting_type': 'rf', 'max_depth': 4, 'min_child_samples': 312, 'learning_rate': 0.3353772486081828, 'feature_fraction': 0.7, 'num_leaves': 2500, 'bagging_freq': 1, 'bagging_fraction': 0.8, 'reg_alpha': 93.2, 'reg_lambda': 802}. Best is trial 46 with value: 0.2995396224114436.\u001b[0m\n",
      "[LightGBM] [Warning] feature_fraction is set=0.5, colsample_bytree=1.0 will be ignored. Current value: feature_fraction=0.5\n",
      "[LightGBM] [Warning] bagging_fraction is set=0.2, subsample=1.0 will be ignored. Current value: bagging_fraction=0.2\n",
      "[LightGBM] [Warning] bagging_freq is set=1, subsample_freq=0 will be ignored. Current value: bagging_freq=1\n"
     ]
    },
    {
     "name": "stderr",
     "output_type": "stream",
     "text": [
      " 60%|██████    | 60/100 [00:15<00:08,  4.61it/s]The distribution is specified by [0.2, 0.95] and q=0.1, but the range is not divisible by `q`. It will be replaced by [0.2, 0.9].\n",
      "'early_stopping_rounds' argument is deprecated and will be removed in a future release of LightGBM. Pass 'early_stopping()' callback via 'callbacks' argument instead.\n",
      "'verbose' argument is deprecated and will be removed in a future release of LightGBM. Pass 'log_evaluation()' callback via 'callbacks' argument instead.\n"
     ]
    },
    {
     "name": "stdout",
     "output_type": "stream",
     "text": [
      "\u001b[32m[I 2022-05-19 23:43:19,517]\u001b[0m Trial 59 finished with value: 0.2862064838209966 and parameters: {'boosting_type': 'rf', 'max_depth': 2, 'min_child_samples': 68, 'learning_rate': 0.36042772794180733, 'feature_fraction': 0.5, 'num_leaves': 2900, 'bagging_freq': 1, 'bagging_fraction': 0.2, 'reg_alpha': 97.9, 'reg_lambda': 673}. Best is trial 46 with value: 0.2995396224114436.\u001b[0m\n",
      "[LightGBM] [Warning] feature_fraction is set=0.6000000000000001, colsample_bytree=1.0 will be ignored. Current value: feature_fraction=0.6000000000000001\n",
      "[LightGBM] [Warning] bagging_fraction is set=0.2, subsample=1.0 will be ignored. Current value: bagging_fraction=0.2\n",
      "[LightGBM] [Warning] bagging_freq is set=1, subsample_freq=0 will be ignored. Current value: bagging_freq=1\n"
     ]
    },
    {
     "name": "stderr",
     "output_type": "stream",
     "text": [
      " 61%|██████    | 61/100 [00:15<00:08,  4.60it/s]The distribution is specified by [0.2, 0.95] and q=0.1, but the range is not divisible by `q`. It will be replaced by [0.2, 0.9].\n",
      "'early_stopping_rounds' argument is deprecated and will be removed in a future release of LightGBM. Pass 'early_stopping()' callback via 'callbacks' argument instead.\n",
      "'verbose' argument is deprecated and will be removed in a future release of LightGBM. Pass 'log_evaluation()' callback via 'callbacks' argument instead.\n"
     ]
    },
    {
     "name": "stdout",
     "output_type": "stream",
     "text": [
      "\u001b[32m[I 2022-05-19 23:43:19,736]\u001b[0m Trial 60 finished with value: 0.2845791949730965 and parameters: {'boosting_type': 'rf', 'max_depth': 3, 'min_child_samples': 54, 'learning_rate': 0.3637895358801358, 'feature_fraction': 0.6000000000000001, 'num_leaves': 2860, 'bagging_freq': 1, 'bagging_fraction': 0.2, 'reg_alpha': 98.0, 'reg_lambda': 773}. Best is trial 46 with value: 0.2995396224114436.\u001b[0m\n",
      "[LightGBM] [Warning] feature_fraction is set=0.5, colsample_bytree=1.0 will be ignored. Current value: feature_fraction=0.5\n",
      "[LightGBM] [Warning] bagging_fraction is set=0.2, subsample=1.0 will be ignored. Current value: bagging_fraction=0.2\n",
      "[LightGBM] [Warning] bagging_freq is set=1, subsample_freq=0 will be ignored. Current value: bagging_freq=1\n"
     ]
    },
    {
     "name": "stderr",
     "output_type": "stream",
     "text": [
      " 62%|██████▏   | 62/100 [00:16<00:08,  4.47it/s]The distribution is specified by [0.2, 0.95] and q=0.1, but the range is not divisible by `q`. It will be replaced by [0.2, 0.9].\n",
      "'early_stopping_rounds' argument is deprecated and will be removed in a future release of LightGBM. Pass 'early_stopping()' callback via 'callbacks' argument instead.\n",
      "'verbose' argument is deprecated and will be removed in a future release of LightGBM. Pass 'log_evaluation()' callback via 'callbacks' argument instead.\n"
     ]
    },
    {
     "name": "stdout",
     "output_type": "stream",
     "text": [
      "\u001b[32m[I 2022-05-19 23:43:19,974]\u001b[0m Trial 61 finished with value: 0.28586851852219386 and parameters: {'boosting_type': 'rf', 'max_depth': 2, 'min_child_samples': 182, 'learning_rate': 0.3295338493313073, 'feature_fraction': 0.5, 'num_leaves': 2900, 'bagging_freq': 1, 'bagging_fraction': 0.2, 'reg_alpha': 89.5, 'reg_lambda': 668}. Best is trial 46 with value: 0.2995396224114436.\u001b[0m\n",
      "[LightGBM] [Warning] feature_fraction is set=0.4, colsample_bytree=1.0 will be ignored. Current value: feature_fraction=0.4\n",
      "[LightGBM] [Warning] bagging_fraction is set=0.2, subsample=1.0 will be ignored. Current value: bagging_fraction=0.2\n",
      "[LightGBM] [Warning] bagging_freq is set=1, subsample_freq=0 will be ignored. Current value: bagging_freq=1\n"
     ]
    },
    {
     "name": "stderr",
     "output_type": "stream",
     "text": [
      " 63%|██████▎   | 63/100 [00:16<00:08,  4.38it/s]The distribution is specified by [0.2, 0.95] and q=0.1, but the range is not divisible by `q`. It will be replaced by [0.2, 0.9].\n",
      "'early_stopping_rounds' argument is deprecated and will be removed in a future release of LightGBM. Pass 'early_stopping()' callback via 'callbacks' argument instead.\n",
      "'verbose' argument is deprecated and will be removed in a future release of LightGBM. Pass 'log_evaluation()' callback via 'callbacks' argument instead.\n"
     ]
    },
    {
     "name": "stdout",
     "output_type": "stream",
     "text": [
      "\u001b[32m[I 2022-05-19 23:43:20,212]\u001b[0m Trial 62 finished with value: 0.28234180024367267 and parameters: {'boosting_type': 'rf', 'max_depth': 2, 'min_child_samples': 192, 'learning_rate': 0.410261915006004, 'feature_fraction': 0.4, 'num_leaves': 2960, 'bagging_freq': 1, 'bagging_fraction': 0.2, 'reg_alpha': 88.5, 'reg_lambda': 591}. Best is trial 46 with value: 0.2995396224114436.\u001b[0m\n",
      "[LightGBM] [Warning] feature_fraction is set=0.5, colsample_bytree=1.0 will be ignored. Current value: feature_fraction=0.5\n",
      "[LightGBM] [Warning] bagging_fraction is set=0.2, subsample=1.0 will be ignored. Current value: bagging_fraction=0.2\n",
      "[LightGBM] [Warning] bagging_freq is set=1, subsample_freq=0 will be ignored. Current value: bagging_freq=1\n"
     ]
    },
    {
     "name": "stderr",
     "output_type": "stream",
     "text": [
      " 64%|██████▍   | 64/100 [00:16<00:08,  4.44it/s]The distribution is specified by [0.2, 0.95] and q=0.1, but the range is not divisible by `q`. It will be replaced by [0.2, 0.9].\n",
      "'early_stopping_rounds' argument is deprecated and will be removed in a future release of LightGBM. Pass 'early_stopping()' callback via 'callbacks' argument instead.\n",
      "'verbose' argument is deprecated and will be removed in a future release of LightGBM. Pass 'log_evaluation()' callback via 'callbacks' argument instead.\n"
     ]
    },
    {
     "name": "stdout",
     "output_type": "stream",
     "text": [
      "\u001b[32m[I 2022-05-19 23:43:20,431]\u001b[0m Trial 63 finished with value: 0.2652842834065773 and parameters: {'boosting_type': 'rf', 'max_depth': 3, 'min_child_samples': 1, 'learning_rate': 0.28253456903101465, 'feature_fraction': 0.5, 'num_leaves': 2920, 'bagging_freq': 1, 'bagging_fraction': 0.2, 'reg_alpha': 99.60000000000001, 'reg_lambda': 477}. Best is trial 46 with value: 0.2995396224114436.\u001b[0m\n",
      "[LightGBM] [Warning] feature_fraction is set=0.5, colsample_bytree=1.0 will be ignored. Current value: feature_fraction=0.5\n",
      "[LightGBM] [Warning] bagging_fraction is set=0.2, subsample=1.0 will be ignored. Current value: bagging_fraction=0.2\n",
      "[LightGBM] [Warning] bagging_freq is set=1, subsample_freq=0 will be ignored. Current value: bagging_freq=1\n"
     ]
    },
    {
     "name": "stderr",
     "output_type": "stream",
     "text": [
      " 65%|██████▌   | 65/100 [00:16<00:07,  4.59it/s]The distribution is specified by [0.2, 0.95] and q=0.1, but the range is not divisible by `q`. It will be replaced by [0.2, 0.9].\n",
      "'early_stopping_rounds' argument is deprecated and will be removed in a future release of LightGBM. Pass 'early_stopping()' callback via 'callbacks' argument instead.\n",
      "'verbose' argument is deprecated and will be removed in a future release of LightGBM. Pass 'log_evaluation()' callback via 'callbacks' argument instead.\n"
     ]
    },
    {
     "name": "stdout",
     "output_type": "stream",
     "text": [
      "\u001b[32m[I 2022-05-19 23:43:20,631]\u001b[0m Trial 64 finished with value: 0.2918403327838532 and parameters: {'boosting_type': 'rf', 'max_depth': 2, 'min_child_samples': 112, 'learning_rate': 0.3306221094325244, 'feature_fraction': 0.5, 'num_leaves': 20, 'bagging_freq': 1, 'bagging_fraction': 0.2, 'reg_alpha': 80.7, 'reg_lambda': 839}. Best is trial 46 with value: 0.2995396224114436.\u001b[0m\n",
      "[LightGBM] [Warning] feature_fraction is set=0.4, colsample_bytree=1.0 will be ignored. Current value: feature_fraction=0.4\n",
      "[LightGBM] [Warning] bagging_fraction is set=0.2, subsample=1.0 will be ignored. Current value: bagging_fraction=0.2\n",
      "[LightGBM] [Warning] bagging_freq is set=1, subsample_freq=0 will be ignored. Current value: bagging_freq=1\n"
     ]
    },
    {
     "name": "stderr",
     "output_type": "stream",
     "text": [
      " 66%|██████▌   | 66/100 [00:17<00:07,  4.41it/s]The distribution is specified by [0.2, 0.95] and q=0.1, but the range is not divisible by `q`. It will be replaced by [0.2, 0.9].\n",
      "'early_stopping_rounds' argument is deprecated and will be removed in a future release of LightGBM. Pass 'early_stopping()' callback via 'callbacks' argument instead.\n",
      "'verbose' argument is deprecated and will be removed in a future release of LightGBM. Pass 'log_evaluation()' callback via 'callbacks' argument instead.\n",
      "Early stopping is not available in dart mode\n"
     ]
    },
    {
     "name": "stdout",
     "output_type": "stream",
     "text": [
      "\u001b[32m[I 2022-05-19 23:43:20,878]\u001b[0m Trial 65 finished with value: 0.29261887357888733 and parameters: {'boosting_type': 'rf', 'max_depth': 2, 'min_child_samples': 118, 'learning_rate': 0.36778179348266027, 'feature_fraction': 0.4, 'num_leaves': 360, 'bagging_freq': 1, 'bagging_fraction': 0.2, 'reg_alpha': 85.4, 'reg_lambda': 836}. Best is trial 46 with value: 0.2995396224114436.\u001b[0m\n",
      "[LightGBM] [Warning] feature_fraction is set=0.4, colsample_bytree=1.0 will be ignored. Current value: feature_fraction=0.4\n",
      "[LightGBM] [Warning] bagging_fraction is set=0.6000000000000001, subsample=1.0 will be ignored. Current value: bagging_fraction=0.6000000000000001\n",
      "[LightGBM] [Warning] bagging_freq is set=1, subsample_freq=0 will be ignored. Current value: bagging_freq=1\n"
     ]
    },
    {
     "name": "stderr",
     "output_type": "stream",
     "text": [
      " 67%|██████▋   | 67/100 [00:17<00:09,  3.48it/s]The distribution is specified by [0.2, 0.95] and q=0.1, but the range is not divisible by `q`. It will be replaced by [0.2, 0.9].\n",
      "'early_stopping_rounds' argument is deprecated and will be removed in a future release of LightGBM. Pass 'early_stopping()' callback via 'callbacks' argument instead.\n",
      "'verbose' argument is deprecated and will be removed in a future release of LightGBM. Pass 'log_evaluation()' callback via 'callbacks' argument instead.\n"
     ]
    },
    {
     "name": "stdout",
     "output_type": "stream",
     "text": [
      "\u001b[32m[I 2022-05-19 23:43:21,307]\u001b[0m Trial 66 finished with value: 0.15501770533635612 and parameters: {'boosting_type': 'dart', 'max_depth': 4, 'min_child_samples': 117, 'learning_rate': 0.3642366078075356, 'feature_fraction': 0.4, 'num_leaves': 2500, 'bagging_freq': 1, 'bagging_fraction': 0.6000000000000001, 'reg_alpha': 82.5, 'reg_lambda': 848}. Best is trial 46 with value: 0.2995396224114436.\u001b[0m\n",
      "[LightGBM] [Warning] feature_fraction is set=0.4, colsample_bytree=1.0 will be ignored. Current value: feature_fraction=0.4\n",
      "[LightGBM] [Warning] bagging_fraction is set=0.2, subsample=1.0 will be ignored. Current value: bagging_fraction=0.2\n",
      "[LightGBM] [Warning] bagging_freq is set=1, subsample_freq=0 will be ignored. Current value: bagging_freq=1\n"
     ]
    },
    {
     "name": "stderr",
     "output_type": "stream",
     "text": [
      " 68%|██████▊   | 68/100 [00:17<00:08,  3.75it/s]The distribution is specified by [0.2, 0.95] and q=0.1, but the range is not divisible by `q`. It will be replaced by [0.2, 0.9].\n",
      "'early_stopping_rounds' argument is deprecated and will be removed in a future release of LightGBM. Pass 'early_stopping()' callback via 'callbacks' argument instead.\n",
      "'verbose' argument is deprecated and will be removed in a future release of LightGBM. Pass 'log_evaluation()' callback via 'callbacks' argument instead.\n"
     ]
    },
    {
     "name": "stdout",
     "output_type": "stream",
     "text": [
      "\u001b[32m[I 2022-05-19 23:43:21,523]\u001b[0m Trial 67 finished with value: 0.28823810799482774 and parameters: {'boosting_type': 'rf', 'max_depth': 3, 'min_child_samples': 226, 'learning_rate': 0.40956412459209973, 'feature_fraction': 0.4, 'num_leaves': 60, 'bagging_freq': 1, 'bagging_fraction': 0.2, 'reg_alpha': 85.60000000000001, 'reg_lambda': 874}. Best is trial 46 with value: 0.2995396224114436.\u001b[0m\n",
      "[LightGBM] [Warning] feature_fraction is set=0.4, colsample_bytree=1.0 will be ignored. Current value: feature_fraction=0.4\n",
      "[LightGBM] [Warning] bagging_fraction is set=0.30000000000000004, subsample=1.0 will be ignored. Current value: bagging_fraction=0.30000000000000004\n",
      "[LightGBM] [Warning] bagging_freq is set=1, subsample_freq=0 will be ignored. Current value: bagging_freq=1\n"
     ]
    },
    {
     "name": "stderr",
     "output_type": "stream",
     "text": [
      " 69%|██████▉   | 69/100 [00:17<00:07,  3.88it/s]The distribution is specified by [0.2, 0.95] and q=0.1, but the range is not divisible by `q`. It will be replaced by [0.2, 0.9].\n",
      "'early_stopping_rounds' argument is deprecated and will be removed in a future release of LightGBM. Pass 'early_stopping()' callback via 'callbacks' argument instead.\n",
      "'verbose' argument is deprecated and will be removed in a future release of LightGBM. Pass 'log_evaluation()' callback via 'callbacks' argument instead.\n"
     ]
    },
    {
     "name": "stdout",
     "output_type": "stream",
     "text": [
      "\u001b[32m[I 2022-05-19 23:43:21,763]\u001b[0m Trial 68 finished with value: 0.26671412615097806 and parameters: {'boosting_type': 'rf', 'max_depth': 3, 'min_child_samples': 221, 'learning_rate': 0.44450647859606185, 'feature_fraction': 0.4, 'num_leaves': 20, 'bagging_freq': 1, 'bagging_fraction': 0.30000000000000004, 'reg_alpha': 80.10000000000001, 'reg_lambda': 841}. Best is trial 46 with value: 0.2995396224114436.\u001b[0m\n",
      "[LightGBM] [Warning] feature_fraction is set=0.4, colsample_bytree=1.0 will be ignored. Current value: feature_fraction=0.4\n",
      "[LightGBM] [Warning] bagging_fraction is set=0.7, subsample=1.0 will be ignored. Current value: bagging_fraction=0.7\n",
      "[LightGBM] [Warning] bagging_freq is set=1, subsample_freq=0 will be ignored. Current value: bagging_freq=1\n"
     ]
    },
    {
     "name": "stderr",
     "output_type": "stream",
     "text": [
      " 70%|███████   | 70/100 [00:18<00:07,  3.79it/s]The distribution is specified by [0.2, 0.95] and q=0.1, but the range is not divisible by `q`. It will be replaced by [0.2, 0.9].\n",
      "'early_stopping_rounds' argument is deprecated and will be removed in a future release of LightGBM. Pass 'early_stopping()' callback via 'callbacks' argument instead.\n",
      "'verbose' argument is deprecated and will be removed in a future release of LightGBM. Pass 'log_evaluation()' callback via 'callbacks' argument instead.\n"
     ]
    },
    {
     "name": "stdout",
     "output_type": "stream",
     "text": [
      "\u001b[32m[I 2022-05-19 23:43:22,042]\u001b[0m Trial 69 finished with value: 0.22950543597101913 and parameters: {'boosting_type': 'rf', 'max_depth': 3, 'min_child_samples': 323, 'learning_rate': 0.40374380989511494, 'feature_fraction': 0.4, 'num_leaves': 340, 'bagging_freq': 1, 'bagging_fraction': 0.7, 'reg_alpha': 83.9, 'reg_lambda': 1000}. Best is trial 46 with value: 0.2995396224114436.\u001b[0m\n",
      "[LightGBM] [Warning] feature_fraction is set=0.4, colsample_bytree=1.0 will be ignored. Current value: feature_fraction=0.4\n",
      "[LightGBM] [Warning] bagging_fraction is set=0.2, subsample=1.0 will be ignored. Current value: bagging_fraction=0.2\n",
      "[LightGBM] [Warning] bagging_freq is set=1, subsample_freq=0 will be ignored. Current value: bagging_freq=1\n"
     ]
    },
    {
     "name": "stderr",
     "output_type": "stream",
     "text": [
      " 71%|███████   | 71/100 [00:18<00:07,  3.91it/s]The distribution is specified by [0.2, 0.95] and q=0.1, but the range is not divisible by `q`. It will be replaced by [0.2, 0.9].\n",
      "'early_stopping_rounds' argument is deprecated and will be removed in a future release of LightGBM. Pass 'early_stopping()' callback via 'callbacks' argument instead.\n",
      "'verbose' argument is deprecated and will be removed in a future release of LightGBM. Pass 'log_evaluation()' callback via 'callbacks' argument instead.\n"
     ]
    },
    {
     "name": "stdout",
     "output_type": "stream",
     "text": [
      "\u001b[32m[I 2022-05-19 23:43:22,277]\u001b[0m Trial 70 finished with value: 0.1624499372576991 and parameters: {'boosting_type': 'gbdt', 'max_depth': 2, 'min_child_samples': 135, 'learning_rate': 0.36609343523197235, 'feature_fraction': 0.4, 'num_leaves': 220, 'bagging_freq': 1, 'bagging_fraction': 0.2, 'reg_alpha': 69.0, 'reg_lambda': 880}. Best is trial 46 with value: 0.2995396224114436.\u001b[0m\n",
      "[LightGBM] [Warning] feature_fraction is set=0.4, colsample_bytree=1.0 will be ignored. Current value: feature_fraction=0.4\n",
      "[LightGBM] [Warning] bagging_fraction is set=0.2, subsample=1.0 will be ignored. Current value: bagging_fraction=0.2\n",
      "[LightGBM] [Warning] bagging_freq is set=1, subsample_freq=0 will be ignored. Current value: bagging_freq=1\n"
     ]
    },
    {
     "name": "stderr",
     "output_type": "stream",
     "text": [
      " 72%|███████▏  | 72/100 [00:18<00:06,  4.05it/s]The distribution is specified by [0.2, 0.95] and q=0.1, but the range is not divisible by `q`. It will be replaced by [0.2, 0.9].\n",
      "'early_stopping_rounds' argument is deprecated and will be removed in a future release of LightGBM. Pass 'early_stopping()' callback via 'callbacks' argument instead.\n",
      "'verbose' argument is deprecated and will be removed in a future release of LightGBM. Pass 'log_evaluation()' callback via 'callbacks' argument instead.\n"
     ]
    },
    {
     "name": "stdout",
     "output_type": "stream",
     "text": [
      "\u001b[32m[I 2022-05-19 23:43:22,503]\u001b[0m Trial 71 finished with value: 0.2910717779146214 and parameters: {'boosting_type': 'rf', 'max_depth': 2, 'min_child_samples': 44, 'learning_rate': 0.28743770690560244, 'feature_fraction': 0.4, 'num_leaves': 20, 'bagging_freq': 1, 'bagging_fraction': 0.2, 'reg_alpha': 86.0, 'reg_lambda': 794}. Best is trial 46 with value: 0.2995396224114436.\u001b[0m\n",
      "[LightGBM] [Warning] feature_fraction is set=0.4, colsample_bytree=1.0 will be ignored. Current value: feature_fraction=0.4\n",
      "[LightGBM] [Warning] bagging_fraction is set=0.2, subsample=1.0 will be ignored. Current value: bagging_fraction=0.2\n",
      "[LightGBM] [Warning] bagging_freq is set=1, subsample_freq=0 will be ignored. Current value: bagging_freq=1\n"
     ]
    },
    {
     "name": "stderr",
     "output_type": "stream",
     "text": [
      " 73%|███████▎  | 73/100 [00:18<00:06,  4.04it/s]The distribution is specified by [0.2, 0.95] and q=0.1, but the range is not divisible by `q`. It will be replaced by [0.2, 0.9].\n",
      "'early_stopping_rounds' argument is deprecated and will be removed in a future release of LightGBM. Pass 'early_stopping()' callback via 'callbacks' argument instead.\n",
      "'verbose' argument is deprecated and will be removed in a future release of LightGBM. Pass 'log_evaluation()' callback via 'callbacks' argument instead.\n"
     ]
    },
    {
     "name": "stdout",
     "output_type": "stream",
     "text": [
      "\u001b[32m[I 2022-05-19 23:43:22,753]\u001b[0m Trial 72 finished with value: 0.29137188376644846 and parameters: {'boosting_type': 'rf', 'max_depth': 2, 'min_child_samples': 51, 'learning_rate': 0.2865521584158338, 'feature_fraction': 0.4, 'num_leaves': 140, 'bagging_freq': 1, 'bagging_fraction': 0.2, 'reg_alpha': 86.0, 'reg_lambda': 805}. Best is trial 46 with value: 0.2995396224114436.\u001b[0m\n",
      "[LightGBM] [Warning] feature_fraction is set=0.4, colsample_bytree=1.0 will be ignored. Current value: feature_fraction=0.4\n",
      "[LightGBM] [Warning] bagging_fraction is set=0.2, subsample=1.0 will be ignored. Current value: bagging_fraction=0.2\n",
      "[LightGBM] [Warning] bagging_freq is set=1, subsample_freq=0 will be ignored. Current value: bagging_freq=1\n"
     ]
    },
    {
     "name": "stderr",
     "output_type": "stream",
     "text": [
      " 74%|███████▍  | 74/100 [00:19<00:06,  4.05it/s]The distribution is specified by [0.2, 0.95] and q=0.1, but the range is not divisible by `q`. It will be replaced by [0.2, 0.9].\n",
      "'early_stopping_rounds' argument is deprecated and will be removed in a future release of LightGBM. Pass 'early_stopping()' callback via 'callbacks' argument instead.\n",
      "'verbose' argument is deprecated and will be removed in a future release of LightGBM. Pass 'log_evaluation()' callback via 'callbacks' argument instead.\n"
     ]
    },
    {
     "name": "stdout",
     "output_type": "stream",
     "text": [
      "\u001b[32m[I 2022-05-19 23:43:22,999]\u001b[0m Trial 73 finished with value: 0.28407000412339894 and parameters: {'boosting_type': 'rf', 'max_depth': 3, 'min_child_samples': 44, 'learning_rate': 0.2863871704589453, 'feature_fraction': 0.4, 'num_leaves': 560, 'bagging_freq': 1, 'bagging_fraction': 0.2, 'reg_alpha': 85.7, 'reg_lambda': 802}. Best is trial 46 with value: 0.2995396224114436.\u001b[0m\n",
      "[LightGBM] [Warning] feature_fraction is set=0.4, colsample_bytree=1.0 will be ignored. Current value: feature_fraction=0.4\n",
      "[LightGBM] [Warning] bagging_fraction is set=0.30000000000000004, subsample=1.0 will be ignored. Current value: bagging_fraction=0.30000000000000004\n",
      "[LightGBM] [Warning] bagging_freq is set=1, subsample_freq=0 will be ignored. Current value: bagging_freq=1\n"
     ]
    },
    {
     "name": "stderr",
     "output_type": "stream",
     "text": [
      " 75%|███████▌  | 75/100 [00:19<00:06,  4.09it/s]The distribution is specified by [0.2, 0.95] and q=0.1, but the range is not divisible by `q`. It will be replaced by [0.2, 0.9].\n",
      "'early_stopping_rounds' argument is deprecated and will be removed in a future release of LightGBM. Pass 'early_stopping()' callback via 'callbacks' argument instead.\n",
      "'verbose' argument is deprecated and will be removed in a future release of LightGBM. Pass 'log_evaluation()' callback via 'callbacks' argument instead.\n"
     ]
    },
    {
     "name": "stdout",
     "output_type": "stream",
     "text": [
      "\u001b[32m[I 2022-05-19 23:43:23,239]\u001b[0m Trial 74 finished with value: 0.2771590542316616 and parameters: {'boosting_type': 'rf', 'max_depth': 2, 'min_child_samples': 173, 'learning_rate': 0.27107630705889174, 'feature_fraction': 0.4, 'num_leaves': 80, 'bagging_freq': 1, 'bagging_fraction': 0.30000000000000004, 'reg_alpha': 79.4, 'reg_lambda': 854}. Best is trial 46 with value: 0.2995396224114436.\u001b[0m\n",
      "[LightGBM] [Warning] feature_fraction is set=0.4, colsample_bytree=1.0 will be ignored. Current value: feature_fraction=0.4\n",
      "[LightGBM] [Warning] bagging_fraction is set=0.2, subsample=1.0 will be ignored. Current value: bagging_fraction=0.2\n",
      "[LightGBM] [Warning] bagging_freq is set=1, subsample_freq=0 will be ignored. Current value: bagging_freq=1\n"
     ]
    },
    {
     "name": "stderr",
     "output_type": "stream",
     "text": [
      " 76%|███████▌  | 76/100 [00:19<00:05,  4.15it/s]The distribution is specified by [0.2, 0.95] and q=0.1, but the range is not divisible by `q`. It will be replaced by [0.2, 0.9].\n",
      "'early_stopping_rounds' argument is deprecated and will be removed in a future release of LightGBM. Pass 'early_stopping()' callback via 'callbacks' argument instead.\n",
      "'verbose' argument is deprecated and will be removed in a future release of LightGBM. Pass 'log_evaluation()' callback via 'callbacks' argument instead.\n"
     ]
    },
    {
     "name": "stdout",
     "output_type": "stream",
     "text": [
      "\u001b[32m[I 2022-05-19 23:43:23,472]\u001b[0m Trial 75 finished with value: 0.28287740723540766 and parameters: {'boosting_type': 'rf', 'max_depth': 4, 'min_child_samples': 273, 'learning_rate': 0.2915791503104311, 'feature_fraction': 0.4, 'num_leaves': 220, 'bagging_freq': 1, 'bagging_fraction': 0.2, 'reg_alpha': 90.4, 'reg_lambda': 776}. Best is trial 46 with value: 0.2995396224114436.\u001b[0m\n",
      "[LightGBM] [Warning] feature_fraction is set=0.4, colsample_bytree=1.0 will be ignored. Current value: feature_fraction=0.4\n",
      "[LightGBM] [Warning] bagging_fraction is set=0.30000000000000004, subsample=1.0 will be ignored. Current value: bagging_fraction=0.30000000000000004\n",
      "[LightGBM] [Warning] bagging_freq is set=1, subsample_freq=0 will be ignored. Current value: bagging_freq=1\n"
     ]
    },
    {
     "name": "stderr",
     "output_type": "stream",
     "text": [
      " 77%|███████▋  | 77/100 [00:19<00:05,  3.91it/s]The distribution is specified by [0.2, 0.95] and q=0.1, but the range is not divisible by `q`. It will be replaced by [0.2, 0.9].\n",
      "'early_stopping_rounds' argument is deprecated and will be removed in a future release of LightGBM. Pass 'early_stopping()' callback via 'callbacks' argument instead.\n",
      "'verbose' argument is deprecated and will be removed in a future release of LightGBM. Pass 'log_evaluation()' callback via 'callbacks' argument instead.\n"
     ]
    },
    {
     "name": "stdout",
     "output_type": "stream",
     "text": [
      "\u001b[32m[I 2022-05-19 23:43:23,760]\u001b[0m Trial 76 finished with value: 0.2723366583252598 and parameters: {'boosting_type': 'rf', 'max_depth': 3, 'min_child_samples': 117, 'learning_rate': 0.3261471390754463, 'feature_fraction': 0.4, 'num_leaves': 420, 'bagging_freq': 1, 'bagging_fraction': 0.30000000000000004, 'reg_alpha': 73.8, 'reg_lambda': 938}. Best is trial 46 with value: 0.2995396224114436.\u001b[0m\n",
      "[LightGBM] [Warning] feature_fraction is set=0.6000000000000001, colsample_bytree=1.0 will be ignored. Current value: feature_fraction=0.6000000000000001\n",
      "[LightGBM] [Warning] bagging_fraction is set=0.2, subsample=1.0 will be ignored. Current value: bagging_fraction=0.2\n",
      "[LightGBM] [Warning] bagging_freq is set=1, subsample_freq=0 will be ignored. Current value: bagging_freq=1\n"
     ]
    },
    {
     "name": "stderr",
     "output_type": "stream",
     "text": [
      " 78%|███████▊  | 78/100 [00:20<00:05,  3.86it/s]The distribution is specified by [0.2, 0.95] and q=0.1, but the range is not divisible by `q`. It will be replaced by [0.2, 0.9].\n",
      "'early_stopping_rounds' argument is deprecated and will be removed in a future release of LightGBM. Pass 'early_stopping()' callback via 'callbacks' argument instead.\n",
      "'verbose' argument is deprecated and will be removed in a future release of LightGBM. Pass 'log_evaluation()' callback via 'callbacks' argument instead.\n"
     ]
    },
    {
     "name": "stdout",
     "output_type": "stream",
     "text": [
      "\u001b[32m[I 2022-05-19 23:43:24,028]\u001b[0m Trial 77 finished with value: 0.29772692663653244 and parameters: {'boosting_type': 'rf', 'max_depth': 2, 'min_child_samples': 227, 'learning_rate': 0.44477348440577813, 'feature_fraction': 0.6000000000000001, 'num_leaves': 180, 'bagging_freq': 1, 'bagging_fraction': 0.2, 'reg_alpha': 86.2, 'reg_lambda': 892}. Best is trial 46 with value: 0.2995396224114436.\u001b[0m\n",
      "[LightGBM] [Warning] feature_fraction is set=0.6000000000000001, colsample_bytree=1.0 will be ignored. Current value: feature_fraction=0.6000000000000001\n",
      "[LightGBM] [Warning] bagging_fraction is set=0.30000000000000004, subsample=1.0 will be ignored. Current value: bagging_fraction=0.30000000000000004\n",
      "[LightGBM] [Warning] bagging_freq is set=1, subsample_freq=0 will be ignored. Current value: bagging_freq=1\n"
     ]
    },
    {
     "name": "stderr",
     "output_type": "stream",
     "text": [
      " 79%|███████▉  | 79/100 [00:20<00:05,  3.82it/s]The distribution is specified by [0.2, 0.95] and q=0.1, but the range is not divisible by `q`. It will be replaced by [0.2, 0.9].\n",
      "'early_stopping_rounds' argument is deprecated and will be removed in a future release of LightGBM. Pass 'early_stopping()' callback via 'callbacks' argument instead.\n",
      "'verbose' argument is deprecated and will be removed in a future release of LightGBM. Pass 'log_evaluation()' callback via 'callbacks' argument instead.\n"
     ]
    },
    {
     "name": "stdout",
     "output_type": "stream",
     "text": [
      "\u001b[32m[I 2022-05-19 23:43:24,297]\u001b[0m Trial 78 finished with value: 0.28117215851540994 and parameters: {'boosting_type': 'rf', 'max_depth': 2, 'min_child_samples': 491, 'learning_rate': 0.4959689217762922, 'feature_fraction': 0.6000000000000001, 'num_leaves': 180, 'bagging_freq': 1, 'bagging_fraction': 0.30000000000000004, 'reg_alpha': 77.60000000000001, 'reg_lambda': 897}. Best is trial 46 with value: 0.2995396224114436.\u001b[0m\n",
      "[LightGBM] [Warning] feature_fraction is set=0.7, colsample_bytree=1.0 will be ignored. Current value: feature_fraction=0.7\n",
      "[LightGBM] [Warning] bagging_fraction is set=0.2, subsample=1.0 will be ignored. Current value: bagging_fraction=0.2\n",
      "[LightGBM] [Warning] bagging_freq is set=1, subsample_freq=0 will be ignored. Current value: bagging_freq=1\n"
     ]
    },
    {
     "name": "stderr",
     "output_type": "stream",
     "text": [
      " 80%|████████  | 80/100 [00:20<00:05,  3.92it/s]The distribution is specified by [0.2, 0.95] and q=0.1, but the range is not divisible by `q`. It will be replaced by [0.2, 0.9].\n",
      "'early_stopping_rounds' argument is deprecated and will be removed in a future release of LightGBM. Pass 'early_stopping()' callback via 'callbacks' argument instead.\n",
      "'verbose' argument is deprecated and will be removed in a future release of LightGBM. Pass 'log_evaluation()' callback via 'callbacks' argument instead.\n",
      "Early stopping is not available in dart mode\n"
     ]
    },
    {
     "name": "stdout",
     "output_type": "stream",
     "text": [
      "\u001b[32m[I 2022-05-19 23:43:24,536]\u001b[0m Trial 79 finished with value: 0.2951660119546846 and parameters: {'boosting_type': 'rf', 'max_depth': 2, 'min_child_samples': 32, 'learning_rate': 0.46293117527727196, 'feature_fraction': 0.7, 'num_leaves': 360, 'bagging_freq': 1, 'bagging_fraction': 0.2, 'reg_alpha': 71.9, 'reg_lambda': 822}. Best is trial 46 with value: 0.2995396224114436.\u001b[0m\n",
      "[LightGBM] [Warning] feature_fraction is set=0.8, colsample_bytree=1.0 will be ignored. Current value: feature_fraction=0.8\n",
      "[LightGBM] [Warning] bagging_fraction is set=0.2, subsample=1.0 will be ignored. Current value: bagging_fraction=0.2\n",
      "[LightGBM] [Warning] bagging_freq is set=1, subsample_freq=0 will be ignored. Current value: bagging_freq=1\n"
     ]
    },
    {
     "name": "stderr",
     "output_type": "stream",
     "text": [
      " 81%|████████  | 81/100 [00:21<00:05,  3.38it/s]The distribution is specified by [0.2, 0.95] and q=0.1, but the range is not divisible by `q`. It will be replaced by [0.2, 0.9].\n",
      "'early_stopping_rounds' argument is deprecated and will be removed in a future release of LightGBM. Pass 'early_stopping()' callback via 'callbacks' argument instead.\n",
      "'verbose' argument is deprecated and will be removed in a future release of LightGBM. Pass 'log_evaluation()' callback via 'callbacks' argument instead.\n"
     ]
    },
    {
     "name": "stdout",
     "output_type": "stream",
     "text": [
      "\u001b[32m[I 2022-05-19 23:43:24,927]\u001b[0m Trial 80 finished with value: 0.157819476537929 and parameters: {'boosting_type': 'dart', 'max_depth': 3, 'min_child_samples': 369, 'learning_rate': 0.47007904947054396, 'feature_fraction': 0.8, 'num_leaves': 340, 'bagging_freq': 1, 'bagging_fraction': 0.2, 'reg_alpha': 82.0, 'reg_lambda': 831}. Best is trial 46 with value: 0.2995396224114436.\u001b[0m\n",
      "[LightGBM] [Warning] feature_fraction is set=0.7, colsample_bytree=1.0 will be ignored. Current value: feature_fraction=0.7\n",
      "[LightGBM] [Warning] bagging_fraction is set=0.2, subsample=1.0 will be ignored. Current value: bagging_fraction=0.2\n",
      "[LightGBM] [Warning] bagging_freq is set=1, subsample_freq=0 will be ignored. Current value: bagging_freq=1\n"
     ]
    },
    {
     "name": "stderr",
     "output_type": "stream",
     "text": [
      " 82%|████████▏ | 82/100 [00:21<00:05,  3.49it/s]The distribution is specified by [0.2, 0.95] and q=0.1, but the range is not divisible by `q`. It will be replaced by [0.2, 0.9].\n",
      "'early_stopping_rounds' argument is deprecated and will be removed in a future release of LightGBM. Pass 'early_stopping()' callback via 'callbacks' argument instead.\n",
      "'verbose' argument is deprecated and will be removed in a future release of LightGBM. Pass 'log_evaluation()' callback via 'callbacks' argument instead.\n"
     ]
    },
    {
     "name": "stdout",
     "output_type": "stream",
     "text": [
      "\u001b[32m[I 2022-05-19 23:43:25,191]\u001b[0m Trial 81 finished with value: 0.29508499191266047 and parameters: {'boosting_type': 'rf', 'max_depth': 2, 'min_child_samples': 30, 'learning_rate': 0.4611753344933207, 'feature_fraction': 0.7, 'num_leaves': 460, 'bagging_freq': 1, 'bagging_fraction': 0.2, 'reg_alpha': 71.8, 'reg_lambda': 809}. Best is trial 46 with value: 0.2995396224114436.\u001b[0m\n",
      "[LightGBM] [Warning] feature_fraction is set=0.7, colsample_bytree=1.0 will be ignored. Current value: feature_fraction=0.7\n",
      "[LightGBM] [Warning] bagging_fraction is set=0.2, subsample=1.0 will be ignored. Current value: bagging_fraction=0.2\n",
      "[LightGBM] [Warning] bagging_freq is set=1, subsample_freq=0 will be ignored. Current value: bagging_freq=1\n"
     ]
    },
    {
     "name": "stderr",
     "output_type": "stream",
     "text": [
      " 83%|████████▎ | 83/100 [00:21<00:04,  3.70it/s]The distribution is specified by [0.2, 0.95] and q=0.1, but the range is not divisible by `q`. It will be replaced by [0.2, 0.9].\n",
      "'early_stopping_rounds' argument is deprecated and will be removed in a future release of LightGBM. Pass 'early_stopping()' callback via 'callbacks' argument instead.\n",
      "'verbose' argument is deprecated and will be removed in a future release of LightGBM. Pass 'log_evaluation()' callback via 'callbacks' argument instead.\n"
     ]
    },
    {
     "name": "stdout",
     "output_type": "stream",
     "text": [
      "\u001b[32m[I 2022-05-19 23:43:25,424]\u001b[0m Trial 82 finished with value: 0.2952339598787213 and parameters: {'boosting_type': 'rf', 'max_depth': 2, 'min_child_samples': 6, 'learning_rate': 0.4740087029727104, 'feature_fraction': 0.7, 'num_leaves': 460, 'bagging_freq': 1, 'bagging_fraction': 0.2, 'reg_alpha': 74.3, 'reg_lambda': 819}. Best is trial 46 with value: 0.2995396224114436.\u001b[0m\n",
      "[LightGBM] [Warning] feature_fraction is set=0.7, colsample_bytree=1.0 will be ignored. Current value: feature_fraction=0.7\n",
      "[LightGBM] [Warning] bagging_fraction is set=0.2, subsample=1.0 will be ignored. Current value: bagging_fraction=0.2\n",
      "[LightGBM] [Warning] bagging_freq is set=1, subsample_freq=0 will be ignored. Current value: bagging_freq=1\n"
     ]
    },
    {
     "name": "stderr",
     "output_type": "stream",
     "text": [
      " 84%|████████▍ | 84/100 [00:21<00:04,  3.89it/s]The distribution is specified by [0.2, 0.95] and q=0.1, but the range is not divisible by `q`. It will be replaced by [0.2, 0.9].\n",
      "'early_stopping_rounds' argument is deprecated and will be removed in a future release of LightGBM. Pass 'early_stopping()' callback via 'callbacks' argument instead.\n",
      "'verbose' argument is deprecated and will be removed in a future release of LightGBM. Pass 'log_evaluation()' callback via 'callbacks' argument instead.\n"
     ]
    },
    {
     "name": "stdout",
     "output_type": "stream",
     "text": [
      "\u001b[32m[I 2022-05-19 23:43:25,649]\u001b[0m Trial 83 finished with value: 0.30011698000438936 and parameters: {'boosting_type': 'rf', 'max_depth': 2, 'min_child_samples': 3, 'learning_rate': 0.47790607537084295, 'feature_fraction': 0.7, 'num_leaves': 700, 'bagging_freq': 1, 'bagging_fraction': 0.2, 'reg_alpha': 70.7, 'reg_lambda': 943}. Best is trial 83 with value: 0.30011698000438936.\u001b[0m\n",
      "[LightGBM] [Warning] feature_fraction is set=0.7, colsample_bytree=1.0 will be ignored. Current value: feature_fraction=0.7\n",
      "[LightGBM] [Warning] bagging_fraction is set=0.30000000000000004, subsample=1.0 will be ignored. Current value: bagging_fraction=0.30000000000000004\n",
      "[LightGBM] [Warning] bagging_freq is set=1, subsample_freq=0 will be ignored. Current value: bagging_freq=1\n"
     ]
    },
    {
     "name": "stderr",
     "output_type": "stream",
     "text": [
      " 85%|████████▌ | 85/100 [00:22<00:03,  3.99it/s]The distribution is specified by [0.2, 0.95] and q=0.1, but the range is not divisible by `q`. It will be replaced by [0.2, 0.9].\n",
      "'early_stopping_rounds' argument is deprecated and will be removed in a future release of LightGBM. Pass 'early_stopping()' callback via 'callbacks' argument instead.\n",
      "'verbose' argument is deprecated and will be removed in a future release of LightGBM. Pass 'log_evaluation()' callback via 'callbacks' argument instead.\n"
     ]
    },
    {
     "name": "stdout",
     "output_type": "stream",
     "text": [
      "\u001b[32m[I 2022-05-19 23:43:25,884]\u001b[0m Trial 84 finished with value: 0.2834849228001939 and parameters: {'boosting_type': 'rf', 'max_depth': 2, 'min_child_samples': 5, 'learning_rate': 0.4680174455847037, 'feature_fraction': 0.7, 'num_leaves': 620, 'bagging_freq': 1, 'bagging_fraction': 0.30000000000000004, 'reg_alpha': 72.0, 'reg_lambda': 905}. Best is trial 83 with value: 0.30011698000438936.\u001b[0m\n",
      "[LightGBM] [Warning] feature_fraction is set=0.7, colsample_bytree=1.0 will be ignored. Current value: feature_fraction=0.7\n",
      "[LightGBM] [Warning] bagging_fraction is set=0.2, subsample=1.0 will be ignored. Current value: bagging_fraction=0.2\n",
      "[LightGBM] [Warning] bagging_freq is set=1, subsample_freq=0 will be ignored. Current value: bagging_freq=1\n"
     ]
    },
    {
     "name": "stderr",
     "output_type": "stream",
     "text": [
      " 86%|████████▌ | 86/100 [00:22<00:03,  4.24it/s]The distribution is specified by [0.2, 0.95] and q=0.1, but the range is not divisible by `q`. It will be replaced by [0.2, 0.9].\n",
      "'early_stopping_rounds' argument is deprecated and will be removed in a future release of LightGBM. Pass 'early_stopping()' callback via 'callbacks' argument instead.\n",
      "'verbose' argument is deprecated and will be removed in a future release of LightGBM. Pass 'log_evaluation()' callback via 'callbacks' argument instead.\n"
     ]
    },
    {
     "name": "stdout",
     "output_type": "stream",
     "text": [
      "\u001b[32m[I 2022-05-19 23:43:26,086]\u001b[0m Trial 85 finished with value: 0.30060721532356 and parameters: {'boosting_type': 'rf', 'max_depth': 2, 'min_child_samples': 30, 'learning_rate': 0.4779390087933934, 'feature_fraction': 0.7, 'num_leaves': 760, 'bagging_freq': 1, 'bagging_fraction': 0.2, 'reg_alpha': 70.9, 'reg_lambda': 954}. Best is trial 85 with value: 0.30060721532356.\u001b[0m\n",
      "[LightGBM] [Warning] feature_fraction is set=0.7, colsample_bytree=1.0 will be ignored. Current value: feature_fraction=0.7\n",
      "[LightGBM] [Warning] bagging_fraction is set=0.2, subsample=1.0 will be ignored. Current value: bagging_fraction=0.2\n",
      "[LightGBM] [Warning] bagging_freq is set=1, subsample_freq=0 will be ignored. Current value: bagging_freq=1\n"
     ]
    },
    {
     "name": "stderr",
     "output_type": "stream",
     "text": [
      " 87%|████████▋ | 87/100 [00:22<00:02,  4.39it/s]The distribution is specified by [0.2, 0.95] and q=0.1, but the range is not divisible by `q`. It will be replaced by [0.2, 0.9].\n",
      "'early_stopping_rounds' argument is deprecated and will be removed in a future release of LightGBM. Pass 'early_stopping()' callback via 'callbacks' argument instead.\n",
      "'verbose' argument is deprecated and will be removed in a future release of LightGBM. Pass 'log_evaluation()' callback via 'callbacks' argument instead.\n"
     ]
    },
    {
     "name": "stdout",
     "output_type": "stream",
     "text": [
      "\u001b[32m[I 2022-05-19 23:43:26,295]\u001b[0m Trial 86 finished with value: 0.2913789117222521 and parameters: {'boosting_type': 'rf', 'max_depth': 3, 'min_child_samples': 81, 'learning_rate': 0.44081872427996893, 'feature_fraction': 0.7, 'num_leaves': 820, 'bagging_freq': 1, 'bagging_fraction': 0.2, 'reg_alpha': 59.6, 'reg_lambda': 941}. Best is trial 85 with value: 0.30060721532356.\u001b[0m\n",
      "[LightGBM] [Warning] feature_fraction is set=0.8, colsample_bytree=1.0 will be ignored. Current value: feature_fraction=0.8\n",
      "[LightGBM] [Warning] bagging_fraction is set=0.30000000000000004, subsample=1.0 will be ignored. Current value: bagging_fraction=0.30000000000000004\n",
      "[LightGBM] [Warning] bagging_freq is set=1, subsample_freq=0 will be ignored. Current value: bagging_freq=1\n"
     ]
    },
    {
     "name": "stderr",
     "output_type": "stream",
     "text": [
      " 88%|████████▊ | 88/100 [00:22<00:02,  4.52it/s]The distribution is specified by [0.2, 0.95] and q=0.1, but the range is not divisible by `q`. It will be replaced by [0.2, 0.9].\n",
      "'early_stopping_rounds' argument is deprecated and will be removed in a future release of LightGBM. Pass 'early_stopping()' callback via 'callbacks' argument instead.\n",
      "'verbose' argument is deprecated and will be removed in a future release of LightGBM. Pass 'log_evaluation()' callback via 'callbacks' argument instead.\n"
     ]
    },
    {
     "name": "stdout",
     "output_type": "stream",
     "text": [
      "\u001b[32m[I 2022-05-19 23:43:26,502]\u001b[0m Trial 87 finished with value: 0.2883371093387868 and parameters: {'boosting_type': 'rf', 'max_depth': 2, 'min_child_samples': 18, 'learning_rate': 0.4786466219330416, 'feature_fraction': 0.8, 'num_leaves': 1000, 'bagging_freq': 1, 'bagging_fraction': 0.30000000000000004, 'reg_alpha': 69.2, 'reg_lambda': 970}. Best is trial 85 with value: 0.30060721532356.\u001b[0m\n",
      "[LightGBM] [Warning] feature_fraction is set=0.7, colsample_bytree=1.0 will be ignored. Current value: feature_fraction=0.7\n",
      "[LightGBM] [Warning] bagging_fraction is set=0.2, subsample=1.0 will be ignored. Current value: bagging_fraction=0.2\n",
      "[LightGBM] [Warning] bagging_freq is set=1, subsample_freq=0 will be ignored. Current value: bagging_freq=1\n"
     ]
    },
    {
     "name": "stderr",
     "output_type": "stream",
     "text": [
      " 89%|████████▉ | 89/100 [00:22<00:02,  4.48it/s]The distribution is specified by [0.2, 0.95] and q=0.1, but the range is not divisible by `q`. It will be replaced by [0.2, 0.9].\n",
      "'early_stopping_rounds' argument is deprecated and will be removed in a future release of LightGBM. Pass 'early_stopping()' callback via 'callbacks' argument instead.\n",
      "'verbose' argument is deprecated and will be removed in a future release of LightGBM. Pass 'log_evaluation()' callback via 'callbacks' argument instead.\n"
     ]
    },
    {
     "name": "stdout",
     "output_type": "stream",
     "text": [
      "\u001b[32m[I 2022-05-19 23:43:26,729]\u001b[0m Trial 88 finished with value: 0.29138225840513926 and parameters: {'boosting_type': 'rf', 'max_depth': 9, 'min_child_samples': 28, 'learning_rate': 0.4831008732149873, 'feature_fraction': 0.7, 'num_leaves': 480, 'bagging_freq': 1, 'bagging_fraction': 0.2, 'reg_alpha': 68.8, 'reg_lambda': 944}. Best is trial 85 with value: 0.30060721532356.\u001b[0m\n",
      "[LightGBM] [Warning] feature_fraction is set=0.7, colsample_bytree=1.0 will be ignored. Current value: feature_fraction=0.7\n",
      "[LightGBM] [Warning] bagging_fraction is set=0.30000000000000004, subsample=1.0 will be ignored. Current value: bagging_fraction=0.30000000000000004\n",
      "[LightGBM] [Warning] bagging_freq is set=1, subsample_freq=0 will be ignored. Current value: bagging_freq=1\n"
     ]
    },
    {
     "name": "stderr",
     "output_type": "stream",
     "text": [
      " 90%|█████████ | 90/100 [00:23<00:02,  4.08it/s]The distribution is specified by [0.2, 0.95] and q=0.1, but the range is not divisible by `q`. It will be replaced by [0.2, 0.9].\n",
      "'early_stopping_rounds' argument is deprecated and will be removed in a future release of LightGBM. Pass 'early_stopping()' callback via 'callbacks' argument instead.\n",
      "'verbose' argument is deprecated and will be removed in a future release of LightGBM. Pass 'log_evaluation()' callback via 'callbacks' argument instead.\n"
     ]
    },
    {
     "name": "stdout",
     "output_type": "stream",
     "text": [
      "\u001b[32m[I 2022-05-19 23:43:27,024]\u001b[0m Trial 89 finished with value: 0.15449606229218193 and parameters: {'boosting_type': 'gbdt', 'max_depth': 3, 'min_child_samples': 2, 'learning_rate': 0.4572163899040576, 'feature_fraction': 0.7, 'num_leaves': 700, 'bagging_freq': 1, 'bagging_fraction': 0.30000000000000004, 'reg_alpha': 75.7, 'reg_lambda': 866}. Best is trial 85 with value: 0.30060721532356.\u001b[0m\n",
      "[LightGBM] [Warning] feature_fraction is set=0.8, colsample_bytree=1.0 will be ignored. Current value: feature_fraction=0.8\n",
      "[LightGBM] [Warning] bagging_fraction is set=0.2, subsample=1.0 will be ignored. Current value: bagging_fraction=0.2\n",
      "[LightGBM] [Warning] bagging_freq is set=1, subsample_freq=0 will be ignored. Current value: bagging_freq=1\n"
     ]
    },
    {
     "name": "stderr",
     "output_type": "stream",
     "text": [
      " 91%|█████████ | 91/100 [00:23<00:02,  4.09it/s]The distribution is specified by [0.2, 0.95] and q=0.1, but the range is not divisible by `q`. It will be replaced by [0.2, 0.9].\n",
      "'early_stopping_rounds' argument is deprecated and will be removed in a future release of LightGBM. Pass 'early_stopping()' callback via 'callbacks' argument instead.\n",
      "'verbose' argument is deprecated and will be removed in a future release of LightGBM. Pass 'log_evaluation()' callback via 'callbacks' argument instead.\n"
     ]
    },
    {
     "name": "stdout",
     "output_type": "stream",
     "text": [
      "\u001b[32m[I 2022-05-19 23:43:27,269]\u001b[0m Trial 90 finished with value: 0.3034787941717231 and parameters: {'boosting_type': 'rf', 'max_depth': 2, 'min_child_samples': 38, 'learning_rate': 0.4354651331323336, 'feature_fraction': 0.8, 'num_leaves': 480, 'bagging_freq': 1, 'bagging_fraction': 0.2, 'reg_alpha': 67.10000000000001, 'reg_lambda': 980}. Best is trial 90 with value: 0.3034787941717231.\u001b[0m\n",
      "[LightGBM] [Warning] feature_fraction is set=0.8, colsample_bytree=1.0 will be ignored. Current value: feature_fraction=0.8\n",
      "[LightGBM] [Warning] bagging_fraction is set=0.2, subsample=1.0 will be ignored. Current value: bagging_fraction=0.2\n",
      "[LightGBM] [Warning] bagging_freq is set=1, subsample_freq=0 will be ignored. Current value: bagging_freq=1\n"
     ]
    },
    {
     "name": "stderr",
     "output_type": "stream",
     "text": [
      " 92%|█████████▏| 92/100 [00:23<00:01,  4.31it/s]The distribution is specified by [0.2, 0.95] and q=0.1, but the range is not divisible by `q`. It will be replaced by [0.2, 0.9].\n",
      "'early_stopping_rounds' argument is deprecated and will be removed in a future release of LightGBM. Pass 'early_stopping()' callback via 'callbacks' argument instead.\n",
      "'verbose' argument is deprecated and will be removed in a future release of LightGBM. Pass 'log_evaluation()' callback via 'callbacks' argument instead.\n"
     ]
    },
    {
     "name": "stdout",
     "output_type": "stream",
     "text": [
      "\u001b[32m[I 2022-05-19 23:43:27,473]\u001b[0m Trial 91 finished with value: 0.3040609091371387 and parameters: {'boosting_type': 'rf', 'max_depth': 2, 'min_child_samples': 31, 'learning_rate': 0.43561257553133287, 'feature_fraction': 0.8, 'num_leaves': 500, 'bagging_freq': 1, 'bagging_fraction': 0.2, 'reg_alpha': 64.8, 'reg_lambda': 986}. Best is trial 91 with value: 0.3040609091371387.\u001b[0m\n",
      "[LightGBM] [Warning] feature_fraction is set=0.8, colsample_bytree=1.0 will be ignored. Current value: feature_fraction=0.8\n",
      "[LightGBM] [Warning] bagging_fraction is set=0.2, subsample=1.0 will be ignored. Current value: bagging_fraction=0.2\n",
      "[LightGBM] [Warning] bagging_freq is set=1, subsample_freq=0 will be ignored. Current value: bagging_freq=1\n"
     ]
    },
    {
     "name": "stderr",
     "output_type": "stream",
     "text": [
      " 93%|█████████▎| 93/100 [00:23<00:01,  4.31it/s]The distribution is specified by [0.2, 0.95] and q=0.1, but the range is not divisible by `q`. It will be replaced by [0.2, 0.9].\n",
      "'early_stopping_rounds' argument is deprecated and will be removed in a future release of LightGBM. Pass 'early_stopping()' callback via 'callbacks' argument instead.\n",
      "'verbose' argument is deprecated and will be removed in a future release of LightGBM. Pass 'log_evaluation()' callback via 'callbacks' argument instead.\n"
     ]
    },
    {
     "name": "stdout",
     "output_type": "stream",
     "text": [
      "\u001b[32m[I 2022-05-19 23:43:27,704]\u001b[0m Trial 92 finished with value: 0.30346824163874603 and parameters: {'boosting_type': 'rf', 'max_depth': 2, 'min_child_samples': 77, 'learning_rate': 0.4282735415630005, 'feature_fraction': 0.8, 'num_leaves': 540, 'bagging_freq': 1, 'bagging_fraction': 0.2, 'reg_alpha': 64.10000000000001, 'reg_lambda': 984}. Best is trial 91 with value: 0.3040609091371387.\u001b[0m\n",
      "[LightGBM] [Warning] feature_fraction is set=0.9, colsample_bytree=1.0 will be ignored. Current value: feature_fraction=0.9\n",
      "[LightGBM] [Warning] bagging_fraction is set=0.2, subsample=1.0 will be ignored. Current value: bagging_fraction=0.2\n",
      "[LightGBM] [Warning] bagging_freq is set=1, subsample_freq=0 will be ignored. Current value: bagging_freq=1\n"
     ]
    },
    {
     "name": "stderr",
     "output_type": "stream",
     "text": [
      " 94%|█████████▍| 94/100 [00:24<00:01,  4.32it/s]The distribution is specified by [0.2, 0.95] and q=0.1, but the range is not divisible by `q`. It will be replaced by [0.2, 0.9].\n",
      "'early_stopping_rounds' argument is deprecated and will be removed in a future release of LightGBM. Pass 'early_stopping()' callback via 'callbacks' argument instead.\n",
      "'verbose' argument is deprecated and will be removed in a future release of LightGBM. Pass 'log_evaluation()' callback via 'callbacks' argument instead.\n"
     ]
    },
    {
     "name": "stdout",
     "output_type": "stream",
     "text": [
      "\u001b[32m[I 2022-05-19 23:43:27,934]\u001b[0m Trial 93 finished with value: 0.30486816466592226 and parameters: {'boosting_type': 'rf', 'max_depth': 2, 'min_child_samples': 74, 'learning_rate': 0.4319464280296327, 'feature_fraction': 0.9, 'num_leaves': 680, 'bagging_freq': 1, 'bagging_fraction': 0.2, 'reg_alpha': 63.5, 'reg_lambda': 985}. Best is trial 93 with value: 0.30486816466592226.\u001b[0m\n",
      "[LightGBM] [Warning] feature_fraction is set=0.9, colsample_bytree=1.0 will be ignored. Current value: feature_fraction=0.9\n",
      "[LightGBM] [Warning] bagging_fraction is set=0.2, subsample=1.0 will be ignored. Current value: bagging_fraction=0.2\n",
      "[LightGBM] [Warning] bagging_freq is set=1, subsample_freq=0 will be ignored. Current value: bagging_freq=1\n"
     ]
    },
    {
     "name": "stderr",
     "output_type": "stream",
     "text": [
      " 95%|█████████▌| 95/100 [00:24<00:01,  4.10it/s]The distribution is specified by [0.2, 0.95] and q=0.1, but the range is not divisible by `q`. It will be replaced by [0.2, 0.9].\n",
      "'early_stopping_rounds' argument is deprecated and will be removed in a future release of LightGBM. Pass 'early_stopping()' callback via 'callbacks' argument instead.\n",
      "'verbose' argument is deprecated and will be removed in a future release of LightGBM. Pass 'log_evaluation()' callback via 'callbacks' argument instead.\n"
     ]
    },
    {
     "name": "stdout",
     "output_type": "stream",
     "text": [
      "\u001b[32m[I 2022-05-19 23:43:28,206]\u001b[0m Trial 94 finished with value: 0.30423017183908985 and parameters: {'boosting_type': 'rf', 'max_depth': 2, 'min_child_samples': 77, 'learning_rate': 0.4328071190146361, 'feature_fraction': 0.9, 'num_leaves': 700, 'bagging_freq': 1, 'bagging_fraction': 0.2, 'reg_alpha': 57.1, 'reg_lambda': 985}. Best is trial 93 with value: 0.30486816466592226.\u001b[0m\n",
      "[LightGBM] [Warning] feature_fraction is set=0.9, colsample_bytree=1.0 will be ignored. Current value: feature_fraction=0.9\n",
      "[LightGBM] [Warning] bagging_fraction is set=0.2, subsample=1.0 will be ignored. Current value: bagging_fraction=0.2\n",
      "[LightGBM] [Warning] bagging_freq is set=1, subsample_freq=0 will be ignored. Current value: bagging_freq=1\n"
     ]
    },
    {
     "name": "stderr",
     "output_type": "stream",
     "text": [
      " 96%|█████████▌| 96/100 [00:24<00:01,  3.95it/s]The distribution is specified by [0.2, 0.95] and q=0.1, but the range is not divisible by `q`. It will be replaced by [0.2, 0.9].\n",
      "'early_stopping_rounds' argument is deprecated and will be removed in a future release of LightGBM. Pass 'early_stopping()' callback via 'callbacks' argument instead.\n",
      "'verbose' argument is deprecated and will be removed in a future release of LightGBM. Pass 'log_evaluation()' callback via 'callbacks' argument instead.\n"
     ]
    },
    {
     "name": "stdout",
     "output_type": "stream",
     "text": [
      "\u001b[32m[I 2022-05-19 23:43:28,482]\u001b[0m Trial 95 finished with value: 0.29483337022145745 and parameters: {'boosting_type': 'rf', 'max_depth': 3, 'min_child_samples': 89, 'learning_rate': 0.44299809913661803, 'feature_fraction': 0.9, 'num_leaves': 880, 'bagging_freq': 1, 'bagging_fraction': 0.2, 'reg_alpha': 56.900000000000006, 'reg_lambda': 981}. Best is trial 93 with value: 0.30486816466592226.\u001b[0m\n",
      "[LightGBM] [Warning] feature_fraction is set=0.9, colsample_bytree=1.0 will be ignored. Current value: feature_fraction=0.9\n",
      "[LightGBM] [Warning] bagging_fraction is set=0.2, subsample=1.0 will be ignored. Current value: bagging_fraction=0.2\n",
      "[LightGBM] [Warning] bagging_freq is set=1, subsample_freq=0 will be ignored. Current value: bagging_freq=1\n"
     ]
    },
    {
     "name": "stderr",
     "output_type": "stream",
     "text": [
      " 97%|█████████▋| 97/100 [00:24<00:00,  4.18it/s]The distribution is specified by [0.2, 0.95] and q=0.1, but the range is not divisible by `q`. It will be replaced by [0.2, 0.9].\n",
      "'early_stopping_rounds' argument is deprecated and will be removed in a future release of LightGBM. Pass 'early_stopping()' callback via 'callbacks' argument instead.\n",
      "'verbose' argument is deprecated and will be removed in a future release of LightGBM. Pass 'log_evaluation()' callback via 'callbacks' argument instead.\n"
     ]
    },
    {
     "name": "stdout",
     "output_type": "stream",
     "text": [
      "\u001b[32m[I 2022-05-19 23:43:28,689]\u001b[0m Trial 96 finished with value: 0.30441102370035517 and parameters: {'boosting_type': 'rf', 'max_depth': 2, 'min_child_samples': 74, 'learning_rate': 0.4211905283295551, 'feature_fraction': 0.9, 'num_leaves': 720, 'bagging_freq': 1, 'bagging_fraction': 0.2, 'reg_alpha': 59.7, 'reg_lambda': 986}. Best is trial 93 with value: 0.30486816466592226.\u001b[0m\n",
      "[LightGBM] [Warning] feature_fraction is set=0.9, colsample_bytree=1.0 will be ignored. Current value: feature_fraction=0.9\n",
      "[LightGBM] [Warning] bagging_fraction is set=0.30000000000000004, subsample=1.0 will be ignored. Current value: bagging_fraction=0.30000000000000004\n",
      "[LightGBM] [Warning] bagging_freq is set=1, subsample_freq=0 will be ignored. Current value: bagging_freq=1\n"
     ]
    },
    {
     "name": "stderr",
     "output_type": "stream",
     "text": [
      " 98%|█████████▊| 98/100 [00:25<00:00,  4.19it/s]The distribution is specified by [0.2, 0.95] and q=0.1, but the range is not divisible by `q`. It will be replaced by [0.2, 0.9].\n",
      "'early_stopping_rounds' argument is deprecated and will be removed in a future release of LightGBM. Pass 'early_stopping()' callback via 'callbacks' argument instead.\n",
      "'verbose' argument is deprecated and will be removed in a future release of LightGBM. Pass 'log_evaluation()' callback via 'callbacks' argument instead.\n",
      "Early stopping is not available in dart mode\n"
     ]
    },
    {
     "name": "stdout",
     "output_type": "stream",
     "text": [
      "\u001b[32m[I 2022-05-19 23:43:28,926]\u001b[0m Trial 97 finished with value: 0.2743387613090574 and parameters: {'boosting_type': 'rf', 'max_depth': 3, 'min_child_samples': 71, 'learning_rate': 0.4287051193398269, 'feature_fraction': 0.9, 'num_leaves': 740, 'bagging_freq': 1, 'bagging_fraction': 0.30000000000000004, 'reg_alpha': 53.6, 'reg_lambda': 972}. Best is trial 93 with value: 0.30486816466592226.\u001b[0m\n",
      "[LightGBM] [Warning] feature_fraction is set=0.8, colsample_bytree=1.0 will be ignored. Current value: feature_fraction=0.8\n",
      "[LightGBM] [Warning] bagging_fraction is set=0.2, subsample=1.0 will be ignored. Current value: bagging_fraction=0.2\n",
      "[LightGBM] [Warning] bagging_freq is set=1, subsample_freq=0 will be ignored. Current value: bagging_freq=1\n"
     ]
    },
    {
     "name": "stderr",
     "output_type": "stream",
     "text": [
      " 99%|█████████▉| 99/100 [00:25<00:00,  3.61it/s]The distribution is specified by [0.2, 0.95] and q=0.1, but the range is not divisible by `q`. It will be replaced by [0.2, 0.9].\n",
      "'early_stopping_rounds' argument is deprecated and will be removed in a future release of LightGBM. Pass 'early_stopping()' callback via 'callbacks' argument instead.\n",
      "'verbose' argument is deprecated and will be removed in a future release of LightGBM. Pass 'log_evaluation()' callback via 'callbacks' argument instead.\n"
     ]
    },
    {
     "name": "stdout",
     "output_type": "stream",
     "text": [
      "\u001b[32m[I 2022-05-19 23:43:29,292]\u001b[0m Trial 98 finished with value: 0.15738991406650638 and parameters: {'boosting_type': 'dart', 'max_depth': 2, 'min_child_samples': 53, 'learning_rate': 0.4305802593374367, 'feature_fraction': 0.8, 'num_leaves': 620, 'bagging_freq': 1, 'bagging_fraction': 0.2, 'reg_alpha': 48.5, 'reg_lambda': 999}. Best is trial 93 with value: 0.30486816466592226.\u001b[0m\n",
      "[LightGBM] [Warning] feature_fraction is set=0.9, colsample_bytree=1.0 will be ignored. Current value: feature_fraction=0.9\n",
      "[LightGBM] [Warning] bagging_fraction is set=0.30000000000000004, subsample=1.0 will be ignored. Current value: bagging_fraction=0.30000000000000004\n",
      "[LightGBM] [Warning] bagging_freq is set=1, subsample_freq=0 will be ignored. Current value: bagging_freq=1\n"
     ]
    },
    {
     "name": "stderr",
     "output_type": "stream",
     "text": [
      "100%|██████████| 100/100 [00:25<00:00,  3.90it/s]"
     ]
    },
    {
     "name": "stdout",
     "output_type": "stream",
     "text": [
      "\u001b[32m[I 2022-05-19 23:43:29,502]\u001b[0m Trial 99 finished with value: 0.28912059581752136 and parameters: {'boosting_type': 'rf', 'max_depth': 2, 'min_child_samples': 129, 'learning_rate': 0.48466631065504984, 'feature_fraction': 0.9, 'num_leaves': 820, 'bagging_freq': 1, 'bagging_fraction': 0.30000000000000004, 'reg_alpha': 59.5, 'reg_lambda': 958}. Best is trial 93 with value: 0.30486816466592226.\u001b[0m\n"
     ]
    },
    {
     "name": "stderr",
     "output_type": "stream",
     "text": [
      "\n"
     ]
    },
    {
     "data": {
      "text/plain": [
       "{'boosting_type': 'rf',\n",
       " 'max_depth': 2,\n",
       " 'min_child_samples': 74,\n",
       " 'learning_rate': 0.4319464280296327,\n",
       " 'feature_fraction': 0.9,\n",
       " 'num_leaves': 680,\n",
       " 'bagging_freq': 1,\n",
       " 'bagging_fraction': 0.2,\n",
       " 'reg_alpha': 63.5,\n",
       " 'reg_lambda': 985}"
      ]
     },
     "execution_count": 165,
     "metadata": {},
     "output_type": "execute_result"
    }
   ],
   "source": [
    "from lightgbm import LGBMRegressor\n",
    "# predict\n",
    "\n",
    "# optimize hyperparameters of lgb\n",
    "\n",
    "def objective_lgb(trial):\n",
    "\n",
    "    X_lgb_train, X_lgb_test, y_lgb_train, y_lgb_test = train_test_split(X_lgb, y, test_size=0.2, random_state=42)\n",
    "    train_data = lgb.Dataset(X_lgb_train, label=y_lgb_train)\n",
    "    valid_data = lgb.Dataset(X_lgb_test, label=y_lgb_test)\n",
    "    \n",
    "    boosting_types = [\"gbdt\", \"rf\", \"dart\"]\n",
    "    boosting_type = trial.suggest_categorical(\"boosting_type\", boosting_types)\n",
    "\n",
    "    params = {\n",
    "        'objective': 'regression',\n",
    "        'boosting_type': trial.suggest_categorical(\"boosting_type\", [\"gbdt\", \"rf\", \"dart\"]),\n",
    "        'max_depth': trial.suggest_int('max_depth', 2, 12),\n",
    "        'min_child_samples': trial.suggest_int('min_child_samples', 0, 1000),\n",
    "        'metric': 'mae',\n",
    "        'learning_rate': trial.suggest_float('learning_rate', 0.01, 0.5),\n",
    "        'feature_fraction': trial.suggest_float('feature_fraction', 0.2, 0.95, step=0.1),\n",
    "        'num_leaves': trial.suggest_int('num_leaves', 20, 3000, step=20),\n",
    "        'bagging_freq': trial.suggest_categorical('bagging_freq', [1]),\n",
    "        'bagging_fraction': trial.suggest_float('bagging_fraction', 0.2, 0.95, step=0.1),\n",
    "        'reg_alpha': trial.suggest_float(\"reg_alpha\", 0, 100, step=0.1),\n",
    "        'reg_lambda': trial.suggest_int(\"reg_lambda\", 0, 1000, step=1),\n",
    "        'verbosity': -1,\n",
    "    }\n",
    "\n",
    "    lgbm = LGBMRegressor(**params)\n",
    "    lgbm.fit(X_lgb_train, y_lgb_train, eval_set=[(X_lgb_test, y_lgb_test)],early_stopping_rounds=100, verbose=False)\n",
    "    pred_lgb=lgbm.predict(X_lgb_test)\n",
    "    mae = mean_absolute_error(y_lgb_test, pred_lgb)\n",
    "    return mae\n",
    "\n",
    "\n",
    "study = optuna.create_study(\n",
    "    direction=\"maximize\",\n",
    "    sampler=TPESampler(seed=42),\n",
    "    pruner=MedianPruner(n_warmup_steps=50),\n",
    ") \n",
    "\n",
    "study.optimize(objective_lgb, n_trials=100, show_progress_bar=True)\n",
    "\n",
    "study.best_trial.params"
   ]
  },
  {
   "cell_type": "code",
   "execution_count": 173,
   "metadata": {},
   "outputs": [
    {
     "name": "stdout",
     "output_type": "stream",
     "text": [
      "[LightGBM] [Warning] feature_fraction is set=0.9, colsample_bytree=1.0 will be ignored. Current value: feature_fraction=0.9\n",
      "[LightGBM] [Warning] bagging_fraction is set=0.2, subsample=1.0 will be ignored. Current value: bagging_fraction=0.2\n",
      "[LightGBM] [Warning] bagging_freq is set=1, subsample_freq=0 will be ignored. Current value: bagging_freq=1\n"
     ]
    },
    {
     "name": "stderr",
     "output_type": "stream",
     "text": [
      "'early_stopping_rounds' argument is deprecated and will be removed in a future release of LightGBM. Pass 'early_stopping()' callback via 'callbacks' argument instead.\n",
      "'verbose' argument is deprecated and will be removed in a future release of LightGBM. Pass 'log_evaluation()' callback via 'callbacks' argument instead.\n"
     ]
    },
    {
     "data": {
      "text/plain": [
       "0.30486816466592226"
      ]
     },
     "execution_count": 173,
     "metadata": {},
     "output_type": "execute_result"
    }
   ],
   "source": [
    "def optimized_lgb():\n",
    "    X_lgb_train, X_lgb_test, y_lgb_train, y_lgb_test = train_test_split(X_lgb, y, test_size=0.2, random_state=42)\n",
    "    train_data = lgb.Dataset(X_lgb_train, label=y_lgb_train)\n",
    "    valid_data = lgb.Dataset(X_lgb_test, label=y_lgb_test)\n",
    "\n",
    "    params = {\n",
    "        'objective': 'regression',\n",
    "        'metric': 'mae',\n",
    "        'boosting_type': 'rf',\n",
    "        'max_depth': 2,\n",
    "        'min_child_samples': 74,\n",
    "        'learning_rate': 0.4319464280296327,\n",
    "        'feature_fraction': 0.9,\n",
    "        'num_leaves': 680,\n",
    "        'bagging_freq': 1,\n",
    "        'bagging_fraction': 0.2,\n",
    "        'reg_alpha': 63.5,\n",
    "        'reg_lambda': 985,\n",
    "        'verbosity': -1,\n",
    "    }\n",
    "\n",
    "    lgbm = LGBMRegressor(**params)\n",
    "    lgbm.fit(X_lgb_train, y_lgb_train, eval_set=[(X_lgb_test, y_lgb_test)],early_stopping_rounds=100, verbose=False)\n",
    "    pred_lgb=lgbm.predict(X_lgb_test)\n",
    "    mae = mean_absolute_error(y_lgb_test, pred_lgb)\n",
    "    # y_pred = np.around(lgbm.predict(X_lgb_test.values))\n",
    "    # acc = accuracy_score(y_pred, y)\n",
    "    return mae\n",
    "\n",
    "optimized_lgb()"
   ]
  }
 ],
 "metadata": {
  "interpreter": {
   "hash": "4e3119b6b440005e83014445b502bc062a01c9850f9c4ea1b0d68db6d948f423"
  },
  "kernelspec": {
   "display_name": "Python 3.9.7 ('base')",
   "language": "python",
   "name": "python3"
  },
  "language_info": {
   "codemirror_mode": {
    "name": "ipython",
    "version": 3
   },
   "file_extension": ".py",
   "mimetype": "text/x-python",
   "name": "python",
   "nbconvert_exporter": "python",
   "pygments_lexer": "ipython3",
   "version": "3.9.7"
  },
  "orig_nbformat": 4
 },
 "nbformat": 4,
 "nbformat_minor": 2
}
