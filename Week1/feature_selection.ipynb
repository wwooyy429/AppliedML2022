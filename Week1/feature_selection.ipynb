{
 "cells": [
  {
   "cell_type": "code",
   "execution_count": 109,
   "metadata": {},
   "outputs": [],
   "source": [
    "import pandas as pd\n",
    "import matplotlib.pyplot as plt\n",
    "from sklearn import tree\n",
    "from sklearn.datasets import make_moons\n",
    "from sklearn.tree import DecisionTreeClassifier, plot_tree\n",
    "from sklearn.metrics import accuracy_score\n",
    "import numpy as np\n",
    "from sklearn.model_selection import train_test_split, GridSearchCV, RandomizedSearchCV"
   ]
  },
  {
   "cell_type": "code",
   "execution_count": 119,
   "metadata": {},
   "outputs": [
    {
     "name": "stdout",
     "output_type": "stream",
     "text": [
      "(33968, 1)\n"
     ]
    }
   ],
   "source": [
    "df = pd.read_csv('AlephBtag_MC_small_v2.csv', sep='seperator')\n",
    "\n",
    "# df = pd.DataFrame(data)\n",
    "\n",
    "print(np.shape(df))\n",
    "\n",
    "# split_data_1=df.str.split(' ',expand=True)\n",
    "# decision tree\n",
    "\n",
    "# Get data (with this very useful NumPy reader):\n",
    "data = np.genfromtxt('AlephBtag_MC_small_v2.csv', names=True)\n",
    "\n",
    "# Kinematics (energy and direction) of the jet:\n",
    "energy = data['energy']\n",
    "cTheta = data['cTheta']\n",
    "phi    = data['phi']\n",
    "\n",
    "# Classification variables (those used in Aleph's NN):\n",
    "prob_b = data['prob_b']\n",
    "spheri = data['spheri']\n",
    "pt2rel = data['pt2rel']\n",
    "multip = data['multip']\n",
    "bqvjet = data['bqvjet']\n",
    "ptlrel = data['ptlrel']\n",
    "\n",
    "# Aleph's NN score:\n",
    "nnbjet = data['nnbjet']\n",
    "\n",
    "# Truth variable whether it really was a b-jet or not (i.e. target)\n",
    "isb    = data['isb']\n",
    "\n",
    "# X = np.vstack((prob_b, spheri, pt2rel, ptlrel, multip, bqvjet))\n",
    "# df = pd.read_csv('AlephBtag_MC_small_v2.csv')\n",
    "\n",
    "# df.corr()\n",
    "# X = df.drop(columns='isb')\n",
    "\n",
    "# y = df['isb'].str.strip()\n",
    "\n",
    "# X.head(10)\n",
    "\n",
    "# X.head(10)\n"
   ]
  },
  {
   "cell_type": "code",
   "execution_count": 121,
   "metadata": {},
   "outputs": [
    {
     "ename": "AttributeError",
     "evalue": "'numpy.ndarray' object has no attribute 'columns'",
     "output_type": "error",
     "traceback": [
      "\u001b[1;31m---------------------------------------------------------------------------\u001b[0m",
      "\u001b[1;31mAttributeError\u001b[0m                            Traceback (most recent call last)",
      "\u001b[1;32mc:\\Users\\11638\\Documents\\BaiduNetdiskWorkspace\\学习\\Machine Learning\\APML2022 course\\AppliedML2022\\Week1\\feature_selection.ipynb Cell 3'\u001b[0m in \u001b[0;36m<cell line: 6>\u001b[1;34m()\u001b[0m\n\u001b[0;32m      <a href='vscode-notebook-cell:/c%3A/Users/11638/Documents/BaiduNetdiskWorkspace/%E5%AD%A6%E4%B9%A0/Machine%20Learning/APML2022%20course/AppliedML2022/Week1/feature_selection.ipynb#ch0000008?line=2'>3</a>\u001b[0m feature_name \u001b[39m=\u001b[39m [\u001b[39m'\u001b[39m\u001b[39menergy\u001b[39m\u001b[39m'\u001b[39m, \u001b[39m'\u001b[39m\u001b[39mcTheta\u001b[39m\u001b[39m'\u001b[39m, \u001b[39m'\u001b[39m\u001b[39mphi\u001b[39m\u001b[39m'\u001b[39m ,\u001b[39m'\u001b[39m\u001b[39mprob_b\u001b[39m\u001b[39m'\u001b[39m, \u001b[39m'\u001b[39m\u001b[39mspheri\u001b[39m\u001b[39m'\u001b[39m, \u001b[39m'\u001b[39m\u001b[39mpt2rel\u001b[39m\u001b[39m'\u001b[39m, \u001b[39m'\u001b[39m\u001b[39mptlrel\u001b[39m\u001b[39m'\u001b[39m, \u001b[39m'\u001b[39m\u001b[39mmultip\u001b[39m\u001b[39m'\u001b[39m, \u001b[39m'\u001b[39m\u001b[39mbqvjet\u001b[39m\u001b[39m'\u001b[39m, \u001b[39m'\u001b[39m\u001b[39mnnbjet\u001b[39m\u001b[39m'\u001b[39m]\n\u001b[0;32m      <a href='vscode-notebook-cell:/c%3A/Users/11638/Documents/BaiduNetdiskWorkspace/%E5%AD%A6%E4%B9%A0/Machine%20Learning/APML2022%20course/AppliedML2022/Week1/feature_selection.ipynb#ch0000008?line=4'>5</a>\u001b[0m X \u001b[39m=\u001b[39m np\u001b[39m.\u001b[39mvstack((prob_b, spheri, pt2rel, ptlrel, multip, bqvjet))\u001b[39m.\u001b[39mT\n\u001b[1;32m----> <a href='vscode-notebook-cell:/c%3A/Users/11638/Documents/BaiduNetdiskWorkspace/%E5%AD%A6%E4%B9%A0/Machine%20Learning/APML2022%20course/AppliedML2022/Week1/feature_selection.ipynb#ch0000008?line=5'>6</a>\u001b[0m X\u001b[39m.\u001b[39mcolumns \u001b[39m=\u001b[39m feature_name\n\u001b[0;32m      <a href='vscode-notebook-cell:/c%3A/Users/11638/Documents/BaiduNetdiskWorkspace/%E5%AD%A6%E4%B9%A0/Machine%20Learning/APML2022%20course/AppliedML2022/Week1/feature_selection.ipynb#ch0000008?line=7'>8</a>\u001b[0m y \u001b[39m=\u001b[39m isb\n\u001b[0;32m     <a href='vscode-notebook-cell:/c%3A/Users/11638/Documents/BaiduNetdiskWorkspace/%E5%AD%A6%E4%B9%A0/Machine%20Learning/APML2022%20course/AppliedML2022/Week1/feature_selection.ipynb#ch0000008?line=9'>10</a>\u001b[0m X_train, X_test, y_train, y_test \u001b[39m=\u001b[39m train_test_split(X, y, train_size\u001b[39m=\u001b[39m\u001b[39m0.8\u001b[39m, random_state\u001b[39m=\u001b[39m\u001b[39m42\u001b[39m)\n",
      "\u001b[1;31mAttributeError\u001b[0m: 'numpy.ndarray' object has no attribute 'columns'"
     ]
    }
   ],
   "source": [
    "# split data set\n",
    "\n",
    "feature_name = ['energy', 'cTheta', 'phi' ,'prob_b', 'spheri', 'pt2rel', 'ptlrel', 'multip', 'bqvjet', 'nnbjet']\n",
    "\n",
    "X = np.vstack((prob_b, spheri, pt2rel, ptlrel, multip, bqvjet)).T\n",
    "X.columns = feature_name\n",
    "\n",
    "y = isb\n",
    "\n",
    "X_train, X_test, y_train, y_test = train_test_split(X, y, train_size=0.8, random_state=42)"
   ]
  },
  {
   "cell_type": "code",
   "execution_count": null,
   "metadata": {},
   "outputs": [
    {
     "ename": "ValueError",
     "evalue": "could not convert string to float: '2  0.172'",
     "output_type": "error",
     "traceback": [
      "\u001b[1;31m---------------------------------------------------------------------------\u001b[0m",
      "\u001b[1;31mValueError\u001b[0m                                Traceback (most recent call last)",
      "\u001b[1;32mc:\\Users\\11638\\Documents\\BaiduNetdiskWorkspace\\学习\\Machine Learning\\APML2022 course\\AppliedML2022\\Week1\\feature_selection.ipynb Cell 4'\u001b[0m in \u001b[0;36m<cell line: 6>\u001b[1;34m()\u001b[0m\n\u001b[0;32m      <a href='vscode-notebook-cell:/c%3A/Users/11638/Documents/BaiduNetdiskWorkspace/%E5%AD%A6%E4%B9%A0/Machine%20Learning/APML2022%20course/AppliedML2022/Week1/feature_selection.ipynb#ch0000007?line=1'>2</a>\u001b[0m \u001b[39mimport\u001b[39;00m \u001b[39mshap\u001b[39;00m\n\u001b[0;32m      <a href='vscode-notebook-cell:/c%3A/Users/11638/Documents/BaiduNetdiskWorkspace/%E5%AD%A6%E4%B9%A0/Machine%20Learning/APML2022%20course/AppliedML2022/Week1/feature_selection.ipynb#ch0000007?line=3'>4</a>\u001b[0m clf \u001b[39m=\u001b[39m DecisionTreeClassifier()\n\u001b[1;32m----> <a href='vscode-notebook-cell:/c%3A/Users/11638/Documents/BaiduNetdiskWorkspace/%E5%AD%A6%E4%B9%A0/Machine%20Learning/APML2022%20course/AppliedML2022/Week1/feature_selection.ipynb#ch0000007?line=5'>6</a>\u001b[0m model \u001b[39m=\u001b[39m clf\u001b[39m.\u001b[39;49mfit(X_train, y_train)\n\u001b[0;32m      <a href='vscode-notebook-cell:/c%3A/Users/11638/Documents/BaiduNetdiskWorkspace/%E5%AD%A6%E4%B9%A0/Machine%20Learning/APML2022%20course/AppliedML2022/Week1/feature_selection.ipynb#ch0000007?line=7'>8</a>\u001b[0m y_pred \u001b[39m=\u001b[39m clf\u001b[39m.\u001b[39mpredict(X_test)\n\u001b[0;32m     <a href='vscode-notebook-cell:/c%3A/Users/11638/Documents/BaiduNetdiskWorkspace/%E5%AD%A6%E4%B9%A0/Machine%20Learning/APML2022%20course/AppliedML2022/Week1/feature_selection.ipynb#ch0000007?line=9'>10</a>\u001b[0m accuracy \u001b[39m=\u001b[39m accuracy_score(y_test, y_pred)\n",
      "File \u001b[1;32mc:\\Users\\11638\\anaconda3\\lib\\site-packages\\sklearn\\tree\\_classes.py:937\u001b[0m, in \u001b[0;36mDecisionTreeClassifier.fit\u001b[1;34m(self, X, y, sample_weight, check_input, X_idx_sorted)\u001b[0m\n\u001b[0;32m    <a href='file:///c%3A/Users/11638/anaconda3/lib/site-packages/sklearn/tree/_classes.py?line=898'>899</a>\u001b[0m \u001b[39mdef\u001b[39;00m \u001b[39mfit\u001b[39m(\n\u001b[0;32m    <a href='file:///c%3A/Users/11638/anaconda3/lib/site-packages/sklearn/tree/_classes.py?line=899'>900</a>\u001b[0m     \u001b[39mself\u001b[39m, X, y, sample_weight\u001b[39m=\u001b[39m\u001b[39mNone\u001b[39;00m, check_input\u001b[39m=\u001b[39m\u001b[39mTrue\u001b[39;00m, X_idx_sorted\u001b[39m=\u001b[39m\u001b[39m\"\u001b[39m\u001b[39mdeprecated\u001b[39m\u001b[39m\"\u001b[39m\n\u001b[0;32m    <a href='file:///c%3A/Users/11638/anaconda3/lib/site-packages/sklearn/tree/_classes.py?line=900'>901</a>\u001b[0m ):\n\u001b[0;32m    <a href='file:///c%3A/Users/11638/anaconda3/lib/site-packages/sklearn/tree/_classes.py?line=901'>902</a>\u001b[0m     \u001b[39m\"\"\"Build a decision tree classifier from the training set (X, y).\u001b[39;00m\n\u001b[0;32m    <a href='file:///c%3A/Users/11638/anaconda3/lib/site-packages/sklearn/tree/_classes.py?line=902'>903</a>\u001b[0m \n\u001b[0;32m    <a href='file:///c%3A/Users/11638/anaconda3/lib/site-packages/sklearn/tree/_classes.py?line=903'>904</a>\u001b[0m \u001b[39m    Parameters\u001b[39;00m\n\u001b[1;32m   (...)\u001b[0m\n\u001b[0;32m    <a href='file:///c%3A/Users/11638/anaconda3/lib/site-packages/sklearn/tree/_classes.py?line=933'>934</a>\u001b[0m \u001b[39m        Fitted estimator.\u001b[39;00m\n\u001b[0;32m    <a href='file:///c%3A/Users/11638/anaconda3/lib/site-packages/sklearn/tree/_classes.py?line=934'>935</a>\u001b[0m \u001b[39m    \"\"\"\u001b[39;00m\n\u001b[1;32m--> <a href='file:///c%3A/Users/11638/anaconda3/lib/site-packages/sklearn/tree/_classes.py?line=936'>937</a>\u001b[0m     \u001b[39msuper\u001b[39;49m()\u001b[39m.\u001b[39;49mfit(\n\u001b[0;32m    <a href='file:///c%3A/Users/11638/anaconda3/lib/site-packages/sklearn/tree/_classes.py?line=937'>938</a>\u001b[0m         X,\n\u001b[0;32m    <a href='file:///c%3A/Users/11638/anaconda3/lib/site-packages/sklearn/tree/_classes.py?line=938'>939</a>\u001b[0m         y,\n\u001b[0;32m    <a href='file:///c%3A/Users/11638/anaconda3/lib/site-packages/sklearn/tree/_classes.py?line=939'>940</a>\u001b[0m         sample_weight\u001b[39m=\u001b[39;49msample_weight,\n\u001b[0;32m    <a href='file:///c%3A/Users/11638/anaconda3/lib/site-packages/sklearn/tree/_classes.py?line=940'>941</a>\u001b[0m         check_input\u001b[39m=\u001b[39;49mcheck_input,\n\u001b[0;32m    <a href='file:///c%3A/Users/11638/anaconda3/lib/site-packages/sklearn/tree/_classes.py?line=941'>942</a>\u001b[0m         X_idx_sorted\u001b[39m=\u001b[39;49mX_idx_sorted,\n\u001b[0;32m    <a href='file:///c%3A/Users/11638/anaconda3/lib/site-packages/sklearn/tree/_classes.py?line=942'>943</a>\u001b[0m     )\n\u001b[0;32m    <a href='file:///c%3A/Users/11638/anaconda3/lib/site-packages/sklearn/tree/_classes.py?line=943'>944</a>\u001b[0m     \u001b[39mreturn\u001b[39;00m \u001b[39mself\u001b[39m\n",
      "File \u001b[1;32mc:\\Users\\11638\\anaconda3\\lib\\site-packages\\sklearn\\tree\\_classes.py:165\u001b[0m, in \u001b[0;36mBaseDecisionTree.fit\u001b[1;34m(self, X, y, sample_weight, check_input, X_idx_sorted)\u001b[0m\n\u001b[0;32m    <a href='file:///c%3A/Users/11638/anaconda3/lib/site-packages/sklearn/tree/_classes.py?line=162'>163</a>\u001b[0m check_X_params \u001b[39m=\u001b[39m \u001b[39mdict\u001b[39m(dtype\u001b[39m=\u001b[39mDTYPE, accept_sparse\u001b[39m=\u001b[39m\u001b[39m\"\u001b[39m\u001b[39mcsc\u001b[39m\u001b[39m\"\u001b[39m)\n\u001b[0;32m    <a href='file:///c%3A/Users/11638/anaconda3/lib/site-packages/sklearn/tree/_classes.py?line=163'>164</a>\u001b[0m check_y_params \u001b[39m=\u001b[39m \u001b[39mdict\u001b[39m(ensure_2d\u001b[39m=\u001b[39m\u001b[39mFalse\u001b[39;00m, dtype\u001b[39m=\u001b[39m\u001b[39mNone\u001b[39;00m)\n\u001b[1;32m--> <a href='file:///c%3A/Users/11638/anaconda3/lib/site-packages/sklearn/tree/_classes.py?line=164'>165</a>\u001b[0m X, y \u001b[39m=\u001b[39m \u001b[39mself\u001b[39;49m\u001b[39m.\u001b[39;49m_validate_data(\n\u001b[0;32m    <a href='file:///c%3A/Users/11638/anaconda3/lib/site-packages/sklearn/tree/_classes.py?line=165'>166</a>\u001b[0m     X, y, validate_separately\u001b[39m=\u001b[39;49m(check_X_params, check_y_params)\n\u001b[0;32m    <a href='file:///c%3A/Users/11638/anaconda3/lib/site-packages/sklearn/tree/_classes.py?line=166'>167</a>\u001b[0m )\n\u001b[0;32m    <a href='file:///c%3A/Users/11638/anaconda3/lib/site-packages/sklearn/tree/_classes.py?line=167'>168</a>\u001b[0m \u001b[39mif\u001b[39;00m issparse(X):\n\u001b[0;32m    <a href='file:///c%3A/Users/11638/anaconda3/lib/site-packages/sklearn/tree/_classes.py?line=168'>169</a>\u001b[0m     X\u001b[39m.\u001b[39msort_indices()\n",
      "File \u001b[1;32mc:\\Users\\11638\\anaconda3\\lib\\site-packages\\sklearn\\base.py:578\u001b[0m, in \u001b[0;36mBaseEstimator._validate_data\u001b[1;34m(self, X, y, reset, validate_separately, **check_params)\u001b[0m\n\u001b[0;32m    <a href='file:///c%3A/Users/11638/anaconda3/lib/site-packages/sklearn/base.py?line=571'>572</a>\u001b[0m \u001b[39mif\u001b[39;00m validate_separately:\n\u001b[0;32m    <a href='file:///c%3A/Users/11638/anaconda3/lib/site-packages/sklearn/base.py?line=572'>573</a>\u001b[0m     \u001b[39m# We need this because some estimators validate X and y\u001b[39;00m\n\u001b[0;32m    <a href='file:///c%3A/Users/11638/anaconda3/lib/site-packages/sklearn/base.py?line=573'>574</a>\u001b[0m     \u001b[39m# separately, and in general, separately calling check_array()\u001b[39;00m\n\u001b[0;32m    <a href='file:///c%3A/Users/11638/anaconda3/lib/site-packages/sklearn/base.py?line=574'>575</a>\u001b[0m     \u001b[39m# on X and y isn't equivalent to just calling check_X_y()\u001b[39;00m\n\u001b[0;32m    <a href='file:///c%3A/Users/11638/anaconda3/lib/site-packages/sklearn/base.py?line=575'>576</a>\u001b[0m     \u001b[39m# :(\u001b[39;00m\n\u001b[0;32m    <a href='file:///c%3A/Users/11638/anaconda3/lib/site-packages/sklearn/base.py?line=576'>577</a>\u001b[0m     check_X_params, check_y_params \u001b[39m=\u001b[39m validate_separately\n\u001b[1;32m--> <a href='file:///c%3A/Users/11638/anaconda3/lib/site-packages/sklearn/base.py?line=577'>578</a>\u001b[0m     X \u001b[39m=\u001b[39m check_array(X, \u001b[39m*\u001b[39m\u001b[39m*\u001b[39mcheck_X_params)\n\u001b[0;32m    <a href='file:///c%3A/Users/11638/anaconda3/lib/site-packages/sklearn/base.py?line=578'>579</a>\u001b[0m     y \u001b[39m=\u001b[39m check_array(y, \u001b[39m*\u001b[39m\u001b[39m*\u001b[39mcheck_y_params)\n\u001b[0;32m    <a href='file:///c%3A/Users/11638/anaconda3/lib/site-packages/sklearn/base.py?line=579'>580</a>\u001b[0m \u001b[39melse\u001b[39;00m:\n",
      "File \u001b[1;32mc:\\Users\\11638\\anaconda3\\lib\\site-packages\\sklearn\\utils\\validation.py:746\u001b[0m, in \u001b[0;36mcheck_array\u001b[1;34m(array, accept_sparse, accept_large_sparse, dtype, order, copy, force_all_finite, ensure_2d, allow_nd, ensure_min_samples, ensure_min_features, estimator)\u001b[0m\n\u001b[0;32m    <a href='file:///c%3A/Users/11638/anaconda3/lib/site-packages/sklearn/utils/validation.py?line=743'>744</a>\u001b[0m         array \u001b[39m=\u001b[39m array\u001b[39m.\u001b[39mastype(dtype, casting\u001b[39m=\u001b[39m\u001b[39m\"\u001b[39m\u001b[39munsafe\u001b[39m\u001b[39m\"\u001b[39m, copy\u001b[39m=\u001b[39m\u001b[39mFalse\u001b[39;00m)\n\u001b[0;32m    <a href='file:///c%3A/Users/11638/anaconda3/lib/site-packages/sklearn/utils/validation.py?line=744'>745</a>\u001b[0m     \u001b[39melse\u001b[39;00m:\n\u001b[1;32m--> <a href='file:///c%3A/Users/11638/anaconda3/lib/site-packages/sklearn/utils/validation.py?line=745'>746</a>\u001b[0m         array \u001b[39m=\u001b[39m np\u001b[39m.\u001b[39;49masarray(array, order\u001b[39m=\u001b[39;49morder, dtype\u001b[39m=\u001b[39;49mdtype)\n\u001b[0;32m    <a href='file:///c%3A/Users/11638/anaconda3/lib/site-packages/sklearn/utils/validation.py?line=746'>747</a>\u001b[0m \u001b[39mexcept\u001b[39;00m ComplexWarning \u001b[39mas\u001b[39;00m complex_warning:\n\u001b[0;32m    <a href='file:///c%3A/Users/11638/anaconda3/lib/site-packages/sklearn/utils/validation.py?line=747'>748</a>\u001b[0m     \u001b[39mraise\u001b[39;00m \u001b[39mValueError\u001b[39;00m(\n\u001b[0;32m    <a href='file:///c%3A/Users/11638/anaconda3/lib/site-packages/sklearn/utils/validation.py?line=748'>749</a>\u001b[0m         \u001b[39m\"\u001b[39m\u001b[39mComplex data not supported\u001b[39m\u001b[39m\\n\u001b[39;00m\u001b[39m{}\u001b[39;00m\u001b[39m\\n\u001b[39;00m\u001b[39m\"\u001b[39m\u001b[39m.\u001b[39mformat(array)\n\u001b[0;32m    <a href='file:///c%3A/Users/11638/anaconda3/lib/site-packages/sklearn/utils/validation.py?line=749'>750</a>\u001b[0m     ) \u001b[39mfrom\u001b[39;00m \u001b[39mcomplex_warning\u001b[39;00m\n",
      "File \u001b[1;32mc:\\Users\\11638\\anaconda3\\lib\\site-packages\\pandas\\core\\generic.py:2064\u001b[0m, in \u001b[0;36mNDFrame.__array__\u001b[1;34m(self, dtype)\u001b[0m\n\u001b[0;32m   <a href='file:///c%3A/Users/11638/anaconda3/lib/site-packages/pandas/core/generic.py?line=2062'>2063</a>\u001b[0m \u001b[39mdef\u001b[39;00m \u001b[39m__array__\u001b[39m(\u001b[39mself\u001b[39m, dtype: npt\u001b[39m.\u001b[39mDTypeLike \u001b[39m|\u001b[39m \u001b[39mNone\u001b[39;00m \u001b[39m=\u001b[39m \u001b[39mNone\u001b[39;00m) \u001b[39m-\u001b[39m\u001b[39m>\u001b[39m np\u001b[39m.\u001b[39mndarray:\n\u001b[1;32m-> <a href='file:///c%3A/Users/11638/anaconda3/lib/site-packages/pandas/core/generic.py?line=2063'>2064</a>\u001b[0m     \u001b[39mreturn\u001b[39;00m np\u001b[39m.\u001b[39;49masarray(\u001b[39mself\u001b[39;49m\u001b[39m.\u001b[39;49m_values, dtype\u001b[39m=\u001b[39;49mdtype)\n",
      "\u001b[1;31mValueError\u001b[0m: could not convert string to float: '2  0.172'"
     ]
    }
   ],
   "source": [
    "# decision tree\n",
    "import shap\n",
    "\n",
    "clf = DecisionTreeClassifier()\n",
    "\n",
    "model = clf.fit(X_train, y_train)\n",
    "\n",
    "y_pred = clf.predict(X_test)\n",
    "\n",
    "accuracy = accuracy_score(y_test, y_pred)\n",
    "\n",
    "print(f'Basic decision tree accuracy is: {accuracy}')\n",
    "\n",
    "explainer = shap.Explainer(model.predict, X_test)\n",
    "# shap_values = explainer(X_train)\n",
    "shap_values = explainer(X_test)\n",
    "# print(shap_values)\n",
    "shap.plots.bar(shap_values)\n"
   ]
  },
  {
   "cell_type": "code",
   "execution_count": null,
   "metadata": {},
   "outputs": [
    {
     "name": "stderr",
     "output_type": "stream",
     "text": [
      "Exact explainer:   6%|▋         | 431/6794 [00:21<07:55, 13.38it/s]\n",
      "\"is\" with a literal. Did you mean \"==\"?\n",
      "\"is\" with a literal. Did you mean \"==\"?\n",
      "\"is\" with a literal. Did you mean \"==\"?\n",
      "\"is\" with a literal. Did you mean \"==\"?\n",
      "\"is\" with a literal. Did you mean \"==\"?\n",
      "\"is\" with a literal. Did you mean \"==\"?\n",
      "\"is\" with a literal. Did you mean \"==\"?\n",
      "\"is\" with a literal. Did you mean \"==\"?\n",
      "\"is\" with a literal. Did you mean \"==\"?\n",
      "\"is\" with a literal. Did you mean \"==\"?\n",
      "\"is\" with a literal. Did you mean \"==\"?\n",
      "\"is\" with a literal. Did you mean \"==\"?\n",
      "\"is\" with a literal. Did you mean \"==\"?\n",
      "\"is\" with a literal. Did you mean \"==\"?\n",
      "\"is\" with a literal. Did you mean \"==\"?\n",
      "\"is\" with a literal. Did you mean \"==\"?\n",
      "\"is\" with a literal. Did you mean \"==\"?\n",
      "\"is\" with a literal. Did you mean \"==\"?\n",
      "\"is\" with a literal. Did you mean \"==\"?\n",
      "\"is\" with a literal. Did you mean \"==\"?\n"
     ]
    },
    {
     "ename": "KeyboardInterrupt",
     "evalue": "",
     "output_type": "error",
     "traceback": [
      "\u001b[1;31m---------------------------------------------------------------------------\u001b[0m",
      "\u001b[1;31mKeyboardInterrupt\u001b[0m                         Traceback (most recent call last)",
      "\u001b[1;32mc:\\Users\\11638\\Documents\\BaiduNetdiskWorkspace\\学习\\Machine Learning\\APML2022 course\\AppliedML2022\\Week1\\feature_selection.ipynb Cell 6'\u001b[0m in \u001b[0;36m<cell line: 5>\u001b[1;34m()\u001b[0m\n\u001b[0;32m      <a href='vscode-notebook-cell:/c%3A/Users/11638/Documents/BaiduNetdiskWorkspace/%E5%AD%A6%E4%B9%A0/Machine%20Learning/APML2022%20course/AppliedML2022/Week1/feature_selection.ipynb#ch0000004?line=2'>3</a>\u001b[0m explainer \u001b[39m=\u001b[39m shap\u001b[39m.\u001b[39mExplainer(model\u001b[39m.\u001b[39mpredict, X_test)\n\u001b[0;32m      <a href='vscode-notebook-cell:/c%3A/Users/11638/Documents/BaiduNetdiskWorkspace/%E5%AD%A6%E4%B9%A0/Machine%20Learning/APML2022%20course/AppliedML2022/Week1/feature_selection.ipynb#ch0000004?line=3'>4</a>\u001b[0m \u001b[39m# shap_values = explainer(X_train)\u001b[39;00m\n\u001b[1;32m----> <a href='vscode-notebook-cell:/c%3A/Users/11638/Documents/BaiduNetdiskWorkspace/%E5%AD%A6%E4%B9%A0/Machine%20Learning/APML2022%20course/AppliedML2022/Week1/feature_selection.ipynb#ch0000004?line=4'>5</a>\u001b[0m shap_values \u001b[39m=\u001b[39m explainer(X_test)\n\u001b[0;32m      <a href='vscode-notebook-cell:/c%3A/Users/11638/Documents/BaiduNetdiskWorkspace/%E5%AD%A6%E4%B9%A0/Machine%20Learning/APML2022%20course/AppliedML2022/Week1/feature_selection.ipynb#ch0000004?line=5'>6</a>\u001b[0m \u001b[39m# print(shap_values)\u001b[39;00m\n\u001b[0;32m      <a href='vscode-notebook-cell:/c%3A/Users/11638/Documents/BaiduNetdiskWorkspace/%E5%AD%A6%E4%B9%A0/Machine%20Learning/APML2022%20course/AppliedML2022/Week1/feature_selection.ipynb#ch0000004?line=6'>7</a>\u001b[0m shap\u001b[39m.\u001b[39mplots\u001b[39m.\u001b[39mbar(shap_values)\n",
      "File \u001b[1;32mc:\\Users\\11638\\anaconda3\\lib\\site-packages\\shap\\explainers\\_exact.py:69\u001b[0m, in \u001b[0;36mExact.__call__\u001b[1;34m(self, max_evals, main_effects, error_bounds, batch_size, interactions, silent, *args)\u001b[0m\n\u001b[0;32m     <a href='file:///c%3A/Users/11638/anaconda3/lib/site-packages/shap/explainers/_exact.py?line=63'>64</a>\u001b[0m \u001b[39m\"\"\" Explains the output of model(*args), where args represents one or more parallel iterators.\u001b[39;00m\n\u001b[0;32m     <a href='file:///c%3A/Users/11638/anaconda3/lib/site-packages/shap/explainers/_exact.py?line=64'>65</a>\u001b[0m \u001b[39m\"\"\"\u001b[39;00m\n\u001b[0;32m     <a href='file:///c%3A/Users/11638/anaconda3/lib/site-packages/shap/explainers/_exact.py?line=66'>67</a>\u001b[0m \u001b[39m# we entirely rely on the general call implementation, we override just to remove **kwargs\u001b[39;00m\n\u001b[0;32m     <a href='file:///c%3A/Users/11638/anaconda3/lib/site-packages/shap/explainers/_exact.py?line=67'>68</a>\u001b[0m \u001b[39m# from the function signature\u001b[39;00m\n\u001b[1;32m---> <a href='file:///c%3A/Users/11638/anaconda3/lib/site-packages/shap/explainers/_exact.py?line=68'>69</a>\u001b[0m \u001b[39mreturn\u001b[39;00m \u001b[39msuper\u001b[39;49m(Exact, \u001b[39mself\u001b[39;49m)\u001b[39m.\u001b[39;49m\u001b[39m__call__\u001b[39;49m(\n\u001b[0;32m     <a href='file:///c%3A/Users/11638/anaconda3/lib/site-packages/shap/explainers/_exact.py?line=69'>70</a>\u001b[0m     \u001b[39m*\u001b[39;49margs, max_evals\u001b[39m=\u001b[39;49mmax_evals, main_effects\u001b[39m=\u001b[39;49mmain_effects, error_bounds\u001b[39m=\u001b[39;49merror_bounds,\n\u001b[0;32m     <a href='file:///c%3A/Users/11638/anaconda3/lib/site-packages/shap/explainers/_exact.py?line=70'>71</a>\u001b[0m     batch_size\u001b[39m=\u001b[39;49mbatch_size, interactions\u001b[39m=\u001b[39;49minteractions, silent\u001b[39m=\u001b[39;49msilent\n\u001b[0;32m     <a href='file:///c%3A/Users/11638/anaconda3/lib/site-packages/shap/explainers/_exact.py?line=71'>72</a>\u001b[0m )\n",
      "File \u001b[1;32mc:\\Users\\11638\\anaconda3\\lib\\site-packages\\shap\\explainers\\_explainer.py:258\u001b[0m, in \u001b[0;36mExplainer.__call__\u001b[1;34m(self, max_evals, main_effects, error_bounds, batch_size, outputs, silent, *args, **kwargs)\u001b[0m\n\u001b[0;32m    <a href='file:///c%3A/Users/11638/anaconda3/lib/site-packages/shap/explainers/_explainer.py?line=255'>256</a>\u001b[0m     feature_names \u001b[39m=\u001b[39m [[] \u001b[39mfor\u001b[39;00m _ \u001b[39min\u001b[39;00m \u001b[39mrange\u001b[39m(\u001b[39mlen\u001b[39m(args))]\n\u001b[0;32m    <a href='file:///c%3A/Users/11638/anaconda3/lib/site-packages/shap/explainers/_explainer.py?line=256'>257</a>\u001b[0m \u001b[39mfor\u001b[39;00m row_args \u001b[39min\u001b[39;00m show_progress(\u001b[39mzip\u001b[39m(\u001b[39m*\u001b[39margs), num_rows, \u001b[39mself\u001b[39m\u001b[39m.\u001b[39m\u001b[39m__class__\u001b[39m\u001b[39m.\u001b[39m\u001b[39m__name__\u001b[39m\u001b[39m+\u001b[39m\u001b[39m\"\u001b[39m\u001b[39m explainer\u001b[39m\u001b[39m\"\u001b[39m, silent):\n\u001b[1;32m--> <a href='file:///c%3A/Users/11638/anaconda3/lib/site-packages/shap/explainers/_explainer.py?line=257'>258</a>\u001b[0m     row_result \u001b[39m=\u001b[39m \u001b[39mself\u001b[39m\u001b[39m.\u001b[39mexplain_row(\n\u001b[0;32m    <a href='file:///c%3A/Users/11638/anaconda3/lib/site-packages/shap/explainers/_explainer.py?line=258'>259</a>\u001b[0m         \u001b[39m*\u001b[39mrow_args, max_evals\u001b[39m=\u001b[39mmax_evals, main_effects\u001b[39m=\u001b[39mmain_effects, error_bounds\u001b[39m=\u001b[39merror_bounds,\n\u001b[0;32m    <a href='file:///c%3A/Users/11638/anaconda3/lib/site-packages/shap/explainers/_explainer.py?line=259'>260</a>\u001b[0m         batch_size\u001b[39m=\u001b[39mbatch_size, outputs\u001b[39m=\u001b[39moutputs, silent\u001b[39m=\u001b[39msilent, \u001b[39m*\u001b[39m\u001b[39m*\u001b[39mkwargs\n\u001b[0;32m    <a href='file:///c%3A/Users/11638/anaconda3/lib/site-packages/shap/explainers/_explainer.py?line=260'>261</a>\u001b[0m     )\n\u001b[0;32m    <a href='file:///c%3A/Users/11638/anaconda3/lib/site-packages/shap/explainers/_explainer.py?line=261'>262</a>\u001b[0m     values\u001b[39m.\u001b[39mappend(row_result\u001b[39m.\u001b[39mget(\u001b[39m\"\u001b[39m\u001b[39mvalues\u001b[39m\u001b[39m\"\u001b[39m, \u001b[39mNone\u001b[39;00m))\n\u001b[0;32m    <a href='file:///c%3A/Users/11638/anaconda3/lib/site-packages/shap/explainers/_explainer.py?line=262'>263</a>\u001b[0m     output_indices\u001b[39m.\u001b[39mappend(row_result\u001b[39m.\u001b[39mget(\u001b[39m\"\u001b[39m\u001b[39moutput_indices\u001b[39m\u001b[39m\"\u001b[39m, \u001b[39mNone\u001b[39;00m))\n",
      "File \u001b[1;32mc:\\Users\\11638\\anaconda3\\lib\\site-packages\\shap\\explainers\\_exact.py:113\u001b[0m, in \u001b[0;36mExact.explain_row\u001b[1;34m(self, max_evals, main_effects, error_bounds, batch_size, outputs, interactions, silent, *row_args)\u001b[0m\n\u001b[0;32m    <a href='file:///c%3A/Users/11638/anaconda3/lib/site-packages/shap/explainers/_exact.py?line=109'>110</a>\u001b[0m         extended_delta_indexes[i] \u001b[39m=\u001b[39m inds[delta_indexes[i]]\n\u001b[0;32m    <a href='file:///c%3A/Users/11638/anaconda3/lib/site-packages/shap/explainers/_exact.py?line=111'>112</a>\u001b[0m \u001b[39m# run the model\u001b[39;00m\n\u001b[1;32m--> <a href='file:///c%3A/Users/11638/anaconda3/lib/site-packages/shap/explainers/_exact.py?line=112'>113</a>\u001b[0m outputs \u001b[39m=\u001b[39m fm(extended_delta_indexes, zero_index\u001b[39m=\u001b[39;49m\u001b[39m0\u001b[39;49m, batch_size\u001b[39m=\u001b[39;49mbatch_size)\n\u001b[0;32m    <a href='file:///c%3A/Users/11638/anaconda3/lib/site-packages/shap/explainers/_exact.py?line=114'>115</a>\u001b[0m \u001b[39m# Shapley values\u001b[39;00m\n\u001b[0;32m    <a href='file:///c%3A/Users/11638/anaconda3/lib/site-packages/shap/explainers/_exact.py?line=115'>116</a>\u001b[0m \u001b[39mif\u001b[39;00m interactions \u001b[39mis\u001b[39;00m \u001b[39mFalse\u001b[39;00m \u001b[39mor\u001b[39;00m interactions \u001b[39mis\u001b[39;00m \u001b[39m1\u001b[39m: \u001b[39m# pylint: disable=literal-comparison\u001b[39;00m\n\u001b[0;32m    <a href='file:///c%3A/Users/11638/anaconda3/lib/site-packages/shap/explainers/_exact.py?line=116'>117</a>\u001b[0m \n\u001b[0;32m    <a href='file:///c%3A/Users/11638/anaconda3/lib/site-packages/shap/explainers/_exact.py?line=117'>118</a>\u001b[0m     \u001b[39m# loop over all the outputs to update the rows\u001b[39;00m\n",
      "File \u001b[1;32mc:\\Users\\11638\\anaconda3\\lib\\site-packages\\shap\\utils\\_masked_model.py:57\u001b[0m, in \u001b[0;36mMaskedModel.__call__\u001b[1;34m(self, masks, zero_index, batch_size)\u001b[0m\n\u001b[0;32m     <a href='file:///c%3A/Users/11638/anaconda3/lib/site-packages/shap/utils/_masked_model.py?line=54'>55</a>\u001b[0m \u001b[39mif\u001b[39;00m \u001b[39mlen\u001b[39m(masks\u001b[39m.\u001b[39mshape) \u001b[39m==\u001b[39m \u001b[39m1\u001b[39m:\n\u001b[0;32m     <a href='file:///c%3A/Users/11638/anaconda3/lib/site-packages/shap/utils/_masked_model.py?line=55'>56</a>\u001b[0m     \u001b[39mif\u001b[39;00m \u001b[39mgetattr\u001b[39m(\u001b[39mself\u001b[39m\u001b[39m.\u001b[39mmasker, \u001b[39m\"\u001b[39m\u001b[39msupports_delta_masking\u001b[39m\u001b[39m\"\u001b[39m, \u001b[39mFalse\u001b[39;00m):\n\u001b[1;32m---> <a href='file:///c%3A/Users/11638/anaconda3/lib/site-packages/shap/utils/_masked_model.py?line=56'>57</a>\u001b[0m         \u001b[39mreturn\u001b[39;00m \u001b[39mself\u001b[39;49m\u001b[39m.\u001b[39;49m_delta_masking_call(masks, zero_index\u001b[39m=\u001b[39;49mzero_index, batch_size\u001b[39m=\u001b[39;49mbatch_size)\n\u001b[0;32m     <a href='file:///c%3A/Users/11638/anaconda3/lib/site-packages/shap/utils/_masked_model.py?line=58'>59</a>\u001b[0m     \u001b[39m# we need to convert from delta masking to a full masking call because we were given a delta masking\u001b[39;00m\n\u001b[0;32m     <a href='file:///c%3A/Users/11638/anaconda3/lib/site-packages/shap/utils/_masked_model.py?line=59'>60</a>\u001b[0m     \u001b[39m# input but the masker does not support delta masking\u001b[39;00m\n\u001b[0;32m     <a href='file:///c%3A/Users/11638/anaconda3/lib/site-packages/shap/utils/_masked_model.py?line=60'>61</a>\u001b[0m     \u001b[39melse\u001b[39;00m: \n\u001b[0;32m     <a href='file:///c%3A/Users/11638/anaconda3/lib/site-packages/shap/utils/_masked_model.py?line=61'>62</a>\u001b[0m         full_masks \u001b[39m=\u001b[39m np\u001b[39m.\u001b[39mzeros((\u001b[39mint\u001b[39m(np\u001b[39m.\u001b[39msum(masks \u001b[39m>\u001b[39m\u001b[39m=\u001b[39m \u001b[39m0\u001b[39m)), \u001b[39mself\u001b[39m\u001b[39m.\u001b[39m_masker_cols), dtype\u001b[39m=\u001b[39mnp\u001b[39m.\u001b[39mbool)\n",
      "File \u001b[1;32mc:\\Users\\11638\\anaconda3\\lib\\site-packages\\shap\\utils\\_masked_model.py:199\u001b[0m, in \u001b[0;36mMaskedModel._delta_masking_call\u001b[1;34m(self, masks, zero_index, batch_size)\u001b[0m\n\u001b[0;32m    <a href='file:///c%3A/Users/11638/anaconda3/lib/site-packages/shap/utils/_masked_model.py?line=195'>196</a>\u001b[0m     batch_positions[i\u001b[39m+\u001b[39m\u001b[39m1\u001b[39m] \u001b[39m=\u001b[39m batch_positions[i] \u001b[39m+\u001b[39m num_varying_rows[i]\n\u001b[0;32m    <a href='file:///c%3A/Users/11638/anaconda3/lib/site-packages/shap/utils/_masked_model.py?line=197'>198</a>\u001b[0m \u001b[39m# joined_masked_inputs = self._stack_inputs(all_masked_inputs)\u001b[39;00m\n\u001b[1;32m--> <a href='file:///c%3A/Users/11638/anaconda3/lib/site-packages/shap/utils/_masked_model.py?line=198'>199</a>\u001b[0m outputs \u001b[39m=\u001b[39m \u001b[39mself\u001b[39;49m\u001b[39m.\u001b[39;49mmodel(\u001b[39m*\u001b[39;49msubset_masked_inputs)\n\u001b[0;32m    <a href='file:///c%3A/Users/11638/anaconda3/lib/site-packages/shap/utils/_masked_model.py?line=199'>200</a>\u001b[0m _assert_output_input_match(subset_masked_inputs, outputs)\n\u001b[0;32m    <a href='file:///c%3A/Users/11638/anaconda3/lib/site-packages/shap/utils/_masked_model.py?line=201'>202</a>\u001b[0m \u001b[39mif\u001b[39;00m \u001b[39mself\u001b[39m\u001b[39m.\u001b[39mlinearize_link \u001b[39mand\u001b[39;00m \u001b[39mself\u001b[39m\u001b[39m.\u001b[39mlink \u001b[39m!=\u001b[39m links\u001b[39m.\u001b[39midentity \u001b[39mand\u001b[39;00m \u001b[39mself\u001b[39m\u001b[39m.\u001b[39m_linearizing_weights \u001b[39mis\u001b[39;00m \u001b[39mNone\u001b[39;00m:\n",
      "File \u001b[1;32mc:\\Users\\11638\\anaconda3\\lib\\site-packages\\shap\\models\\_model.py:21\u001b[0m, in \u001b[0;36mModel.__call__\u001b[1;34m(self, *args)\u001b[0m\n\u001b[0;32m     <a href='file:///c%3A/Users/11638/anaconda3/lib/site-packages/shap/models/_model.py?line=19'>20</a>\u001b[0m \u001b[39mdef\u001b[39;00m \u001b[39m__call__\u001b[39m(\u001b[39mself\u001b[39m, \u001b[39m*\u001b[39margs):\n\u001b[1;32m---> <a href='file:///c%3A/Users/11638/anaconda3/lib/site-packages/shap/models/_model.py?line=20'>21</a>\u001b[0m     \u001b[39mreturn\u001b[39;00m np\u001b[39m.\u001b[39marray(\u001b[39mself\u001b[39;49m\u001b[39m.\u001b[39;49minner_model(\u001b[39m*\u001b[39;49margs))\n",
      "File \u001b[1;32mc:\\Users\\11638\\anaconda3\\lib\\site-packages\\sklearn\\tree\\_classes.py:468\u001b[0m, in \u001b[0;36mBaseDecisionTree.predict\u001b[1;34m(self, X, check_input)\u001b[0m\n\u001b[0;32m    <a href='file:///c%3A/Users/11638/anaconda3/lib/site-packages/sklearn/tree/_classes.py?line=465'>466</a>\u001b[0m check_is_fitted(\u001b[39mself\u001b[39m)\n\u001b[0;32m    <a href='file:///c%3A/Users/11638/anaconda3/lib/site-packages/sklearn/tree/_classes.py?line=466'>467</a>\u001b[0m X \u001b[39m=\u001b[39m \u001b[39mself\u001b[39m\u001b[39m.\u001b[39m_validate_X_predict(X, check_input)\n\u001b[1;32m--> <a href='file:///c%3A/Users/11638/anaconda3/lib/site-packages/sklearn/tree/_classes.py?line=467'>468</a>\u001b[0m proba \u001b[39m=\u001b[39m \u001b[39mself\u001b[39;49m\u001b[39m.\u001b[39;49mtree_\u001b[39m.\u001b[39;49mpredict(X)\n\u001b[0;32m    <a href='file:///c%3A/Users/11638/anaconda3/lib/site-packages/sklearn/tree/_classes.py?line=468'>469</a>\u001b[0m n_samples \u001b[39m=\u001b[39m X\u001b[39m.\u001b[39mshape[\u001b[39m0\u001b[39m]\n\u001b[0;32m    <a href='file:///c%3A/Users/11638/anaconda3/lib/site-packages/sklearn/tree/_classes.py?line=470'>471</a>\u001b[0m \u001b[39m# Classification\u001b[39;00m\n",
      "\u001b[1;31mKeyboardInterrupt\u001b[0m: "
     ]
    }
   ],
   "source": [
    "import shap\n",
    "\n",
    "explainer = shap.Explainer(model.predict, X_test)\n",
    "# shap_values = explainer(X_train)\n",
    "shap_values = explainer(X_test)\n",
    "# print(shap_values)\n",
    "shap.plots.bar(shap_values)"
   ]
  }
 ],
 "metadata": {
  "interpreter": {
   "hash": "36c7fefa4e8b2876ba3e52fac3ee050cc39086e57b8e52f7f154d3363864abfe"
  },
  "kernelspec": {
   "display_name": "Python 3.9.12 ('base')",
   "language": "python",
   "name": "python3"
  },
  "language_info": {
   "codemirror_mode": {
    "name": "ipython",
    "version": 3
   },
   "file_extension": ".py",
   "mimetype": "text/x-python",
   "name": "python",
   "nbconvert_exporter": "python",
   "pygments_lexer": "ipython3",
   "version": "3.9.12"
  },
  "orig_nbformat": 4
 },
 "nbformat": 4,
 "nbformat_minor": 2
}
